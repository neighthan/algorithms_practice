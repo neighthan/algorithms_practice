{
 "cells": [
  {
   "cell_type": "markdown",
   "metadata": {
    "deletable": true,
    "editable": true,
    "run_control": {
     "frozen": false,
     "read_only": false
    },
    "toc": "true"
   },
   "source": [
    "# Table of Contents\n",
    " <p><div class=\"lev1 toc-item\"><a href=\"#Overview\" data-toc-modified-id=\"Overview-1\"><span class=\"toc-item-num\">1&nbsp;&nbsp;</span>Overview</a></div><div class=\"lev1 toc-item\"><a href=\"#Algorithms\" data-toc-modified-id=\"Algorithms-2\"><span class=\"toc-item-num\">2&nbsp;&nbsp;</span>Algorithms</a></div><div class=\"lev2 toc-item\"><a href=\"#Insert-Sort\" data-toc-modified-id=\"Insert-Sort-21\"><span class=\"toc-item-num\">2.1&nbsp;&nbsp;</span>Insert Sort</a></div><div class=\"lev2 toc-item\"><a href=\"#Select-Sort\" data-toc-modified-id=\"Select-Sort-22\"><span class=\"toc-item-num\">2.2&nbsp;&nbsp;</span>Select Sort</a></div><div class=\"lev2 toc-item\"><a href=\"#Merge-Sort\" data-toc-modified-id=\"Merge-Sort-23\"><span class=\"toc-item-num\">2.3&nbsp;&nbsp;</span>Merge Sort</a></div><div class=\"lev2 toc-item\"><a href=\"#Count-Sort\" data-toc-modified-id=\"Count-Sort-24\"><span class=\"toc-item-num\">2.4&nbsp;&nbsp;</span>Count Sort</a></div><div class=\"lev2 toc-item\"><a href=\"#Radix-Sort\" data-toc-modified-id=\"Radix-Sort-25\"><span class=\"toc-item-num\">2.5&nbsp;&nbsp;</span>Radix Sort</a></div><div class=\"lev2 toc-item\"><a href=\"#Runtime-Comparison\" data-toc-modified-id=\"Runtime-Comparison-26\"><span class=\"toc-item-num\">2.6&nbsp;&nbsp;</span>Runtime Comparison</a></div><div class=\"lev1 toc-item\"><a href=\"#Implementation-Tips\" data-toc-modified-id=\"Implementation-Tips-3\"><span class=\"toc-item-num\">3&nbsp;&nbsp;</span>Implementation Tips</a></div><div class=\"lev1 toc-item\"><a href=\"#Conclusion\" data-toc-modified-id=\"Conclusion-4\"><span class=\"toc-item-num\">4&nbsp;&nbsp;</span>Conclusion</a></div><div class=\"lev1 toc-item\"><a href=\"#Bonus-Material\" data-toc-modified-id=\"Bonus-Material-5\"><span class=\"toc-item-num\">5&nbsp;&nbsp;</span>Bonus Material</a></div><div class=\"lev2 toc-item\"><a href=\"#Asymptotic-Runtime\" data-toc-modified-id=\"Asymptotic-Runtime-51\"><span class=\"toc-item-num\">5.1&nbsp;&nbsp;</span>Asymptotic Runtime</a></div>"
   ]
  },
  {
   "cell_type": "code",
   "execution_count": 122,
   "metadata": {
    "collapsed": false,
    "deletable": true,
    "editable": true,
    "init_cell": true,
    "run_control": {
     "frozen": false,
     "read_only": false
    }
   },
   "outputs": [],
   "source": [
    "from __future__ import print_function, division\n",
    "from random import randint\n",
    "import numpy as np\n",
    "import pandas as pd\n",
    "import matplotlib.pyplot as plt\n",
    "\n",
    "%matplotlib inline\n",
    "plt.style.use('seaborn-whitegrid')\n",
    "plt.rcParams['figure.figsize'] = (10.0, 8.0)\n",
    "\n",
    "# the class might not have numpy, though that would be easier;\n",
    "# I wanted them to be able to use this function\n",
    "def rand_list(n_items=50, lower_bound=-100, upper_bound = 100):\n",
    "    \"\"\"\n",
    "    :param n_items: number of elements in the list\n",
    "    :param lower_bound: smallest integer allowed\n",
    "    :param upper_bound: largest integer allowed\n",
    "    :returns: a list of length n_items containing integers bounded by lower_bound and upper_bound\n",
    "    (both bounds are inclusive)\n",
    "    \"\"\"\n",
    "    return [randint(lower_bound, upper_bound) for _ in xrange(n_items)]"
   ]
  },
  {
   "cell_type": "markdown",
   "metadata": {
    "deletable": true,
    "editable": true,
    "run_control": {
     "frozen": false,
     "read_only": false
    }
   },
   "source": [
    "# Overview"
   ]
  },
  {
   "cell_type": "markdown",
   "metadata": {
    "deletable": true,
    "editable": true,
    "run_control": {
     "frozen": false,
     "read_only": false
    }
   },
   "source": [
    "This notebook provides a lesson plan for my 2017 Spark class: **Intro to Sorting (w/ Python)**.\n",
    "\n",
    "[Visualizations][vis].\n",
    "\n",
    "**Intro**\n",
    "\n",
    "* I'm Nathan; studying CS and bio; found my love for computer science later than I would have liked. I hope by teaching this, I can help them see the beauty of CS at a younger age and find a way to apply it in whatever they do\n",
    "* Rachel =) here as a TA to help with the coding portion\n",
    "* Anybody is welcome to leave the class anytime if it's not a good fit for them; there are walk-in activities they can go to\n",
    "\n",
    "**Motivation**\n",
    "* What is sorting?\n",
    "    * Putting some collection of elements in order, for some comparison function.\n",
    "    * We'll sort numbers today, because that's the most intuitive; other things can be sorted too\n",
    "* Why should we care?\n",
    "    * We probably take it for granted that we can sort anything we want to, but this comes up everywhere\n",
    "    * What if you want to view the most popular movies released in the last month? You'll have to sort the list by popularity!\n",
    "    * Do you have a to-do list on your phone? It probably sorts your tasks by due date! You don't want to turn an assignment in late because your list wasn't properly sorted\n",
    "    * I build models to predict whether patients will die in intensive care units. For a doctor, it might be nice to sort their patients by predicted probability of death so they can give extra care to those patients who need it most!\n",
    "    * You can also find things much more quickly if they're sorted in order!\n",
    "        * How would you like to find a contact in your phone if they were sorted in random order?\n",
    "\n",
    "**Warm-up**\n",
    "\n",
    "How do you sort?\n",
    "* Pass out one suite of cards to each group of two students (should have one group of three)\n",
    "* Have the students shuffle the cards and then sort them\n",
    "* Each student should sort them once; the other should watch and note how they do it\n",
    "* Don't try to be fancy; just do what comes naturally\n",
    "* Ask a couple of students: how did you sort the cards?\n",
    "    * What do you look for first? The smallest card? Largest?\n",
    "    * Do you just swap things that are out of order? Or move them to the beginning/end?\n",
    "\t\n",
    "**Algorithms**\n",
    "* Try to relate their answers to the algorithms that you're going to teach\n",
    "* Go through each of these (project from your screen and write lists of numbers in OneNote)\n",
    "\n",
    "[vis]: https://visualgo.net/sorting"
   ]
  },
  {
   "cell_type": "markdown",
   "metadata": {
    "deletable": true,
    "editable": true,
    "run_control": {
     "frozen": false,
     "read_only": false
    }
   },
   "source": [
    "# Algorithms"
   ]
  },
  {
   "cell_type": "markdown",
   "metadata": {
    "deletable": true,
    "editable": true,
    "run_control": {
     "frozen": false,
     "read_only": false
    }
   },
   "source": [
    "## Insert Sort"
   ]
  },
  {
   "cell_type": "markdown",
   "metadata": {
    "deletable": true,
    "editable": true,
    "run_control": {
     "frozen": false,
     "read_only": false
    }
   },
   "source": [
    "* What most people default to when sorting cards\n",
    "* Consider the first card sorted\n",
    "* Move the second card to wherever it needs to be to be sorted (before/after the first one)\n",
    "* Keep track of the sublist of cards that are already in order; always get the next card that isn't in order yet, and then just insert it wherever would put it in order"
   ]
  },
  {
   "cell_type": "code",
   "execution_count": 61,
   "metadata": {
    "collapsed": true,
    "deletable": true,
    "editable": true,
    "init_cell": true,
    "run_control": {
     "frozen": false,
     "read_only": false
    }
   },
   "outputs": [],
   "source": [
    "def insert_sort(items):\n",
    "    \"\"\"\n",
    "    \"\"\"\n",
    "    items = items[:] # this makes a copy of the list because I didn't want to change the original one\n",
    "    # in Python 3, you can do items.copy() instead (or list(items) in Python 2)\n",
    "    n_items = len(items)\n",
    "    for next_idx_to_sort in xrange(1, n_items):\n",
    "        next_item = items[next_idx_to_sort]\n",
    "        insert_idx = next_idx_to_sort # make a separate variable, because we'll be moving it\n",
    "                \n",
    "        while next_item < items[insert_idx - 1]: # keep swapping left if next_item is still smaller\n",
    "            items[insert_idx] = items[insert_idx - 1] # move this item to the right\n",
    "            insert_idx -= 1 # don't actually have to insert next_item here; just imagine we swapped it in\n",
    "            if insert_idx == -1: # this means next_item was less than the smallest item\n",
    "                insert_idx = 0 # so we insert it at the very start of the list\n",
    "                break\n",
    "        items[insert_idx] = next_item # \n",
    "    return items"
   ]
  },
  {
   "cell_type": "code",
   "execution_count": 40,
   "metadata": {
    "collapsed": true
   },
   "outputs": [],
   "source": [
    "def insert_sort2(items):\n",
    "    \"\"\"\n",
    "    This version uses Python's list slicing so that we can shift all items at once\n",
    "    when inserting an item to the left, rather than swapping them one at a time\n",
    "    \"\"\"\n",
    "    items = items[:] # this makes a copy of the list because I didn't want to change the original one\n",
    "    # in Python 3, you can do items.copy() instead (or list(items) in Python 2)\n",
    "    n_items = len(items)\n",
    "    for next_idx_to_sort in xrange(1, n_items):\n",
    "        next_item = items[next_idx_to_sort]\n",
    "        insert_idx = next_idx_to_sort # make a separate variable, because we'll be moving it\n",
    "                \n",
    "        while next_item < items[insert_idx - 1]: # keep swapping left if next_item is still smaller\n",
    "            insert_idx -= 1\n",
    "            if insert_idx == -1: # this means next_item was less than the smallest item\n",
    "                insert_idx = 0 # so we insert it at the very start of the list\n",
    "                break\n",
    "        items[insert_idx + 1 : next_idx_to_sort + 1] = items[insert_idx:next_idx_to_sort] # shift over\n",
    "        items[insert_idx] = next_item\n",
    "    return items"
   ]
  },
  {
   "cell_type": "markdown",
   "metadata": {
    "deletable": true,
    "editable": true,
    "run_control": {
     "frozen": false,
     "read_only": false
    }
   },
   "source": [
    "## Select Sort"
   ]
  },
  {
   "cell_type": "markdown",
   "metadata": {
    "deletable": true,
    "editable": true,
    "run_control": {
     "frozen": false,
     "read_only": false
    }
   },
   "source": [
    "* Perhaps the most intuitive sort, though probably used less by humans than insert sort\n",
    "* Find the smallest number; put it at the beginning\n",
    "    * Make sure to show that, in order to find the smallest, we have to look at each number in the list one by one\n",
    "* Keep track of all the numbers that you've already moved to the beginning; these ones are already in their final order\n",
    "* Find the smallest number that hasn't been moved yet; move it to be after the last number you moved\n",
    "    * Repeat until done."
   ]
  },
  {
   "cell_type": "code",
   "execution_count": 41,
   "metadata": {
    "collapsed": true,
    "deletable": true,
    "editable": true,
    "init_cell": true,
    "run_control": {
     "frozen": false,
     "read_only": false
    }
   },
   "outputs": [],
   "source": [
    "def select_sort(items):\n",
    "    items = items[:]\n",
    "    n_items = len(items)\n",
    "    for next_idx_to_sort in xrange(n_items - 1): # - 1 because we don't have to sort the last value once all others are sorted\n",
    "        # find smallest value not yet sorted\n",
    "        min_val = float('inf')\n",
    "        min_idx = None\n",
    "        for idx in xrange(next_idx_to_sort, n_items):\n",
    "            if items[idx] < min_val:\n",
    "                min_val = items[idx]\n",
    "                min_idx = idx\n",
    "        # make the min value sorted by swapping it with the first unsorted element\n",
    "        items[min_idx] = items[next_idx_to_sort]\n",
    "        items[next_idx_to_sort] = min_val\n",
    "    return items"
   ]
  },
  {
   "cell_type": "markdown",
   "metadata": {
    "deletable": true,
    "editable": true,
    "run_control": {
     "frozen": false,
     "read_only": false
    }
   },
   "source": [
    "## Merge Sort"
   ]
  },
  {
   "cell_type": "markdown",
   "metadata": {
    "deletable": true,
    "editable": true,
    "run_control": {
     "frozen": false,
     "read_only": false
    }
   },
   "source": [
    "* Much faster than the previous two sorts!\n",
    "* Slightly trickier, but still very understandable\n",
    "* Divide list in half repeatedly; stop once only single elements\n",
    "* Merge single element lists back, sorting them as you merge\n",
    "* Because each list to be merged is already sorted, you only have to compare the first two items to know which one comes first in the merged list (instead of comparing across all items)"
   ]
  },
  {
   "cell_type": "code",
   "execution_count": 42,
   "metadata": {
    "collapsed": true,
    "deletable": true,
    "editable": true,
    "init_cell": true,
    "run_control": {
     "frozen": false,
     "read_only": false
    }
   },
   "outputs": [],
   "source": [
    "def merge_sort(items):\n",
    "    \"\"\"\n",
    "    TODO: not sure if this is actually O(nlogn)? I think we're copying things a lot...\n",
    "    \n",
    "    There are multiple ways that you can go about this. A recursive approach as below is simple but calling a function\n",
    "    many times does incur overhead and you can run into the recurrence depth limit. An iterative approach would be better\n",
    "    to use at scale. If you didn't implement it that way, think about how you would.\n",
    "    \n",
    "    NOTE: sorts the list in _ascending_ order (smaller items first); one can always reverse it if need be\n",
    "    \"\"\"\n",
    "#     items = items[:] # make a copy so that we don't modify the original\n",
    "    \n",
    "    # base cases: one or two items (you can also just do one base case: a single item)\n",
    "    if len(items) == 1:\n",
    "        return items\n",
    "    elif len(items) == 2:\n",
    "        if items[0] <= items[1]:\n",
    "            return items\n",
    "        else:\n",
    "            return [items[1], items[0]]\n",
    "    \n",
    "    # recursive case\n",
    "    else:\n",
    "        mid_point = int(len(items) / 2)\n",
    "        first_half = merge_sort(items[:mid_point])\n",
    "        second_half = merge_sort(items[mid_point:])\n",
    "        \n",
    "        # combine sorted lists\n",
    "        first_idx = 0\n",
    "        second_idx = 0\n",
    "        result = []\n",
    "        while True:\n",
    "            first_elem = first_half[first_idx]\n",
    "            second_elem = second_half[second_idx]\n",
    "            \n",
    "            if first_elem < second_elem:\n",
    "                result.append(first_elem)\n",
    "                first_idx += 1\n",
    "                if first_idx == len(first_half): # all items from first_half have already been added to result\n",
    "                    result.extend(second_half[second_idx:])\n",
    "                    return result\n",
    "            else:\n",
    "                result.append(second_elem)\n",
    "                second_idx += 1\n",
    "                if second_idx == len(second_half):\n",
    "                    result.extend(first_half[first_idx:])\n",
    "                    return result"
   ]
  },
  {
   "cell_type": "markdown",
   "metadata": {
    "deletable": true,
    "editable": true,
    "run_control": {
     "frozen": false,
     "read_only": false
    }
   },
   "source": [
    "## Count Sort"
   ]
  },
  {
   "cell_type": "markdown",
   "metadata": {
    "deletable": true,
    "editable": true,
    "run_control": {
     "frozen": false,
     "read_only": false
    }
   },
   "source": [
    "* Faster than any other sort because it never compares items!\n",
    "* We'll learn the 1-digit version, but this generalizes to any number of digits\n",
    "* Count how many of each digit there are (one pass through the list)\n",
    "* Output a list with the proper count of each number"
   ]
  },
  {
   "cell_type": "code",
   "execution_count": 70,
   "metadata": {
    "collapsed": true,
    "deletable": true,
    "editable": true,
    "init_cell": true,
    "run_control": {
     "frozen": false,
     "read_only": false
    }
   },
   "outputs": [],
   "source": [
    "def count_sort(items):\n",
    "    \"\"\"\n",
    "    All elements of items must be single-digit numbers (base 10)\n",
    "    \"\"\"\n",
    "    counts = [0] * 10 # 10 digits that we have to count occurrences of\n",
    "    for item in items:\n",
    "        counts[item] += 1\n",
    "    items = [] # new list to return\n",
    "    for number in xrange(10):\n",
    "        items += [number] * counts[number]\n",
    "    return items"
   ]
  },
  {
   "cell_type": "markdown",
   "metadata": {
    "deletable": true,
    "editable": true,
    "run_control": {
     "frozen": false,
     "read_only": false
    }
   },
   "source": [
    "## Radix Sort"
   ]
  },
  {
   "cell_type": "markdown",
   "metadata": {
    "deletable": true,
    "editable": true,
    "run_control": {
     "frozen": false,
     "read_only": false
    }
   },
   "source": [
    "Radix sort..."
   ]
  },
  {
   "cell_type": "code",
   "execution_count": 7,
   "metadata": {
    "collapsed": true,
    "deletable": true,
    "editable": true,
    "init_cell": true,
    "run_control": {
     "frozen": false,
     "read_only": false
    }
   },
   "outputs": [],
   "source": [
    "def radix_sort(items):\n",
    "    pass"
   ]
  },
  {
   "cell_type": "markdown",
   "metadata": {
    "deletable": true,
    "editable": true,
    "run_control": {
     "frozen": false,
     "read_only": false
    }
   },
   "source": [
    "## Runtime Comparison"
   ]
  },
  {
   "cell_type": "code",
   "execution_count": 71,
   "metadata": {
    "collapsed": false,
    "deletable": true,
    "editable": true,
    "init_cell": false,
    "run_control": {
     "frozen": false,
     "read_only": false
    }
   },
   "outputs": [
    {
     "name": "stdout",
     "output_type": "stream",
     "text": [
      "select_sort passed.\n",
      "insert_sort passed.\n",
      "merge_sort passed.\n",
      "count_sort passed.\n"
     ]
    }
   ],
   "source": [
    "# check that the results are correct\n",
    "sorts = [select_sort, insert_sort, merge_sort, count_sort]\n",
    "n = 1000\n",
    "for sort in sorts:\n",
    "    if sort.__name__ == 'count_sort':\n",
    "        unsorted = rand_list(n, lower_bound=0, upper_bound=9)\n",
    "    else:\n",
    "        unsorted = rand_list(n)\n",
    "    if sort(unsorted) == sorted(unsorted):\n",
    "        print(\"{} passed.\".format(sort.__name__))\n",
    "    else:\n",
    "        print(\"{} failed!\".format(sort.__name__))"
   ]
  },
  {
   "cell_type": "code",
   "execution_count": 97,
   "metadata": {
    "collapsed": false,
    "deletable": true,
    "editable": true,
    "run_control": {
     "frozen": false,
     "read_only": false
    }
   },
   "outputs": [
    {
     "name": "stdout",
     "output_type": "stream",
     "text": [
      "\n",
      "Timing sorts with n=10\n",
      "select_sort; insert_sort; merge_sort; count_sort; sorted; \n",
      "Timing sorts with n=100\n",
      "select_sort; insert_sort; merge_sort; count_sort; sorted; \n",
      "Timing sorts with n=1,000\n",
      "select_sort; insert_sort; merge_sort; count_sort; sorted; \n",
      "Timing sorts with n=10,000\n",
      "select_sort; insert_sort; merge_sort; count_sort; sorted; \n",
      "Timing sorts with n=100,000\n",
      "select_sort; insert_sort; merge_sort; count_sort; sorted; "
     ]
    }
   ],
   "source": [
    "sorts = [select_sort, insert_sort, merge_sort, count_sort, sorted]\n",
    "timing_data = []\n",
    "\n",
    "# none of the sorts can be in-place or else you'll need to make a new list for each loop for the timings\n",
    "for n in [10, 100, 1000, 10000, 100000]:\n",
    "    print(\"\\nTiming sorts with n = {:,}\".format(n))\n",
    "    array = rand_list(n)\n",
    "    count_sort_array = rand_list(n, lower_bound=0, upper_bound=9)\n",
    "#     print(\"Runtime comparison with a list of length {:,}.\".format(n))\n",
    "\n",
    "    for sort in sorts:\n",
    "        print(sort.__name__, end=\"; \")\n",
    "        if sort.__name__ == 'count_sort':\n",
    "            timing = %timeit -o -q sort(count_sort_array)\n",
    "        else:\n",
    "            timing = %timeit -o -q sort(array)\n",
    "        \n",
    "        timing_data.append([sort.__name__, n, np.mean(np.array(timing.all_runs) / timing.loops)])\n",
    "\n",
    "timing_data = pd.DataFrame(timing_data)\n",
    "\n",
    "# it takes some time to run the timings with n = 100K, so it's nice to save them if you do that then\n",
    "# you can play with the visualizations easily later (for n = 10K or less, it's not too long to rerun)\n",
    "timing_data.to_hdf('timing_data.h5', 'timing')"
   ]
  },
  {
   "cell_type": "code",
   "execution_count": 111,
   "metadata": {
    "collapsed": false
   },
   "outputs": [
    {
     "data": {
      "text/html": [
       "<div>\n",
       "<table border=\"1\" class=\"dataframe\">\n",
       "  <thead>\n",
       "    <tr style=\"text-align: right;\">\n",
       "      <th></th>\n",
       "      <th>sort</th>\n",
       "      <th>n</th>\n",
       "      <th>time</th>\n",
       "    </tr>\n",
       "  </thead>\n",
       "  <tbody>\n",
       "    <tr>\n",
       "      <th>0</th>\n",
       "      <td>select_sort</td>\n",
       "      <td>10</td>\n",
       "      <td>4.827584e-06</td>\n",
       "    </tr>\n",
       "    <tr>\n",
       "      <th>1</th>\n",
       "      <td>insert_sort</td>\n",
       "      <td>10</td>\n",
       "      <td>3.396137e-06</td>\n",
       "    </tr>\n",
       "    <tr>\n",
       "      <th>2</th>\n",
       "      <td>merge_sort</td>\n",
       "      <td>10</td>\n",
       "      <td>6.716910e-06</td>\n",
       "    </tr>\n",
       "    <tr>\n",
       "      <th>3</th>\n",
       "      <td>count_sort</td>\n",
       "      <td>10</td>\n",
       "      <td>2.545984e-06</td>\n",
       "    </tr>\n",
       "    <tr>\n",
       "      <th>4</th>\n",
       "      <td>sorted</td>\n",
       "      <td>10</td>\n",
       "      <td>4.674827e-07</td>\n",
       "    </tr>\n",
       "  </tbody>\n",
       "</table>\n",
       "</div>"
      ],
      "text/plain": [
       "          sort   n          time\n",
       "0  select_sort  10  4.827584e-06\n",
       "1  insert_sort  10  3.396137e-06\n",
       "2   merge_sort  10  6.716910e-06\n",
       "3   count_sort  10  2.545984e-06\n",
       "4       sorted  10  4.674827e-07"
      ]
     },
     "execution_count": 111,
     "metadata": {},
     "output_type": "execute_result"
    }
   ],
   "source": [
    "timing_data = pd.read_hdf('timing_data.h5')\n",
    "timing_data.columns = ['sort', 'n', 'time']\n",
    "timing_data.head()"
   ]
  },
  {
   "cell_type": "code",
   "execution_count": null,
   "metadata": {
    "collapsed": true
   },
   "outputs": [],
   "source": []
  },
  {
   "cell_type": "code",
   "execution_count": 131,
   "metadata": {
    "collapsed": false
   },
   "outputs": [
    {
     "data": {
      "image/png": "[encoded data removed]",
      "text/plain": [
       "<matplotlib.figure.Figure at 0x7f2a7197ea50>"
      ]
     },
     "metadata": {},
     "output_type": "display_data"
    }
   ],
   "source": [
    "for sort_name, sort_timing in timing_data.groupby('sort'):\n",
    "    plt.plot(sort_timing['n'], sort_timing['time'], label=sort_name)\n",
    "\n",
    "plt.xlabel(\"List Size\")\n",
    "plt.ylabel(\"Time (seconds)\")\n",
    "plt.title(\"Sort Timing Comparison\")\n",
    "plt.legend()    \n",
    "plt.show()"
   ]
  },
  {
   "cell_type": "code",
   "execution_count": 132,
   "metadata": {
    "collapsed": false
   },
   "outputs": [
    {
     "data": {
      "image/png": "[encoded data removed]",
      "text/plain": [
       "<matplotlib.figure.Figure at 0x7f2a71874a90>"
      ]
     },
     "metadata": {},
     "output_type": "display_data"
    }
   ],
   "source": [
    "for sort_name, sort_timing in timing_data.groupby('sort'):\n",
    "    if sort_name in ['insert_sort', 'select_sort']:\n",
    "        continue\n",
    "    plt.plot(sort_timing['n'], sort_timing['time'], label=sort_name)\n",
    "\n",
    "plt.xlabel(\"List Size\")\n",
    "plt.ylabel(\"Time (seconds)\")\n",
    "plt.title(\"Sort Timing Comparison\")\n",
    "plt.legend()    \n",
    "plt.show()"
   ]
  },
  {
   "cell_type": "code",
   "execution_count": 133,
   "metadata": {
    "collapsed": false
   },
   "outputs": [
    {
     "data": {
      "image/png": "[encoded data removed]",
      "text/plain": [
       "<matplotlib.figure.Figure at 0x7f2a7176b510>"
      ]
     },
     "metadata": {},
     "output_type": "display_data"
    }
   ],
   "source": [
    "for sort_name, sort_timing in timing_data.groupby('sort'):\n",
    "    if sort_name in ['insert_sort', 'select_sort', 'merge_sort']:\n",
    "        continue\n",
    "    plt.plot(sort_timing['n'], sort_timing['time'], label=sort_name)\n",
    "\n",
    "plt.xlabel(\"List Size\")\n",
    "plt.ylabel(\"Time (seconds)\")\n",
    "plt.title(\"Sort Timing Comparison\")\n",
    "plt.legend()    \n",
    "plt.show()"
   ]
  },
  {
   "cell_type": "markdown",
   "metadata": {},
   "source": [
    "# Implementation Tips"
   ]
  },
  {
   "cell_type": "markdown",
   "metadata": {},
   "source": [
    "**General**\n",
    "* Print things frequently, so you can see what's happening to your list!\n",
    "* Test your code out piece by piece, not all at once at the end\n",
    "\n",
    "**Insert**\n",
    "* It may be easier, when figuring out where to insert a card, to keep swapping it left until the card to its left is smaller than it (rather than finding the right index with no swapping, then moving all the other cards over at once to make room for it; this can be done too, though, with list slicing in Python)\n",
    "\n",
    "**Count**\n",
    "* Just don't try radix today unless you know what you're doing"
   ]
  },
  {
   "cell_type": "markdown",
   "metadata": {
    "deletable": true,
    "editable": true,
    "run_control": {
     "frozen": false,
     "read_only": false
    }
   },
   "source": [
    "# Conclusion\n",
    "* Say a little bit here to encourage them to pursue computer science / programming if they have an interest: make it clear how much they can do even on their own.\n",
    "* Also, please take some snacks"
   ]
  },
  {
   "cell_type": "markdown",
   "metadata": {
    "heading_collapsed": true
   },
   "source": [
    "# Bonus Material"
   ]
  },
  {
   "cell_type": "markdown",
   "metadata": {
    "hidden": true
   },
   "source": [
    "## Asymptotic Runtime"
   ]
  },
  {
   "cell_type": "markdown",
   "metadata": {
    "hidden": true
   },
   "source": [
    "If any of the students seem mathematically inclined or want more technical details about how we know one sort is more efficient than another, you could discuss this with them briefly during the hands-on portion if nobody needs help at some point."
   ]
  }
 ],
 "metadata": {
  "anaconda-cloud": {},
  "kernelspec": {
   "display_name": "Usr Python",
   "language": "python",
   "name": "test"
  },
  "language_info": {
   "codemirror_mode": {
    "name": "ipython",
    "version": 2
   },
   "file_extension": ".py",
   "mimetype": "text/x-python",
   "name": "python",
   "nbconvert_exporter": "python",
   "pygments_lexer": "ipython2",
   "version": "2.7.6"
  },
  "latex_envs": {
   "LaTeX_envs_menu_present": true,
   "bibliofile": "biblio.bib",
   "cite_by": "apalike",
   "current_citInitial": 1,
   "eqLabelWithNumbers": true,
   "eqNumInitial": 1,
   "labels_anchors": false,
   "latex_user_defs": false,
   "report_style_numbering": false,
   "user_envs_cfg": false
  },
  "toc": {
   "colors": {
    "hover_highlight": "#DAA520",
    "running_highlight": "#FF0000",
    "selected_highlight": "#FFD700"
   },
   "moveMenuLeft": true,
   "nav_menu": {
    "height": "234px",
    "width": "211px"
   },
   "navigate_menu": true,
   "number_sections": true,
   "sideBar": true,
   "threshold": 4,
   "toc_cell": true,
   "toc_section_display": "block",
   "toc_window_display": false
  }
 },
 "nbformat": 4,
 "nbformat_minor": 2
}
