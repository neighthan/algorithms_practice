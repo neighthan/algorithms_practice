{
 "cells": [
  {
   "cell_type": "markdown",
   "metadata": {
    "heading_collapsed": true,
    "run_control": {
     "frozen": false,
     "read_only": false
    },
    "toc": "true"
   },
   "source": [
    "# Table of Contents\n",
    " <p><div class=\"lev1 toc-item\"><a href=\"#Overview\" data-toc-modified-id=\"Overview-1\"><span class=\"toc-item-num\">1&nbsp;&nbsp;</span>Overview</a></div><div class=\"lev1 toc-item\"><a href=\"#Sort\" data-toc-modified-id=\"Sort-2\"><span class=\"toc-item-num\">2&nbsp;&nbsp;</span>Sort</a></div><div class=\"lev2 toc-item\"><a href=\"#Asymptotic-Runtime\" data-toc-modified-id=\"Asymptotic-Runtime-21\"><span class=\"toc-item-num\">2.1&nbsp;&nbsp;</span>Asymptotic Runtime</a></div><div class=\"lev2 toc-item\"><a href=\"#Select-Sort\" data-toc-modified-id=\"Select-Sort-22\"><span class=\"toc-item-num\">2.2&nbsp;&nbsp;</span>Select Sort</a></div><div class=\"lev2 toc-item\"><a href=\"#Insert-Sort\" data-toc-modified-id=\"Insert-Sort-23\"><span class=\"toc-item-num\">2.3&nbsp;&nbsp;</span>Insert Sort</a></div><div class=\"lev2 toc-item\"><a href=\"#Bubble-Sort\" data-toc-modified-id=\"Bubble-Sort-24\"><span class=\"toc-item-num\">2.4&nbsp;&nbsp;</span>Bubble Sort</a></div><div class=\"lev2 toc-item\"><a href=\"#Merge-Sort\" data-toc-modified-id=\"Merge-Sort-25\"><span class=\"toc-item-num\">2.5&nbsp;&nbsp;</span>Merge Sort</a></div><div class=\"lev2 toc-item\"><a href=\"#Count-Sort\" data-toc-modified-id=\"Count-Sort-26\"><span class=\"toc-item-num\">2.6&nbsp;&nbsp;</span>Count Sort</a></div><div class=\"lev2 toc-item\"><a href=\"#Radix-Sort\" data-toc-modified-id=\"Radix-Sort-27\"><span class=\"toc-item-num\">2.7&nbsp;&nbsp;</span>Radix Sort</a></div><div class=\"lev1 toc-item\"><a href=\"#Conclusion\" data-toc-modified-id=\"Conclusion-3\"><span class=\"toc-item-num\">3&nbsp;&nbsp;</span>Conclusion</a></div>"
   ]
  },
  {
   "cell_type": "code",
   "execution_count": 1,
   "metadata": {
    "collapsed": false,
    "hidden": true,
    "init_cell": true,
    "run_control": {
     "frozen": false,
     "read_only": false
    }
   },
   "outputs": [],
   "source": [
    "from __future__ import print_function, division"
   ]
  },
  {
   "cell_type": "markdown",
   "metadata": {
    "run_control": {
     "frozen": false,
     "read_only": false
    }
   },
   "source": [
    "# Overview"
   ]
  },
  {
   "cell_type": "markdown",
   "metadata": {
    "run_control": {
     "frozen": false,
     "read_only": false
    }
   },
   "source": [
    "This notebook provides a lesson plan for my 2017 Spark class: **Intro to Sorting (w/ Python)**.\n",
    "\n",
    "Find visualizations [here][vis].\n",
    "\n",
    "Outline:\n",
    "* What is sorting?\n",
    "* Have any of you heard of a sorting algorithm before? (an algorithm is like a recipe: it's a set of instructions that tells you how to do something)\n",
    "    * List any, if so\n",
    "* Brainstorm with your neighbors, then share ideas with the class: how would you sort a list of numbers?\n",
    "    * Write down the basics of some ideas\n",
    "    * (See how they compare to \"known\" sorts?)\n",
    "* Go through the sorts below\n",
    "* Pick a sort to implement in Python (I don't recommend radix sort unless you're comfortable programming. Count sort should be doable, though). You can work solo or with a partner. I'll come around to help. Tips:\n",
    "    * Print things frequently, so you can see what's happening to your list!\n",
    "    \n",
    "Saving time: if it doesn't look like there will be enough time, cut out some of the sorts (these are in order by the ones to drop first)\n",
    "1. **Radix sort** doesn't need to be explained; just mention that one can extend count sort to integers with multiple digits.\n",
    "2. **Bubble sort** can be skipped entirely.\n",
    "3. **Insert sort** can be dropped if needed.\n",
    "\n",
    "[vis]: https://visualgo.net/sorting"
   ]
  },
  {
   "cell_type": "markdown",
   "metadata": {
    "heading_collapsed": true,
    "run_control": {
     "frozen": false,
     "read_only": false
    }
   },
   "source": [
    "# Sort"
   ]
  },
  {
   "cell_type": "markdown",
   "metadata": {
    "heading_collapsed": true,
    "hidden": true,
    "run_control": {
     "frozen": false,
     "read_only": false
    }
   },
   "source": [
    "## Asymptotic Runtime"
   ]
  },
  {
   "cell_type": "markdown",
   "metadata": {
    "hidden": true,
    "run_control": {
     "frozen": false,
     "read_only": false
    }
   },
   "source": [
    "Short description here; don't do it mathematically but intuitively"
   ]
  },
  {
   "cell_type": "markdown",
   "metadata": {
    "hidden": true,
    "run_control": {
     "frozen": false,
     "read_only": false
    }
   },
   "source": [
    "## Select Sort"
   ]
  },
  {
   "cell_type": "markdown",
   "metadata": {
    "hidden": true,
    "run_control": {
     "frozen": false,
     "read_only": false
    }
   },
   "source": [
    "## Insert Sort"
   ]
  },
  {
   "cell_type": "markdown",
   "metadata": {
    "hidden": true,
    "run_control": {
     "frozen": false,
     "read_only": false
    }
   },
   "source": [
    "## Bubble Sort"
   ]
  },
  {
   "cell_type": "markdown",
   "metadata": {
    "heading_collapsed": true,
    "hidden": true,
    "run_control": {
     "frozen": false,
     "read_only": false
    }
   },
   "source": [
    "## Merge Sort"
   ]
  },
  {
   "cell_type": "markdown",
   "metadata": {
    "hidden": true,
    "run_control": {
     "frozen": false,
     "read_only": false
    }
   },
   "source": [
    "Sorting is a very common algorithm; you may already be familiar with multiple ways to do it. It's a good introductory algorithm because the desired outcome is simple (and easily visualizable!) and it's relevant. There are a few obvious but inefficient ways to do it (e.g. find the smallest item in the original list by scanning the entire list, put that item as the first element of a new, sorted list; repeat until the original list is empty. This is $O(n)$ for each item, so $O(n^2)$ total). Merge sort is a well known and simple algorithm that performs asymptotically as well as possible for an algorithm that has to compare all items to sort them (that may sound like it means that _no_ sorting algorithm can do better. If you're interested, look up count sort and then radix sort to see a way around having to compare all items). A proof of this isn't _too_ difficult, but I won't go into any proofs here, although they're an important part of a foundation in algorithms.\n",
    "\n",
    "Merge sort is a divide and conquer (and combine) algorithm. It works by splitting the unsorted list in half repeatedly until a base case is reached of a list of one element. A one element list is always sorted, so now instead of an unsorted $n$ element list, we have $n$ sorted, 1-element lists. Next those lists are combined with each other, two at a time (to make 2-element lists then 4-element lists until an $n$ element list is reached). The key to merge sort is that when one combines two sorted lists, one doesn't have to compare all items of both lists to each other. Suppose we are sorting so that smaller items come first. We know the smallest item of the combined list will be the smaller of the first items of the two starting lists. As an example, if I have the lists $l1=[3,6,8,9]$ and $l2 = [1,2,5,7]$ then I only check l1[0] and l2[0] to find that the smallest item is 1. This can be removed and appended to the combined list, $l12=[1]$. Then we iterate until there are no items left in $l1$ or $l2$.\n",
    "\n",
    "Taking advantage of the sortedness of the lists lets us combine two lists in linear time in their size (that is, if the two lists are length $n$, I'll have to use $O(n)$ time to combine them: each element I add to the combined list requires me to access the first element of each list ($O(1)$), compare them ($O(1)$), and then add the smaller one to the combined list ($O(1)$) (I don't actually have to remove the elements from the split lists when I add them to the combined lists; I can juse update an index of which item is to be considered next in that split list so that I don't add the same element twice. Updating the index is also $O(1)$ (access the old value, increment it, store it)). In total this is $O(1)$ per element added, and $2n$ elements will be added, so $O(n)$ overall for combining two sorted lists.\n",
    "\n",
    "-----------------------\n",
    "\n",
    "Words are not nearly so good at describing such an algorithm as a good picture is. [Here][visualization] is a nice visualization that should help. At the top you can select the type of sort you want to see. Compare merge sort with the others given. Make sure to take a look at count sort and then radix sort. They are simple enough that just from watching you may already understand the entire algorithm, yet it's rather amazing: they allow sorting some lists (where the items can be counted in a fashion like shown) in $O(n)$. I hope you are seeing how simple and elegant many incredibly useful algorithms are. When you've clicked the type of sort you want, you can click create in the bottom left to make a new list (or use the one already generated), and then click Sort and Go to watch. Their implementation of merge sort is iterative rather than recursive, but you should be able to follow it still. The boxes in the bottom right show pseudocode; only worry about it if it helps.\n",
    "\n",
    "--------------------------\n",
    "\n",
    "a) Write a recurrence for the runtime of merge sort and solve it.\n",
    "\n",
    "b) Implement an algorithm to perform merge sort on a given list. I would recommend doing it recursively first, as that may be easier, but you can do it iteratively if you wish.\n",
    "\n",
    "[visualization]: https://visualgo.net/sorting"
   ]
  },
  {
   "cell_type": "code",
   "execution_count": 2,
   "metadata": {
    "collapsed": true,
    "hidden": true,
    "init_cell": true,
    "run_control": {
     "frozen": false,
     "read_only": false
    }
   },
   "outputs": [],
   "source": [
    "def merge_sort(items):\n",
    "    pass"
   ]
  },
  {
   "cell_type": "code",
   "execution_count": 3,
   "metadata": {
    "collapsed": true,
    "hidden": true,
    "init_cell": true,
    "run_control": {
     "frozen": false,
     "read_only": false
    }
   },
   "outputs": [],
   "source": [
    "def naive_sort(items):\n",
    "    \"\"\"\n",
    "    Implements the O(n^2) sort mentioned in the problem statement; this is for runtime comparison with merge sort.\n",
    "    (This is very nearly the select sort algorithm shown in the visualization link; select sort should be faster, but only by a constant factor)\n",
    "    The original list is not mutated.\n",
    "    \"\"\"\n",
    "    items = items[:] # make a copy to remove elements from\n",
    "    sorted_list = []\n",
    "    while items:\n",
    "        smallest = min(items)\n",
    "        sorted_list.append(smallest)\n",
    "        items.remove(smallest) # I believe Python lists are arrays, so this operation is O(n) even if you knew the index of the element;\n",
    "        # as we use O(n) to find smallest anyway, this doesn't change the asymptotic runtime (not sure of a linked list in Python...?)\n",
    "    return sorted_list"
   ]
  },
  {
   "cell_type": "code",
   "execution_count": 31,
   "metadata": {
    "collapsed": false,
    "hidden": true,
    "run_control": {
     "frozen": false,
     "read_only": false
    }
   },
   "outputs": [
    {
     "name": "stdout",
     "output_type": "stream",
     "text": [
      "Runtime comparison with n=1E+04\n",
      "\n",
      "Naive sort\n",
      "1 loop, best of 3: 1.67 s per loop\n",
      "\n",
      "Merge sort\n",
      "The slowest run took 25.15 times longer than the fastest. This could mean that an intermediate result is being cached.\n",
      "10000000 loops, best of 3: 85.3 ns per loop\n",
      "\n",
      "Merge sort solution\n",
      "10 loops, best of 3: 30.9 ms per loop\n",
      "\n",
      "Python built-in sorted\n",
      "100 loops, best of 3: 3.09 ms per loop\n"
     ]
    }
   ],
   "source": [
    "n = 10000\n",
    "array = list(np.random.randn(n))\n",
    "\n",
    "print \"Runtime comparison with n={:.0E}\".format(n)\n",
    "\n",
    "# none of the sorts can be in-place or else you'll need to make a new list for each loop for the timings\n",
    "\n",
    "if n <= 10000: # otherwise, too slow for my limited patience (maybe ~200 s?)\n",
    "    print \"\\nNaive sort\"\n",
    "    %timeit naive_sort(array)\n",
    "\n",
    "print \"\\nMerge sort\"\n",
    "%timeit merge_sort(array)\n",
    "\n",
    "print \"\\nMerge sort solution\"\n",
    "%timeit merge_sort_solution(array)\n",
    "\n",
    "print \"\\nPython built-in sorted\"\n",
    "%timeit sorted(array) # I assume radix sort is used here?"
   ]
  },
  {
   "cell_type": "code",
   "execution_count": 54,
   "metadata": {
    "collapsed": false,
    "hidden": true,
    "run_control": {
     "frozen": false,
     "read_only": false
    }
   },
   "outputs": [
    {
     "ename": "AssertionError",
     "evalue": "",
     "output_type": "error",
     "traceback": [
      "\u001b[0;31m---------------------------------------------------------------------------\u001b[0m",
      "\u001b[0;31mAssertionError\u001b[0m                            Traceback (most recent call last)",
      "\u001b[0;32m<ipython-input-54-ee91909b6f57>\u001b[0m in \u001b[0;36m<module>\u001b[0;34m()\u001b[0m\n\u001b[1;32m      1\u001b[0m \u001b[0;32mfor\u001b[0m \u001b[0mn\u001b[0m \u001b[0;32min\u001b[0m \u001b[0;34m[\u001b[0m\u001b[0;36m10\u001b[0m \u001b[0;34m**\u001b[0m \u001b[0mx\u001b[0m \u001b[0;32mfor\u001b[0m \u001b[0mx\u001b[0m \u001b[0;32min\u001b[0m \u001b[0mrange\u001b[0m\u001b[0;34m(\u001b[0m\u001b[0;36m1\u001b[0m\u001b[0;34m,\u001b[0m \u001b[0;36m6\u001b[0m\u001b[0;34m)\u001b[0m\u001b[0;34m]\u001b[0m\u001b[0;34m:\u001b[0m\u001b[0;34m\u001b[0m\u001b[0m\n\u001b[1;32m      2\u001b[0m     \u001b[0munsorted\u001b[0m \u001b[0;34m=\u001b[0m \u001b[0mlist\u001b[0m\u001b[0;34m(\u001b[0m\u001b[0mnp\u001b[0m\u001b[0;34m.\u001b[0m\u001b[0mrandom\u001b[0m\u001b[0;34m.\u001b[0m\u001b[0mrandn\u001b[0m\u001b[0;34m(\u001b[0m\u001b[0mn\u001b[0m\u001b[0;34m)\u001b[0m\u001b[0;34m)\u001b[0m\u001b[0;34m\u001b[0m\u001b[0m\n\u001b[0;32m----> 3\u001b[0;31m     \u001b[0;32massert\u001b[0m \u001b[0mmerge_sort\u001b[0m\u001b[0;34m(\u001b[0m\u001b[0munsorted\u001b[0m\u001b[0;34m)\u001b[0m \u001b[0;34m==\u001b[0m \u001b[0msorted\u001b[0m\u001b[0;34m(\u001b[0m\u001b[0munsorted\u001b[0m\u001b[0;34m)\u001b[0m\u001b[0;34m\u001b[0m\u001b[0m\n\u001b[0m",
      "\u001b[0;31mAssertionError\u001b[0m: "
     ]
    }
   ],
   "source": [
    "# check that the result is correct\n",
    "for n in [10 ** x for x in range(1, 6)]:\n",
    "    unsorted = list(np.random.randn(n))\n",
    "    assert merge_sort(unsorted) == sorted(unsorted)"
   ]
  },
  {
   "cell_type": "code",
   "execution_count": 4,
   "metadata": {
    "collapsed": true,
    "hidden": true,
    "init_cell": true,
    "run_control": {
     "frozen": false,
     "read_only": false
    }
   },
   "outputs": [],
   "source": [
    "def merge_sort_solution(items):\n",
    "    \"\"\"\n",
    "    \n",
    "    There are multiple ways that you can go about this. A recursive approach as below is simple but calling a function many times\n",
    "    does incur overhead and you can run into the recurrence depth limit. An iterative approach would be better to use at scale. If you didn't\n",
    "    implement it that way, think about how you would.\n",
    "    \n",
    "    NOTE: sorts the list in _ascending_ order (smaller items first); one can always reverse it if need be\n",
    "    \"\"\"\n",
    "    \n",
    "    # base cases: one or two items (you can also just do one base case: a single item)\n",
    "    if len(items) == 1:\n",
    "        return items\n",
    "    elif len(items) == 2:\n",
    "        if items[0] <= items[1]:\n",
    "            return items\n",
    "        else:\n",
    "            return [items[1], items[0]]\n",
    "    \n",
    "    # recursive case\n",
    "    else:\n",
    "        mid_point = int(len(items) / 2)\n",
    "        first_half = merge_sort_solution(items[:mid_point])\n",
    "        second_half = merge_sort_solution(items[mid_point:])\n",
    "        \n",
    "        # combine sorted lists\n",
    "        first_idx = 0\n",
    "        second_idx = 0\n",
    "        result = []\n",
    "        while True:\n",
    "            first_elem = first_half[first_idx]\n",
    "            second_elem = second_half[second_idx]\n",
    "            \n",
    "            if first_elem < second_elem:\n",
    "                result.append(first_elem)\n",
    "                first_idx += 1\n",
    "                if first_idx == len(first_half): # all items from first_half have already been added to result\n",
    "                    result.extend(second_half[second_idx:])\n",
    "                    return result\n",
    "            else:\n",
    "                result.append(second_elem)\n",
    "                second_idx += 1\n",
    "                if second_idx == len(second_half):\n",
    "                    result.extend(first_half[first_idx:])\n",
    "                    return result"
   ]
  },
  {
   "cell_type": "markdown",
   "metadata": {
    "hidden": true,
    "run_control": {
     "frozen": false,
     "read_only": false
    }
   },
   "source": [
    "## Count Sort"
   ]
  },
  {
   "cell_type": "markdown",
   "metadata": {
    "hidden": true,
    "run_control": {
     "frozen": false,
     "read_only": false
    }
   },
   "source": [
    "## Radix Sort"
   ]
  },
  {
   "cell_type": "markdown",
   "metadata": {
    "run_control": {
     "frozen": false,
     "read_only": false
    }
   },
   "source": [
    "# Conclusion\n",
    "Say a little bit here to encourage them to pursue computer science / programming if they have an interest: make it clear how much they can do even on their own."
   ]
  }
 ],
 "metadata": {
  "anaconda-cloud": {},
  "kernelspec": {
   "display_name": "Usr Python",
   "language": "python",
   "name": "test"
  },
  "language_info": {
   "codemirror_mode": {
    "name": "ipython",
    "version": 2
   },
   "file_extension": ".py",
   "mimetype": "text/x-python",
   "name": "python",
   "nbconvert_exporter": "python",
   "pygments_lexer": "ipython2",
   "version": "2.7.6"
  },
  "latex_envs": {
   "LaTeX_envs_menu_present": true,
   "bibliofile": "biblio.bib",
   "cite_by": "apalike",
   "current_citInitial": 1,
   "eqLabelWithNumbers": true,
   "eqNumInitial": 1,
   "labels_anchors": false,
   "latex_user_defs": false,
   "report_style_numbering": false,
   "user_envs_cfg": false
  },
  "toc": {
   "colors": {
    "hover_highlight": "#DAA520",
    "running_highlight": "#FF0000",
    "selected_highlight": "#FFD700"
   },
   "moveMenuLeft": true,
   "nav_menu": {
    "height": "234px",
    "width": "211px"
   },
   "navigate_menu": true,
   "number_sections": true,
   "sideBar": true,
   "threshold": 4,
   "toc_cell": true,
   "toc_section_display": "block",
   "toc_window_display": false
  }
 },
 "nbformat": 4,
 "nbformat_minor": 2
}
