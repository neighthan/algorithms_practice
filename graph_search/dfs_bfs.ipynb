{
 "cells": [
  {
   "cell_type": "markdown",
   "metadata": {
    "toc": "true"
   },
   "source": [
    "# Table of Contents\n",
    " <p><div class=\"lev1 toc-item\"><a href=\"#Breadth-first-Search\" data-toc-modified-id=\"Breadth-first-Search-1\"><span class=\"toc-item-num\">1&nbsp;&nbsp;</span>Breadth-first Search</a></div><div class=\"lev3 toc-item\"><a href=\"#Solution\" data-toc-modified-id=\"Solution-101\"><span class=\"toc-item-num\">1.0.1&nbsp;&nbsp;</span>Solution</a></div><div class=\"lev1 toc-item\"><a href=\"#Depth-first-Search\" data-toc-modified-id=\"Depth-first-Search-2\"><span class=\"toc-item-num\">2&nbsp;&nbsp;</span>Depth-first Search</a></div><div class=\"lev3 toc-item\"><a href=\"#Solution\" data-toc-modified-id=\"Solution-201\"><span class=\"toc-item-num\">2.0.1&nbsp;&nbsp;</span>Solution</a></div>"
   ]
  },
  {
   "cell_type": "code",
   "execution_count": 1,
   "metadata": {
    "ExecuteTime": {
     "end_time": "2017-09-18T15:53:49.175644Z",
     "start_time": "2017-09-18T15:53:47.293139Z"
    },
    "init_cell": true
   },
   "outputs": [
    {
     "name": "stderr",
     "output_type": "stream",
     "text": [
      "/home/nhunt/anaconda3/lib/python3.6/site-packages/skvideo/__init__.py:356: UserWarning: avconv/avprobe not found in path: \n",
      "  warnings.warn(\"avconv/avprobe not found in path: \" + str(path), UserWarning)\n"
     ]
    }
   ],
   "source": [
    "import numpy as np\n",
    "import heapq\n",
    "from collections import deque\n",
    "from collections import namedtuple\n",
    "from IPython import display\n",
    "import matplotlib.pyplot as plt\n",
    "from skvideo.io import vwrite\n",
    "from scipy.ndimage.interpolation import zoom\n",
    "from matplotlib.colors import ListedColormap\n",
    "\n",
    "%matplotlib inline"
   ]
  },
  {
   "cell_type": "code",
   "execution_count": 8,
   "metadata": {
    "ExecuteTime": {
     "end_time": "2017-08-31T17:21:54.413299Z",
     "start_time": "2017-08-31T17:21:54.396970Z"
    },
    "collapsed": true
   },
   "outputs": [],
   "source": [
    "grid_cell_types = ['WALL', 'NORMAL', 'START', 'GOAL', 'FRINGE', 'EXPANDED', 'PATH']\n",
    "grid_colors = ['black', 'white', 'green', 'red', 'lightblue', 'blue', 'orange']\n",
    "\n",
    "cmap = ListedColormap(grid_colors)\n",
    "\n",
    "# don't worry about this part; just for fancy dotted access\n",
    "GridValues = namedtuple('GridValues', grid_cell_types)\n",
    "GridValue = namedtuple('GridValue', ['value', 'name', 'color'])\n",
    "grid_values = GridValues(*[GridValue(i, grid_cell_types[i], grid_colors[i]) for i in range(len(grid_colors))])"
   ]
  },
  {
   "cell_type": "code",
   "execution_count": 9,
   "metadata": {
    "ExecuteTime": {
     "end_time": "2017-08-31T17:21:54.919922Z",
     "start_time": "2017-08-31T17:21:54.885022Z"
    },
    "collapsed": true
   },
   "outputs": [],
   "source": [
    "def make_grid(size, wall_fraction=0.2, start_goal_locs='corners'):\n",
    "    size = (size, size) if type(size) == int else size\n",
    "    \n",
    "    if start_goal_locs == 'corners':\n",
    "        start = (0, 0)\n",
    "        goal = tuple(np.array(size) - 1)\n",
    "    elif start_goal_locs == 'mid':\n",
    "        start = (0, 0)\n",
    "        goal = tuple((np.array(size) / 2).astype(int))\n",
    "    elif start_goal_locs == 'random':\n",
    "        assert False\n",
    "    \n",
    "    while True:\n",
    "        maze = np.random.choice([grid_values.WALL.value, grid_values.NORMAL.value], size=size, p=[wall_fraction, 1 - wall_fraction])\n",
    "        maze[start] = grid_values.START.value\n",
    "        maze[goal] = grid_values.GOAL.value\n",
    "        \n",
    "        # make sure it's solvable\n",
    "        try:\n",
    "            bfs_dfs(maze, start, goal, algorithm='dfs')\n",
    "            break\n",
    "        except IndexError:\n",
    "            pass # make a new one and try again\n",
    "    \n",
    "    return maze, start, goal"
   ]
  },
  {
   "cell_type": "code",
   "execution_count": 10,
   "metadata": {
    "ExecuteTime": {
     "end_time": "2017-08-31T17:21:55.633959Z",
     "start_time": "2017-08-31T17:21:55.612751Z"
    },
    "collapsed": true
   },
   "outputs": [],
   "source": [
    "def show_grid(grid):\n",
    "    plt.figure(figsize=(20, 10))\n",
    "    img = plt.matshow(grid, cmap=cmap, vmin=-0.5, vmax=len(grid_colors)-0.5, fignum=1)\n",
    "    cbar = plt.colorbar(ticks=np.arange(0, len(grid_colors)))\n",
    "    cbar.set_ticklabels(grid_cell_types)\n",
    "\n",
    "\n",
    "def color_path(grid, path):\n",
    "    for node in path[1 : -1]: # don't change the start or the goal\n",
    "        grid[node] = grid_values.PATH.value\n",
    "    return grid"
   ]
  },
  {
   "cell_type": "code",
   "execution_count": 11,
   "metadata": {
    "ExecuteTime": {
     "end_time": "2017-08-31T17:21:56.072560Z",
     "start_time": "2017-08-31T17:21:56.053879Z"
    },
    "collapsed": true
   },
   "outputs": [],
   "source": [
    "up = np.array([-1, 0])\n",
    "down = np.array([1, 0])\n",
    "left = np.array([0, -1])\n",
    "right = np.array([0, 1])\n",
    "\n",
    "def get_neighbors(node_loc, grid):\n",
    "    upper_bounds = np.array(grid.shape) - 1\n",
    "    lower_bounds = np.array([0, 0])\n",
    "    \n",
    "    neighbors = []\n",
    "    for direction in [up, down, left, right]:\n",
    "        neighbor = np.minimum(np.maximum(node_loc + direction, lower_bounds), upper_bounds)\n",
    "        if not np.all(neighbor == node_loc) and grid[tuple(neighbor)] != grid_values.WALL.value:\n",
    "            neighbors.append(tuple(neighbor))\n",
    "    return neighbors"
   ]
  },
  {
   "cell_type": "code",
   "execution_count": 12,
   "metadata": {
    "ExecuteTime": {
     "end_time": "2017-08-31T17:21:56.853633Z",
     "start_time": "2017-08-31T17:21:56.699713Z"
    },
    "collapsed": true
   },
   "outputs": [],
   "source": [
    "def bfs_dfs(grid, start, goal, algorithm, plot='', video_size=(600, 600), video_path='movies/search.mp4'):\n",
    "    grid = grid.copy()\n",
    "\n",
    "    fringe = deque()\n",
    "    expanded = set() # never expand the same node twice; the first path to any node is the best one\n",
    "    parents = {} # parent pointer for each node\n",
    "    current_node = start\n",
    "    parent = None\n",
    "\n",
    "    if plot == 'during':\n",
    "        fig, ax = plt.subplots(figsize=(15, 10))\n",
    "        img = ax.matshow(grid, cmap=cmap, vmin=-0.5, vmax=len(grid_colors)-0.5)\n",
    "        cbar = fig.colorbar(img, ticks=np.arange(0, len(grid_colors)))\n",
    "        cbar.set_ticklabels(grid_cell_types)\n",
    "    elif plot == 'after':\n",
    "        zoom_aspect = (video_size[0] / grid.shape[0], video_size[1] / grid.shape[1])\n",
    "        frames = []\n",
    "\n",
    "    get_next_node = fringe.pop if algorithm == 'dfs' else fringe.popleft\n",
    "\n",
    "    while True:\n",
    "        expanded.add(current_node)\n",
    "        parents[current_node] = parent\n",
    "        \n",
    "        if current_node == goal:\n",
    "            break\n",
    "\n",
    "        neighbors = [(neighbor, current_node) for neighbor in get_neighbors(current_node, grid) if neighbor not in expanded]\n",
    "        fringe.extend(neighbors)\n",
    "\n",
    "        if plot:\n",
    "            if current_node != start:\n",
    "                grid[current_node] = grid_values.EXPANDED.value\n",
    "            \n",
    "            for (neighbor, _) in neighbors:\n",
    "                if neighbor != goal:\n",
    "                    grid[neighbor] = grid_values.FRINGE.value\n",
    "            \n",
    "            if plot == 'during': # nbagg is faster but it often doesn't leave a graph behind and its window doesn't look as nice\n",
    "                img.set_data(grid)\n",
    "                display.display(plt.gcf())\n",
    "                display.clear_output(wait=True)\n",
    "            elif plot == 'after':\n",
    "                frames.append(zoom(grid, zoom_aspect, order=0))\n",
    "\n",
    "        while current_node in expanded:\n",
    "            current_node, parent = get_next_node()\n",
    "    \n",
    "    if plot == 'after':\n",
    "        frames = np.dstack(frames).transpose(2, 0, 1)\n",
    "        vwrite(video_path, (cmap(frames) * 255).astype(np.uint8))\n",
    "    \n",
    "    # construct path as list of nodes: [start, ..., goal]\n",
    "    path = [goal]\n",
    "    parent = parents[goal]\n",
    "    while parent is not None:\n",
    "        path.append(parent)\n",
    "        parent = parents[parent]\n",
    "    path.reverse() # because we started at the goal\n",
    "    return path"
   ]
  },
  {
   "cell_type": "code",
   "execution_count": 13,
   "metadata": {
    "ExecuteTime": {
     "end_time": "2017-08-31T17:21:58.239513Z",
     "start_time": "2017-08-31T17:21:57.510314Z"
    }
   },
   "outputs": [
    {
     "data": {
      "image/png": "[encoded data removed]",
      "text/plain": [
       "<matplotlib.figure.Figure at 0x7f1ff6d7d1d0>"
      ]
     },
     "metadata": {},
     "output_type": "display_data"
    }
   ],
   "source": [
    "grid, start, goal = make_grid(30, start_goal_locs='mid')\n",
    "show_grid(grid)"
   ]
  },
  {
   "cell_type": "code",
   "execution_count": 14,
   "metadata": {
    "ExecuteTime": {
     "end_time": "2017-08-31T17:22:12.859836Z",
     "start_time": "2017-08-31T17:22:11.981698Z"
    }
   },
   "outputs": [
    {
     "data": {
      "image/png": "[encoded data removed]",
      "text/plain": [
       "<matplotlib.figure.Figure at 0x7f1ff3937a58>"
      ]
     },
     "metadata": {},
     "output_type": "display_data"
    }
   ],
   "source": [
    "path = bfs_dfs(grid, start, goal, algorithm='dfs')\n",
    "color_path(grid, path)\n",
    "show_grid(grid)"
   ]
  },
  {
   "cell_type": "code",
   "execution_count": null,
   "metadata": {
    "collapsed": true
   },
   "outputs": [],
   "source": []
  },
  {
   "cell_type": "code",
   "execution_count": null,
   "metadata": {
    "collapsed": true
   },
   "outputs": [],
   "source": []
  },
  {
   "cell_type": "code",
   "execution_count": null,
   "metadata": {
    "collapsed": true
   },
   "outputs": [],
   "source": []
  },
  {
   "cell_type": "code",
   "execution_count": null,
   "metadata": {
    "collapsed": true
   },
   "outputs": [],
   "source": []
  },
  {
   "cell_type": "code",
   "execution_count": null,
   "metadata": {
    "collapsed": true
   },
   "outputs": [],
   "source": []
  },
  {
   "cell_type": "markdown",
   "metadata": {},
   "source": [
    "<video controls src=\"dfs.mp4\" height='600px' width='600px'/>"
   ]
  },
  {
   "cell_type": "markdown",
   "metadata": {},
   "source": [
    "<img src='dfs.png'>"
   ]
  },
  {
   "cell_type": "markdown",
   "metadata": {},
   "source": [
    "<video controls src=\"dfs_mid.mp4\" height='600px' width='600px'/>"
   ]
  },
  {
   "cell_type": "markdown",
   "metadata": {},
   "source": [
    "<img src=\"dfs_mid.png\">"
   ]
  },
  {
   "cell_type": "markdown",
   "metadata": {},
   "source": [
    "<video controls src=\"bfs.mp4\" height='600px' width='600px'/>"
   ]
  },
  {
   "cell_type": "markdown",
   "metadata": {},
   "source": [
    "<img src='bfs.png'>"
   ]
  },
  {
   "cell_type": "markdown",
   "metadata": {},
   "source": [
    "# Breadth-first Search"
   ]
  },
  {
   "cell_type": "markdown",
   "metadata": {},
   "source": [
    "Remember that for BFS, you want to start at the source node then search its children, then their children, and so on. Search all nodes at a given level before moving deeper. Think about how you want to store the children so that you can process them in the right order. Also, how will you handle it if you have something like S->A->B->C->A (that is, a node you have already visited is a child of another node you're visiting)? Between nodes at the same level, it doesn't matter what order you handle them in; you can decide.\n",
    "\n",
    "If you get stuck, I have written a few notes at the start of the solution that you can look at before reading the solution code.\n",
    "\n",
    "Feel free to use the graph above or make your own; I recommend drawing them first and using that as you write/evaluate your algorithm. During debugging, feel free to use the solution code (with verbose=True if you want more information about what it's doing)."
   ]
  },
  {
   "cell_type": "code",
   "execution_count": 2,
   "metadata": {
    "ExecuteTime": {
     "end_time": "2017-09-18T15:53:49.188010Z",
     "start_time": "2017-09-18T15:53:49.180345Z"
    },
    "collapsed": true,
    "init_cell": true
   },
   "outputs": [],
   "source": [
    "def bfs(start_node):\n",
    "    pass"
   ]
  },
  {
   "cell_type": "code",
   "execution_count": null,
   "metadata": {
    "collapsed": true
   },
   "outputs": [],
   "source": [
    "bfs_solution(graph.start_node, verbose=True)"
   ]
  },
  {
   "cell_type": "markdown",
   "metadata": {},
   "source": [
    "### Solution"
   ]
  },
  {
   "cell_type": "markdown",
   "metadata": {},
   "source": [
    "For BFS, you can store the nodes you're going to visit in a **Queue**. Think of people in a queue/line to buy tickets: the ones in line the longest get to go through first; for the nodes, those that have been in the queue the longest were added first (because one adds to the end of the queue and removes from the front). For example, if the start node has three children, those will be at the front of the queue; their children will all be in line at the end, and so on.\n",
    "\n",
    "Some things to note when writing these algorithms:\n",
    "* Only add a node to the fringe if you haven't visited it before (the **fringe** is a term sometimes used for the structure (e.g. a queue) of nodes which you are going to visit, which should be in order by priority). Because you take paths in order of highest priority, once you visit a node, any other path to it is lower priority.\n",
    "    * Note, however, that _adding_ a node to the fringe doesn't mean you've visited it yet. You **visit** a node when you _take it off of_ the fringe. Paths may be added to the fringe out of order, but they must be taken off of it in order (by priority).\n",
    "* Only expand a node if you haven't already visited it (**expanding** means to add the children of a node to the fringe). \n",
    "* There are certainly different ways you could construct the path once you find the goal node. I've used a simple example here: I store nodes and the path to them in my fringe. You can't just store the path in the node itself because you may find multiple paths to a given node (you could be careful to only store the highest-priority path to a node, then it should be fine)."
   ]
  },
  {
   "cell_type": "code",
   "execution_count": 3,
   "metadata": {
    "ExecuteTime": {
     "end_time": "2017-09-18T15:53:49.234117Z",
     "start_time": "2017-09-18T15:53:49.192890Z"
    },
    "hide_input": false,
    "init_cell": true
   },
   "outputs": [
    {
     "ename": "SyntaxError",
     "evalue": "invalid syntax (<ipython-input-3-7204d2ec70c6>, line 20)",
     "output_type": "error",
     "traceback": [
      "\u001b[0;36m  File \u001b[0;32m\"<ipython-input-3-7204d2ec70c6>\"\u001b[0;36m, line \u001b[0;32m20\u001b[0m\n\u001b[0;31m    print \"Visiting {}; Path is: {}\".format(node.name, [path_node.name for path_node in path])\u001b[0m\n\u001b[0m                                   ^\u001b[0m\n\u001b[0;31mSyntaxError\u001b[0m\u001b[0;31m:\u001b[0m invalid syntax\n"
     ]
    }
   ],
   "source": [
    "def bfs_solution(start_node, verbose=False):\n",
    "    \"\"\"\n",
    "    Returns the path from start_node to the goal_node (discovered using the Node::is_goal function).\n",
    "    The path is of the form of a list of nodes beginning with start_node and ending with the goal.\n",
    "    If no path to the goal node is found, an empty list is returned.\n",
    "    \"\"\"\n",
    "    \n",
    "    fringe = deque([(start_node, [start_node])]) # elements are tuples: (node, path_from_start)\n",
    "    visited = set() # never visit the same node twice; the first path to any node is the best one\n",
    "    \n",
    "    while fringe: # not empty\n",
    "        node, path = fringe.popleft()\n",
    "        \n",
    "        if node in visited:\n",
    "            continue # already found a better path to this node; ignore this one\n",
    "\n",
    "        visited.add(node)\n",
    "            \n",
    "        if verbose:\n",
    "            print \"Visiting {}; Path is: {}\".format(node.name, [path_node.name for path_node in path])\n",
    "        \n",
    "        \n",
    "        if node.is_goal_node():\n",
    "            if verbose:\n",
    "                print \"Found path: {}\".format([path_node.name for path_node in path])\n",
    "            return path\n",
    "        else:\n",
    "            for child in node.get_children():\n",
    "                if child not in visited:\n",
    "                    fringe.append((child, path + [child]))\n",
    "    if verbose:\n",
    "        print \"No path found from {} to goal.\".format(start_node)\n",
    "    return []"
   ]
  },
  {
   "cell_type": "markdown",
   "metadata": {},
   "source": [
    "# Depth-first Search"
   ]
  },
  {
   "cell_type": "markdown",
   "metadata": {},
   "source": [
    "Remember that DFS visits nodes further away first. If you can think of a good way to adapt your fringe to keep the nodes in the right order, you shouldn't need to change much from BFS to DFS.\n",
    "\n",
    "Again, there are some hints/comments at the start of the solution, though they shouldn't matter as much this time."
   ]
  },
  {
   "cell_type": "code",
   "execution_count": null,
   "metadata": {
    "collapsed": true
   },
   "outputs": [],
   "source": [
    "bfs_dfs_solution(graph.start_node, 'dfs', verbose=True)"
   ]
  },
  {
   "cell_type": "markdown",
   "metadata": {},
   "source": [
    "### Solution"
   ]
  },
  {
   "cell_type": "markdown",
   "metadata": {},
   "source": [
    "You may notice that BFS and DFS are very similar except in how they define priority. For these graph search algorithms, all you have to do to switch between them is change how you keep your paths sorted in the fringe to get them off of it in priority order.\n",
    "   * However, in practice, sometimes you can gain a bit of a speedup by using a structure that is optimized for your definition of priority instead of one that sorts each element added by your priority definition. You can decide when implementing if it is better to make your function more adaptable or more efficient. That is, a priority queue keeps all elements sorted by a defined priority that each element has. However, instead you can just use a Queue for BFS because it also keeps things in priority-order for BFS (the priority value of each item is just implicit). For DFS, you can use a **Stack** instead of a Queue: think of a stack of books. The first ones you take off are the last ones you added. This means you remove the nodes most recently put on the fringe. For example, if the starting node has three children, those will go to the bottom of the stack. When you expand the top one, its children are added to the top, so you visit those before going back to the two remaining children of the starting node.\n",
    "\n",
    "To show how similar BFS and DFS are, I wrote a solution function that can do either algorithm with only a very minor change. To write an even more general function, you need to have some aspect of a node that you can use to compute the priorities (e.g. for BFS/DFS, add the distance from the start node and then you can compute the priorities). Then you can use a priority queue that will keep your nodes in the right order for whatever sort of priority you define."
   ]
  },
  {
   "cell_type": "code",
   "execution_count": null,
   "metadata": {
    "ExecuteTime": {
     "end_time": "2017-09-18T15:53:49.235945Z",
     "start_time": "2017-09-18T15:53:47.287Z"
    },
    "collapsed": true,
    "init_cell": true
   },
   "outputs": [],
   "source": [
    "def bfs_dfs_solution(start_node, search_type, verbose=False):\n",
    "    \"\"\"\n",
    "    Returns the path from start_node to the goal_node (discovered using the Node::is_goal function).\n",
    "    The path is of the form of a list of nodes beginning with start_node and ending with the goal.\n",
    "    If no path to the goal node is found, an empty list is returned.\n",
    "    \"\"\"\n",
    "    \n",
    "    fringe = deque([(start_node, [start_node])]) # elements are tuples: (node, path_from_start)\n",
    "    visited = set() # never visit the same node twice; the first path to any node is the best one\n",
    "    \n",
    "    if search_type == 'bfs':\n",
    "        get_next_node = fringe.popleft\n",
    "        add_to_fringe = fringe.append\n",
    "    elif search_type == 'dfs':\n",
    "        get_next_node = fringe.pop\n",
    "        add_to_fringe = fringe.append\n",
    "    else:\n",
    "        print \"search_type must be bfs or dfs\"\n",
    "        return []\n",
    "    \n",
    "    \n",
    "    while fringe: # not empty\n",
    "        node, path = get_next_node()\n",
    "        \n",
    "        if node in visited:\n",
    "            continue\n",
    "        \n",
    "        visited.add(node)\n",
    "        \n",
    "        if verbose:\n",
    "            print \"Visiting {}; Path is: {}\".format(node.name, [path_node.name for path_node in path])\n",
    "            \n",
    "        if node.is_goal_node():\n",
    "            if verbose:\n",
    "                print \"Found path: {}\".format([path_node.name for path_node in path])\n",
    "            return path\n",
    "        else:\n",
    "            for child in node.get_children():\n",
    "                if child not in visited:\n",
    "                    add_to_fringe((child, path + [child]))\n",
    "    if verbose:\n",
    "        print \"No path found from {} to goal.\".format(start_node)\n",
    "    return []"
   ]
  }
 ],
 "metadata": {
  "anaconda-cloud": {},
  "celltoolbar": "Initialisation Cell",
  "hide_input": false,
  "kernelspec": {
   "display_name": "Python 3",
   "language": "python",
   "name": "python3"
  },
  "language_info": {
   "codemirror_mode": {
    "name": "ipython",
    "version": 3
   },
   "file_extension": ".py",
   "mimetype": "text/x-python",
   "name": "python",
   "nbconvert_exporter": "python",
   "pygments_lexer": "ipython3",
   "version": "3.6.1"
  },
  "latex_envs": {
   "LaTeX_envs_menu_present": true,
   "bibliofile": "biblio.bib",
   "cite_by": "apalike",
   "current_citInitial": 1,
   "eqLabelWithNumbers": true,
   "eqNumInitial": 1,
   "labels_anchors": false,
   "latex_user_defs": false,
   "report_style_numbering": false,
   "user_envs_cfg": false
  },
  "toc": {
   "colors": {
    "hover_highlight": "#DAA520",
    "navigate_num": "#000000",
    "navigate_text": "#333333",
    "running_highlight": "#FF0000",
    "selected_highlight": "#FFD700",
    "sidebar_border": "#EEEEEE",
    "wrapper_background": "#FFFFFF"
   },
   "moveMenuLeft": true,
   "nav_menu": {
    "height": "234px",
    "width": "211px"
   },
   "navigate_menu": true,
   "number_sections": true,
   "sideBar": true,
   "threshold": 4,
   "toc_cell": true,
   "toc_section_display": "block",
   "toc_window_display": false,
   "widenNotebook": false
  },
  "varInspector": {
   "cols": {
    "lenName": 16,
    "lenType": 16,
    "lenVar": 40
   },
   "kernels_config": {
    "python": {
     "delete_cmd_postfix": "",
     "delete_cmd_prefix": "del ",
     "library": "var_list.py",
     "varRefreshCmd": "print(var_dic_list())"
    },
    "r": {
     "delete_cmd_postfix": ") ",
     "delete_cmd_prefix": "rm(",
     "library": "var_list.r",
     "varRefreshCmd": "cat(var_dic_list()) "
    }
   },
   "types_to_exclude": [
    "module",
    "function",
    "builtin_function_or_method",
    "instance",
    "_Feature"
   ],
   "window_display": false
  }
 },
 "nbformat": 4,
 "nbformat_minor": 2
}
