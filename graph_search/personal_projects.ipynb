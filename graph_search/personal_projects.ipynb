{
 "cells": [
  {
   "cell_type": "markdown",
   "metadata": {},
   "source": []
  },
  {
   "cell_type": "markdown",
   "metadata": {},
   "source": [
    "# Sample Project: 8-puzzle\n",
    "Note how in the BFS/DFS problems, we didn't need to have access to the entire graph. All we needed was a node to start from, a way to find the children of that node, and a way to determine if a node was a goal (sometimes there is a single goal node, but other times there may be multiple). Thus when we are solving many graph problems, we can build the parts of the graph that we need without necessarily pre-building and storing the entire graph in memory. We don't need a _graph_ so much as:\n",
    "* a starting state\n",
    "* a way to compute the children of a given state\n",
    "* a way to determine if a state is a goal (there may be multiple, acceptable goals in some problems)\n",
    "\n",
    "A great number of problems can be framed in the context of a search across a graph by defining these three elements. This is useful becomes graph problems are well-characterized and there are already many algorithms for working with them. This exercise gives a fun example of how we can frame a problem as a graph and solve it using search.\n",
    "\n",
    "If you're not sure what an 8-puzzle is, play one quickly [here][8-puzz]. This problem is much more open-ended and may take more time, but it's also (in my opinion) the most practical; in real-life, you're going to need to find a way to convert your own problems into something that an algorithm can solve. You'll often be using/adapting known algorithms, but much of the difficulty is often just framining the problem correctly. Write a function to solve an 8-puzzle.\n",
    "\n",
    "---------------\n",
    "\n",
    "Hints (not too much to say here; if you need more help, you can look at the solution code below)\n",
    "\n",
    "* You'll probably want to start by defining an 8-puzzle class; you already know search algorithms that you can use to solve this problem once you have the class working properly. From above, you know the three elements you need in such a class. From playing the game a little, it should be clear which states are reachable from a given one (i.e. one slide (one edge) can get you from a given position to which others? Those are the children of that position).\n",
    "* You need to find a way to store the configuration of the board and to tell what new configurations you can reach from it.\n",
    "* You'll probably want a decent string representation of your 8-puzzle class so that you can watch the steps of solving it for debugging.\n",
    "* As I don't know how you'll write your Puzzle class, you'll have to do your own testing for correctness; you can see what I tested at the end of the solution code. Essentially, I gave it a couple of puzzles to start with and checked that it computed the right paths (or found no solution if there was none; be aware that an 8-puzzle is not always solvable. There's a proof about what has to hold for any given state for it to be solvable; I use that because I was aware of it before I tried to code this up, but I don't think you need to).\n",
    "* If you want to compare with something (though my code hasn't been tested that thoroughly), I've written an example with my code below; you can change the Puzzle to be a simpler one that you're debugging on if needed\n",
    "\n",
    "[8-puzz]: http://mypuzzle.org/sliding"
   ]
  },
  {
   "cell_type": "code",
   "execution_count": 1,
   "metadata": {
    "ExecuteTime": {
     "end_time": "2017-09-04T20:53:09.075688Z",
     "start_time": "2017-09-04T20:53:09.069685Z"
    },
    "collapsed": true
   },
   "outputs": [],
   "source": [
    "from collections import deque"
   ]
  },
  {
   "cell_type": "code",
   "execution_count": 2,
   "metadata": {
    "ExecuteTime": {
     "end_time": "2017-09-04T20:53:10.188196Z",
     "start_time": "2017-09-04T20:53:09.879619Z"
    },
    "collapsed": true
   },
   "outputs": [],
   "source": [
    "class Puzzle(object):\n",
    "    '''\n",
    "    Implement a puzzle data structure for the 8-puzzle.\n",
    "\n",
    "    Your Puzzle class must define initial_state, goal_state, and next_states(s) as\n",
    "    specified in the problem statement\n",
    "    '''\n",
    "\n",
    "    def __init__(self, starting_state):\n",
    "        \"\"\"\n",
    "        __init__(self, starting_state): initializes the Puzzle with the given argument\n",
    "        as the initial state; must initialize initial_state and goal_state\n",
    "        ARGS:\n",
    "          starting_state - the starting state of the puzzle\n",
    "        \"\"\"\n",
    "        self.initial_state = starting_state\n",
    "        self.goal_state = (1, 2, 3, 4, 5, 6, 7, 8, 0) # 0 denotes the blank space\n",
    "\n",
    "    def __len__(self):\n",
    "        return 9\n",
    "\n",
    "    def __getitem__(self, index):\n",
    "        return self.initial_state[index] # so you can do Puzzle[i] and get back Puzzle.initial_state[i]\n",
    "\n",
    "    def __str__(self):\n",
    "        return str(self.initial_state[:3]) + \"\\n\" + str(self.initial_state[3:6]) + \"\\n\" + str(self.initial_state[6:])\n",
    "    \n",
    "    def __repr__(self):\n",
    "        return self.__str__()\n",
    "\n",
    "    def swap(self, state, i, j):\n",
    "        \"\"\"\n",
    "        Swaps two elements in the given state tuple.\n",
    "        :param state: a tuple with the current state of a puzzle\n",
    "        :type state: tuple\n",
    "        :param i: index of one element to swap\n",
    "        :param j: index of other element to swap; j != i\n",
    "        :return: a tuple which is a copy of state except the elements at i, j are swapped\n",
    "        :rtype: tuple\n",
    "        \"\"\"\n",
    "        first = min(i, j)\n",
    "        second = max(i, j)\n",
    "        swapped = state[:first] + (state[second],) + state[first+1:second] + (state[first],) + state[second+1:]\n",
    "        # if you make states lists instead of tuples, you can do this more easily, but I wanted them immutable\n",
    "        return swapped\n",
    "\n",
    "    def next_states(self, state):\n",
    "        \"\"\"\n",
    "        Returns a list of all the states reachable from the given state with one slide\n",
    "        :type state: tuple\n",
    "        :param state: the state from which to\n",
    "        :rtype: list[tuple]\n",
    "        :return: a list of states that are reachable with one slide\n",
    "        \"\"\"\n",
    "        next_states = []\n",
    "        blank_index = state.index(0) # where the blank spot is; slides have to move a piece to here\n",
    "\n",
    "        # this is the trickiest part. The slides we can do are left, right, up/top, and down/bottom. However, all of these can only be done if the\n",
    "        # blank is in the center. If the blank is on the left side, we can't slide left; if on the top, we can't slide up; etc.\n",
    "        # Thus we check where the blank spot is, and each side that it's not on is a valid direction to move\n",
    "        \n",
    "        left_indices = (0, 3, 6)\n",
    "        right_indices = (2, 5, 8)\n",
    "        top_indices = (0, 1, 2)\n",
    "        bottom_indices = (6, 7, 8)\n",
    "        left_swap = -1 # sliding left means the index goes down one\n",
    "        right_swap = 1 # up one for a right slide\n",
    "        top_swap = -3 # down 3 for a top slide\n",
    "        bottom_swap = 3 # up three for a bottom slide\n",
    "\n",
    "        valid_swaps = []\n",
    "        for indices, swap_value in zip([left_indices, right_indices, top_indices, bottom_indices], [left_swap, right_swap, top_swap, bottom_swap]):\n",
    "            if blank_index not in indices: valid_swaps.append(swap_value)\n",
    "\n",
    "        for swap_value in valid_swaps:\n",
    "            next_states.append(self.swap(state, blank_index, blank_index + swap_value))\n",
    "\n",
    "        return next_states\n",
    "\n",
    "\n",
    "class PuzzleNode(Puzzle):\n",
    "    \"\"\"\n",
    "    Helper class for solving Puzzles. Keeps track of parent PuzzleNode and its own puzzle state as a tuple\n",
    "    \"\"\"\n",
    "\n",
    "    def __init__(self, parent, puzzle_state):\n",
    "        \"\"\"\n",
    "        :param parent:\n",
    "        :type parent: PuzzleNode\n",
    "        :param puzzle_state:\n",
    "        :type puzzle_state: tuple\n",
    "        :return:\n",
    "        \"\"\"\n",
    "        \n",
    "        self.parent = parent\n",
    "        # super(Puzzle, self).__init__(puzzle_state)\n",
    "        Puzzle.__init__(self, puzzle_state)\n",
    "\n",
    "#     def __str__(self):\n",
    "#         if self.parent is None:\n",
    "#             return \"Parent:\\n\" + \"None\" + \"\\nSelf:\\n\" + Puzzle.__str__(self)\n",
    "#         else:\n",
    "#             return \"Parent:\\n\" + Puzzle.__str__(self.parent) + \"\\nSelf:\\n\" + Puzzle.__str__(self)\n",
    "\n",
    "    def get_parent(self):\n",
    "        return self.parent\n",
    "\n",
    "    def get_state(self):\n",
    "        return self.initial_state\n",
    "\n",
    "    def get_children(self):\n",
    "        \"\"\"\n",
    "        Returns a list of all of the children of the given PuzzleNode\n",
    "        :return: a list of the children of the given PuzzleNode\n",
    "        :rtype: list[PuzzleNode]\n",
    "        \"\"\"\n",
    "        return [PuzzleNode(self, state) for state in self.next_states(self.initial_state)]\n",
    "\n",
    "    def get_path(self):\n",
    "        \"\"\"\n",
    "        :return:\n",
    "        :rtype: list[tuple]\n",
    "        \"\"\"\n",
    "        if self.parent is None:\n",
    "            return [self]\n",
    "        else:\n",
    "            return self.parent.get_path() + [self]\n",
    "\n",
    "\n",
    "def solve_puzzle(P):\n",
    "    \"\"\"\n",
    "    Given an 8-puzzle data structure, returns the shortest sequence of states that can be used to solve the puzzle\n",
    "    \n",
    "    :param P: the 8-puzzle, with initial_state, goal_state, and next_states(s) defined\n",
    "    :type P: Puzzle\n",
    "    :return: the sequence of states used to solve the puzzle in the fewest moves (as a list); if there are no possible solutions,\n",
    "             return the empty list\n",
    "    :rtype: list[tuple]\n",
    "    \"\"\"\n",
    "    \n",
    "    # you should be able to just use your BFS implementation from before as long as you standardize your Puzzle class functions\n",
    "    # (like get_children and is_goal) with those of your Node class; I wrote this code before writing the Node class or the BFS/DFS\n",
    "    # functions above; it does the same as my BFS, though, except that for unsolvable Puzzles, it doesn't bother trying\n",
    "    # (it's not meant to be obvious that the parity of the number of inversions shows whether the Puzzle is solvable; there's a proof\n",
    "    # of that, however)\n",
    "    \n",
    "    puzzle_root = PuzzleNode(None, P.initial_state)\n",
    "    num_inversions = 0\n",
    "    for i in range(len(puzzle_root)):\n",
    "        if puzzle_root[i] == 0: continue  # ignore blank space\n",
    "        for j in range(i):  # all spaces before this one\n",
    "            if puzzle_root[j] > puzzle_root[i]:\n",
    "                num_inversions += 1\n",
    "    if num_inversions % 2 != 0: return []\n",
    "    \n",
    "    # BFS\n",
    "    nodes_to_process = deque([puzzle_root])\n",
    "    nodes_visited = set()\n",
    "    while nodes_to_process:\n",
    "        node = nodes_to_process.popleft()\n",
    "        if node.initial_state in nodes_visited:\n",
    "            continue\n",
    "        elif node.initial_state == puzzle_root.goal_state:\n",
    "            return node.get_path()\n",
    "        else:\n",
    "            nodes_visited.add(node.initial_state)\n",
    "            nodes_to_process.extend([child for child in node.get_children() if child.initial_state not in nodes_visited])\n",
    "    return []  # if this is reached, there was no valid path\n",
    "\n",
    "\n",
    "def simple_test():\n",
    "    # Test the Puzzle class and getting next states\n",
    "    s = (1, 2, 3, 4, 0, 6, 7, 5, 8)\n",
    "    P = Puzzle(s)\n",
    "    assert P.initial_state == (1, 2, 3, 4, 0, 6, 7, 5, 8)\n",
    "    assert P.goal_state == (1, 2, 3, 4, 5, 6, 7, 8, 0)\n",
    "    s_next_states = P.next_states(s)\n",
    "    state_solutions = [(1, 0, 3, 4, 2, 6, 7, 5, 8), (1, 2, 3, 0, 4, 6, 7, 5, 8), (1, 2, 3, 4, 6, 0, 7, 5, 8),\n",
    "                        (1, 2, 3, 4, 5, 6, 7, 0, 8)]\n",
    "    for i in range(4):\n",
    "        assert s_next_states[i] in state_solutions\n",
    "\n",
    "    # Test finding a solution when the Puzzle is and is not solvable\n",
    "    unsolvable_puzzles = [Puzzle((5, 1, 8, 0, 2, 3, 4, 6, 7))]\n",
    "    unsolvable_puzzle_solutions = []\n",
    "    for puzzle in unsolvable_puzzles:\n",
    "        unsolvable_puzzle_solutions.append(solve_puzzle(puzzle))\n",
    "    for solution in unsolvable_puzzle_solutions:\n",
    "        assert solution == []\n",
    "\n",
    "    solution_path = [(1, 2, 3, 4, 0, 6, 7, 5, 8), (1, 2, 3, 4, 5, 6, 7, 0, 8), (1, 2, 3, 4, 5, 6, 7, 8, 0)]\n",
    "    solution = solve_puzzle(P)\n",
    "    for i in range(len(solution)):\n",
    "        assert solution[i].initial_state == solution_path[i]\n",
    "    print(\"Tests passed.\")"
   ]
  },
  {
   "cell_type": "code",
   "execution_count": 3,
   "metadata": {
    "ExecuteTime": {
     "end_time": "2017-09-04T20:53:11.506113Z",
     "start_time": "2017-09-04T20:53:11.498094Z"
    }
   },
   "outputs": [
    {
     "name": "stdout",
     "output_type": "stream",
     "text": [
      "Tests passed.\n"
     ]
    }
   ],
   "source": [
    "simple_test()"
   ]
  },
  {
   "cell_type": "code",
   "execution_count": 9,
   "metadata": {
    "ExecuteTime": {
     "end_time": "2017-09-04T21:15:02.541805Z",
     "start_time": "2017-09-04T21:15:02.535911Z"
    },
    "collapsed": true
   },
   "outputs": [],
   "source": [
    "s = solution[0]"
   ]
  },
  {
   "cell_type": "code",
   "execution_count": 11,
   "metadata": {
    "ExecuteTime": {
     "end_time": "2017-09-04T21:15:12.934895Z",
     "start_time": "2017-09-04T21:15:12.925817Z"
    }
   },
   "outputs": [
    {
     "data": {
      "text/plain": [
       "(0, 8, 3)\n",
       "(6, 4, 7)\n",
       "(1, 2, 5)"
      ]
     },
     "execution_count": 11,
     "metadata": {},
     "output_type": "execute_result"
    }
   ],
   "source": [
    "s"
   ]
  },
  {
   "cell_type": "code",
   "execution_count": 13,
   "metadata": {
    "ExecuteTime": {
     "end_time": "2017-09-04T21:15:49.581993Z",
     "start_time": "2017-09-04T21:15:49.363901Z"
    },
    "collapsed": true
   },
   "outputs": [],
   "source": [
    "import numpy as np"
   ]
  },
  {
   "cell_type": "code",
   "execution_count": 22,
   "metadata": {
    "ExecuteTime": {
     "end_time": "2017-09-04T21:19:09.720156Z",
     "start_time": "2017-09-04T21:19:09.708833Z"
    },
    "scrolled": false
   },
   "outputs": [
    {
     "data": {
      "text/plain": [
       "'[[[0, 8, 3], [6, 4, 7], [1, 2, 5]], [[8, 0, 3], [6, 4, 7], [1, 2, 5]], [[8, 4, 3], [6, 0, 7], [1, 2, 5]], [[8, 4, 3], [0, 6, 7], [1, 2, 5]], [[8, 4, 3], [1, 6, 7], [0, 2, 5]], [[8, 4, 3], [1, 6, 7], [2, 0, 5]], [[8, 4, 3], [1, 0, 7], [2, 6, 5]], [[8, 4, 3], [0, 1, 7], [2, 6, 5]], [[0, 4, 3], [8, 1, 7], [2, 6, 5]], [[4, 0, 3], [8, 1, 7], [2, 6, 5]], [[4, 1, 3], [8, 0, 7], [2, 6, 5]], [[4, 1, 3], [8, 7, 0], [2, 6, 5]], [[4, 1, 3], [8, 7, 5], [2, 6, 0]], [[4, 1, 3], [8, 7, 5], [2, 0, 6]], [[4, 1, 3], [8, 7, 5], [0, 2, 6]], [[4, 1, 3], [0, 7, 5], [8, 2, 6]], [[4, 1, 3], [7, 0, 5], [8, 2, 6]], [[4, 1, 3], [7, 2, 5], [8, 0, 6]], [[4, 1, 3], [7, 2, 5], [0, 8, 6]], [[4, 1, 3], [0, 2, 5], [7, 8, 6]], [[0, 1, 3], [4, 2, 5], [7, 8, 6]], [[1, 0, 3], [4, 2, 5], [7, 8, 6]], [[1, 2, 3], [4, 0, 5], [7, 8, 6]], [[1, 2, 3], [4, 5, 0], [7, 8, 6]], [[1, 2, 3], [4, 5, 6], [7, 8, 0]]]'"
      ]
     },
     "execution_count": 22,
     "metadata": {},
     "output_type": "execute_result"
    }
   ],
   "source": [
    "str(list(map(lambda frame: np.array(frame.get_state()).reshape((3, 3)).tolist(), solution)))"
   ]
  },
  {
   "cell_type": "code",
   "execution_count": null,
   "metadata": {
    "collapsed": true
   },
   "outputs": [],
   "source": []
  },
  {
   "cell_type": "code",
   "execution_count": null,
   "metadata": {
    "collapsed": true
   },
   "outputs": [],
   "source": []
  },
  {
   "cell_type": "code",
   "execution_count": null,
   "metadata": {
    "collapsed": true
   },
   "outputs": [],
   "source": []
  },
  {
   "cell_type": "code",
   "execution_count": null,
   "metadata": {
    "collapsed": true
   },
   "outputs": [],
   "source": []
  },
  {
   "cell_type": "code",
   "execution_count": 4,
   "metadata": {
    "ExecuteTime": {
     "end_time": "2017-09-04T20:53:21.033310Z",
     "start_time": "2017-09-04T20:53:19.398103Z"
    }
   },
   "outputs": [
    {
     "name": "stdout",
     "output_type": "stream",
     "text": [
      "(0, 8, 3)\n",
      "(6, 4, 7)\n",
      "(1, 2, 5)\n",
      "\n",
      "(8, 0, 3)\n",
      "(6, 4, 7)\n",
      "(1, 2, 5)\n",
      "\n",
      "(8, 4, 3)\n",
      "(6, 0, 7)\n",
      "(1, 2, 5)\n",
      "\n",
      "(8, 4, 3)\n",
      "(0, 6, 7)\n",
      "(1, 2, 5)\n",
      "\n",
      "(8, 4, 3)\n",
      "(1, 6, 7)\n",
      "(0, 2, 5)\n",
      "\n",
      "(8, 4, 3)\n",
      "(1, 6, 7)\n",
      "(2, 0, 5)\n",
      "\n",
      "(8, 4, 3)\n",
      "(1, 0, 7)\n",
      "(2, 6, 5)\n",
      "\n",
      "(8, 4, 3)\n",
      "(0, 1, 7)\n",
      "(2, 6, 5)\n",
      "\n",
      "(0, 4, 3)\n",
      "(8, 1, 7)\n",
      "(2, 6, 5)\n",
      "\n",
      "(4, 0, 3)\n",
      "(8, 1, 7)\n",
      "(2, 6, 5)\n",
      "\n",
      "(4, 1, 3)\n",
      "(8, 0, 7)\n",
      "(2, 6, 5)\n",
      "\n",
      "(4, 1, 3)\n",
      "(8, 7, 0)\n",
      "(2, 6, 5)\n",
      "\n",
      "(4, 1, 3)\n",
      "(8, 7, 5)\n",
      "(2, 6, 0)\n",
      "\n",
      "(4, 1, 3)\n",
      "(8, 7, 5)\n",
      "(2, 0, 6)\n",
      "\n",
      "(4, 1, 3)\n",
      "(8, 7, 5)\n",
      "(0, 2, 6)\n",
      "\n",
      "(4, 1, 3)\n",
      "(0, 7, 5)\n",
      "(8, 2, 6)\n",
      "\n",
      "(4, 1, 3)\n",
      "(7, 0, 5)\n",
      "(8, 2, 6)\n",
      "\n",
      "(4, 1, 3)\n",
      "(7, 2, 5)\n",
      "(8, 0, 6)\n",
      "\n",
      "(4, 1, 3)\n",
      "(7, 2, 5)\n",
      "(0, 8, 6)\n",
      "\n",
      "(4, 1, 3)\n",
      "(0, 2, 5)\n",
      "(7, 8, 6)\n",
      "\n",
      "(0, 1, 3)\n",
      "(4, 2, 5)\n",
      "(7, 8, 6)\n",
      "\n",
      "(1, 0, 3)\n",
      "(4, 2, 5)\n",
      "(7, 8, 6)\n",
      "\n",
      "(1, 2, 3)\n",
      "(4, 0, 5)\n",
      "(7, 8, 6)\n",
      "\n",
      "(1, 2, 3)\n",
      "(4, 5, 0)\n",
      "(7, 8, 6)\n",
      "\n",
      "(1, 2, 3)\n",
      "(4, 5, 6)\n",
      "(7, 8, 0)\n",
      "\n"
     ]
    }
   ],
   "source": [
    "solution = solve_puzzle(Puzzle((0, 8, 3, 6, 4, 7, 1, 2, 5)))\n",
    "for state in solution:\n",
    "    print(state, end='\\n\\n')"
   ]
  },
  {
   "cell_type": "code",
   "execution_count": null,
   "metadata": {
    "collapsed": true
   },
   "outputs": [],
   "source": []
  }
 ],
 "metadata": {
  "hide_input": false,
  "kernelspec": {
   "display_name": "Python 3",
   "language": "python",
   "name": "python3"
  },
  "language_info": {
   "codemirror_mode": {
    "name": "ipython",
    "version": 3
   },
   "file_extension": ".py",
   "mimetype": "text/x-python",
   "name": "python",
   "nbconvert_exporter": "python",
   "pygments_lexer": "ipython3",
   "version": "3.6.1"
  },
  "toc": {
   "colors": {
    "hover_highlight": "#DAA520",
    "navigate_num": "#000000",
    "navigate_text": "#333333",
    "running_highlight": "#FF0000",
    "selected_highlight": "#FFD700",
    "sidebar_border": "#EEEEEE",
    "wrapper_background": "#FFFFFF"
   },
   "moveMenuLeft": true,
   "nav_menu": {
    "height": "21px",
    "width": "254px"
   },
   "navigate_menu": true,
   "number_sections": true,
   "sideBar": true,
   "threshold": 4,
   "toc_cell": false,
   "toc_section_display": "block",
   "toc_window_display": false,
   "widenNotebook": false
  },
  "varInspector": {
   "cols": {
    "lenName": 16,
    "lenType": 16,
    "lenVar": 40
   },
   "kernels_config": {
    "python": {
     "delete_cmd_postfix": "",
     "delete_cmd_prefix": "del ",
     "library": "var_list.py",
     "varRefreshCmd": "print(var_dic_list())"
    },
    "r": {
     "delete_cmd_postfix": ") ",
     "delete_cmd_prefix": "rm(",
     "library": "var_list.r",
     "varRefreshCmd": "cat(var_dic_list()) "
    }
   },
   "types_to_exclude": [
    "module",
    "function",
    "builtin_function_or_method",
    "instance",
    "_Feature"
   ],
   "window_display": false
  }
 },
 "nbformat": 4,
 "nbformat_minor": 2
}
