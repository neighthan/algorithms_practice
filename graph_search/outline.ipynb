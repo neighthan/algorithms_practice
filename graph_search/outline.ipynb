{
 "cells": [
  {
   "cell_type": "markdown",
   "metadata": {},
   "source": [
    "# Lesson Plan\n",
    "\n",
    "## Introduction to Graphs and Python\n",
    "* Why did you choose to come to this class?\n",
    "\n",
    "### Graphs\n",
    "\n",
    "### Python\n",
    "* Who here has programmed before in Python? In any programming language?\n",
    "\n",
    "## DFS + BFS\n",
    "* need a second matrix where you store the parent for each node? that way you can trace the path back at the end\n",
    "    * think of how you want to store this; you could just do an integer that represents the direction (e.g. my parent is the cell to the left of me). Then write a helper function that will go from this format to a list of nodes? So that you can change the colors for those to show the path. Also a function to get the list of actions and then reverse them so you know how to get to the goal from the start (e.g. if the parent is to the left, then when going from goal to start, you need to go to the right)\\\n",
    "    * Show the final path on the plot too\n",
    "    * Have the method return the maze with the final path indicated?\n",
    "* Add a create map for unweighted as well; remove the card with the radio buttons. Just need a resizable grid and if you ctrl+click then it toggles that cell (wall -> open, open -> wall). \n",
    "\n",
    "-----\n",
    "\n",
    "* Try to get them to come up with a method of searching before you tell them about any algorithm\n",
    "* Put DFS first, use its shortcomings to segue into BFS\n",
    "\n",
    "## Weighted Graphs: Dijkstra, A\\*\n",
    "* Something is wrong with the map maker ='( figure that out (check the developer console when you open the page)\n",
    "    * Is v-radio-group a new element they just made??\n",
    "* For plotting, you could use a second matrix that stores the color to plot. Then the original matrix can store the weights for each cell. The weight will be the same for all edges (e.g. if you're going into a mountainous cell which has weight 3, all four edges into it have weight 3).\n",
    "* Maybe plot both of these at once? So you can see the terrain while watching the search happen\n",
    "\n",
    "\n",
    "## Finish Dijkstra, A\\*, Start Personal Projects\n",
    "* Make a nice visualization for the 8-puzzle solver\n",
    "\n",
    "-----\n",
    "\n",
    "* Come up with some project ideas for those who might not have any\n",
    "* We can do the 8-puzzle as the default for those who don't have a separate idea.\n",
    "* Help them create a `Node` class for it, a `get_neighbors` function, and a `goal_test` or `goal_node`.\n",
    "\n",
    "\n",
    "## Finish Personal Projects\n",
    "* Show your implementation of the 8-puzzle\n",
    "* Let students show their personal projects\n",
    "\n",
    "## Extra Material\n",
    "If things go more quickly than planned, here are some other things that could be covered as advanced topics.\n",
    "* Grid things\n",
    "    * Jump Point Search\n",
    "    * Goal Bounding\n",
    "    * Subgraph\n",
    "* General\n",
    "    * Bounded, integer weights -> BFS with dummy nodes\n",
    "    * Bellman-Ford (negative weights)\n",
    "    * Floyd-Warshall (APSP vs SPSP vs SSSP)"
   ]
  },
  {
   "cell_type": "code",
   "execution_count": null,
   "metadata": {
    "collapsed": true
   },
   "outputs": [],
   "source": []
  }
 ],
 "metadata": {
  "hide_input": false,
  "kernelspec": {
   "display_name": "Python 3",
   "language": "python",
   "name": "python3"
  },
  "language_info": {
   "codemirror_mode": {
    "name": "ipython",
    "version": 3
   },
   "file_extension": ".py",
   "mimetype": "text/x-python",
   "name": "python",
   "nbconvert_exporter": "python",
   "pygments_lexer": "ipython3",
   "version": "3.6.1"
  },
  "toc": {
   "colors": {
    "hover_highlight": "#DAA520",
    "navigate_num": "#000000",
    "navigate_text": "#333333",
    "running_highlight": "#FF0000",
    "selected_highlight": "#FFD700",
    "sidebar_border": "#EEEEEE",
    "wrapper_background": "#FFFFFF"
   },
   "moveMenuLeft": true,
   "nav_menu": {
    "height": "166px",
    "width": "254px"
   },
   "navigate_menu": true,
   "number_sections": true,
   "sideBar": true,
   "threshold": 4,
   "toc_cell": false,
   "toc_section_display": "block",
   "toc_window_display": false,
   "widenNotebook": false
  },
  "varInspector": {
   "cols": {
    "lenName": 16,
    "lenType": 16,
    "lenVar": 40
   },
   "kernels_config": {
    "python": {
     "delete_cmd_postfix": "",
     "delete_cmd_prefix": "del ",
     "library": "var_list.py",
     "varRefreshCmd": "print(var_dic_list())"
    },
    "r": {
     "delete_cmd_postfix": ") ",
     "delete_cmd_prefix": "rm(",
     "library": "var_list.r",
     "varRefreshCmd": "cat(var_dic_list()) "
    }
   },
   "types_to_exclude": [
    "module",
    "function",
    "builtin_function_or_method",
    "instance",
    "_Feature"
   ],
   "window_display": false
  }
 },
 "nbformat": 4,
 "nbformat_minor": 2
}
