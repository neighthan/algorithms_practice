{
 "cells": [
  {
   "cell_type": "markdown",
   "metadata": {},
   "source": [
    "# Introduction to Graphs and Python\n",
    "TODO - Do I need to do a quick introduction of Jupyter?"
   ]
  },
  {
   "cell_type": "markdown",
   "metadata": {},
   "source": [
    "Graphs are very useful because many problems can be transformed into a graphical representation such that a known algorithm can give you a solution. One common problem, given a graph, is finding the best path between two nodes. There are a variety of algorithms for this problem depending on your definition of 'best' path and the sort of graph you have. Graphs come in a variety of flavors. Here we'll deal with _directed_ graphs (A->B does not imply B->A) with _unweighted_ edges (the length of a path is just the number of edges in it; equivalently, these could be weighted graphs where all edges have the same edge weight).\n",
    "\n",
    "Breadth-first search (BFS) prioritizes search near the source, spreading out slowly but searching all paths as it goes. It is _breadth_-first in the sense that it searches all nodes at a given depth from the source (e.g. two edges away) first before moving deeper (e.g. to nodes three edges away). Depth-first search (DFS) differs in that it searches deeper nodes first until there are no deeper nodes, then it moves up as little as possible to find a new path to move deeper on.\n",
    "\n",
    "Watch a visualization of BFS/DFS [here][visual]. Just skip through the intro explanation of the tool unless you're interested. Then you can draw any graph you like by clicking \"Draw Graph\" in the orange menu on the left side (or have it generate a random graph for you). Once you have a nice graph, click either BFS or DFS to watch the algorithms go (you just have to enter the start node; it doesn't take a goal node as an input but rather keeps searching until it has searched the entire graph to find the shortest paths from the source to all nodes. You can see how long it would have taken to find a given node, though, as you watch). If it moves too fast, you can pause the visualization (the controls are at the bottom of the screen) and use the forward/backward arrow keys to advance. You can also use +/- to change the speed.\n",
    "\n",
    "BFS is guaranteed to find the shortest path between the source and any other node (because it prioritizes shorter paths). DFS does not have this guarantee; as it searches longer paths first, it may find a sub-optimal path. However, both are guaranteed to find some path if a path exists. You might expect that DFS would be quicker then, but the runtime for both is $O(V + E)$ where $V$ is the number of vertices in the graph and $E$ is the number of edges (DFS _is_ useful for some things, though; it is used, for example, when doing topological sorts).\n",
    "\n",
    "---------------------\n",
    "\n",
    "I've written some code for a Node class below; you can use it if you want, adapt it, or write your own. There is also a Graph class (though you could just use a list) and a function that should help in specifying graphs. If you use the Node class below, all you need is the starting node (and to have the goal specified) in order to do your search. I wrote a little code that shows how to make a graph, set the goal node, and find a path using this code.\n",
    "\n",
    "---------------------\n",
    "\n",
    "Other useful things about graphs:\n",
    "* One generally stores a graph as either an adjacency matrix or an edge list.\n",
    "    * An adjacency matrix $A$ is a square $n x n$ matrix, where $n$ is the number of nodes, which has $a_{ij}=1$ if there is an edge between nodes $i$ and $j$, otherwise the entries are 0. One can do a large number of useful things with adjacency matrices. For example, from the definition you already know that $A^1$ gives the number of paths of length 1 or less between pairs of nodes; this property actually holds for any power as well. That is, the entries of $A^k$ are the number of paths of length $k$ or less between the given pairs of nodes. \n",
    "    * An edge list has elements that are tuples of nodes. If there is an edge between nodes $i$ and $j$ then there will be an element $i,j$ in the edge list.\n",
    "* There are a number of different _centralities_ that one can compute on graphs. These tell you which nodes are most important, for varying definitions of importance. The simplest is degree centrality: each node's degree centrality is just the same as its degree (the degree of a node is the number of edges it has; for directed graphs, one also delineates in-degree and out-degree for the number of in- and out-edges of a node).\n",
    "\n",
    "[visual]: https://visualgo.net/dfsbfs"
   ]
  },
  {
   "cell_type": "markdown",
   "metadata": {},
   "source": [
    "## Graphs\n",
    "\n",
    "Edges in a graph can also have **weights**. If the edges are roads, the weights might be the length of the road. It might be better to drive along several short rodes instead of just one long road, if it still gets you there faster!\n",
    "\n",
    "Directed, undirected\n",
    "\n",
    "How to represent grids as graphs\n",
    "\n",
    "### Applications\n",
    "| Nodes | Edges | Problem |\n",
    "|---|\n",
    "| Cities | Roads | Find the shortest path between any two cities |"
   ]
  },
  {
   "cell_type": "markdown",
   "metadata": {},
   "source": [
    "## In Python\n",
    "\n",
    "A program is just a list of directions to your computer. There are many different languages that computers 'speak'; these each have their own strengths and weaknesses. Python is the name of the language we'll be using. I find it rather beginner-friendly, and a lot of great applications have been written in and for Python.\n",
    "\n",
    "There are a few key parts of the language that we'll need to learn in order to tell our computers to do what we want, like solve problems involving graphs. We're going to go over this quickly now. If it feels a little overwhelming, don't worry; you'll get more practice later in the class."
   ]
  },
  {
   "cell_type": "markdown",
   "metadata": {},
   "source": [
    "### Numbers\n",
    "Numbers in Python work just like you would expect! So do most arithmetic operators: `+`, `-`, `*`, and `/`. Just don't use commas in your numbers (e.g. write `10000` *not* `10,000`)."
   ]
  },
  {
   "cell_type": "code",
   "execution_count": 1,
   "metadata": {
    "ExecuteTime": {
     "end_time": "2017-08-27T01:16:46.170236Z",
     "start_time": "2017-08-27T01:16:46.152002Z"
    }
   },
   "outputs": [
    {
     "data": {
      "text/plain": [
       "8"
      ]
     },
     "execution_count": 1,
     "metadata": {},
     "output_type": "execute_result"
    }
   ],
   "source": [
    "5 + 3"
   ]
  },
  {
   "cell_type": "code",
   "execution_count": 2,
   "metadata": {
    "ExecuteTime": {
     "end_time": "2017-08-27T01:17:54.835647Z",
     "start_time": "2017-08-27T01:17:54.820433Z"
    }
   },
   "outputs": [
    {
     "data": {
      "text/plain": [
       "10.0"
      ]
     },
     "execution_count": 2,
     "metadata": {},
     "output_type": "execute_result"
    }
   ],
   "source": [
    "2.5 * 4"
   ]
  },
  {
   "cell_type": "code",
   "execution_count": 3,
   "metadata": {
    "ExecuteTime": {
     "end_time": "2017-08-27T01:18:00.357896Z",
     "start_time": "2017-08-27T01:18:00.348146Z"
    }
   },
   "outputs": [
    {
     "data": {
      "text/plain": [
       "3.0"
      ]
     },
     "execution_count": 3,
     "metadata": {},
     "output_type": "execute_result"
    }
   ],
   "source": [
    "9 / 3"
   ]
  },
  {
   "cell_type": "code",
   "execution_count": 4,
   "metadata": {
    "ExecuteTime": {
     "end_time": "2017-08-27T01:18:10.529647Z",
     "start_time": "2017-08-27T01:18:10.519971Z"
    }
   },
   "outputs": [
    {
     "data": {
      "text/plain": [
       "11.0"
      ]
     },
     "execution_count": 4,
     "metadata": {},
     "output_type": "execute_result"
    }
   ],
   "source": [
    "(1 + 2) * 3 + 4 / 2"
   ]
  },
  {
   "cell_type": "markdown",
   "metadata": {},
   "source": [
    "### Comments\n",
    "It's often useful to say something about what your code is doing, especially if there's a tricky part. You can do this using comments. Just put a `#` in front, and then you can write anything you want after. Python knows it's a comment, so it doesn't try to read it like code."
   ]
  },
  {
   "cell_type": "code",
   "execution_count": 16,
   "metadata": {
    "ExecuteTime": {
     "end_time": "2017-08-27T01:40:36.147154Z",
     "start_time": "2017-08-27T01:40:36.141300Z"
    },
    "collapsed": true
   },
   "outputs": [],
   "source": [
    "# I'm a comment, so nothing happens here!"
   ]
  },
  {
   "cell_type": "code",
   "execution_count": 17,
   "metadata": {
    "ExecuteTime": {
     "end_time": "2017-08-27T01:40:53.441215Z",
     "start_time": "2017-08-27T01:40:53.431357Z"
    }
   },
   "outputs": [
    {
     "data": {
      "text/plain": [
       "8"
      ]
     },
     "execution_count": 17,
     "metadata": {},
     "output_type": "execute_result"
    }
   ],
   "source": [
    "5 + 3 # this is just some addition; everything before the comment is still code!"
   ]
  },
  {
   "cell_type": "markdown",
   "metadata": {},
   "source": [
    "### Strings\n",
    "A string is just text. It can contain any characters (letters, numbers, punctuation, etc.) and be of any length. You tell Python that something is a string by surrounding it with quotation marks (single or double quotes)."
   ]
  },
  {
   "cell_type": "code",
   "execution_count": 5,
   "metadata": {
    "ExecuteTime": {
     "end_time": "2017-08-27T01:36:35.897611Z",
     "start_time": "2017-08-27T01:36:35.878732Z"
    }
   },
   "outputs": [
    {
     "data": {
      "text/plain": [
       "\"I'm a string!\""
      ]
     },
     "execution_count": 5,
     "metadata": {},
     "output_type": "execute_result"
    }
   ],
   "source": [
    "\"I'm a string!\""
   ]
  },
  {
   "cell_type": "code",
   "execution_count": 6,
   "metadata": {
    "ExecuteTime": {
     "end_time": "2017-08-27T01:36:57.678045Z",
     "start_time": "2017-08-27T01:36:57.668418Z"
    }
   },
   "outputs": [
    {
     "data": {
      "text/plain": [
       "'String part 1 part 2'"
      ]
     },
     "execution_count": 6,
     "metadata": {},
     "output_type": "execute_result"
    }
   ],
   "source": [
    "\"String part 1\" + ' part 2' # adding strings makes them into one"
   ]
  },
  {
   "cell_type": "code",
   "execution_count": 7,
   "metadata": {
    "ExecuteTime": {
     "end_time": "2017-08-27T01:37:34.718367Z",
     "start_time": "2017-08-27T01:37:34.707511Z"
    }
   },
   "outputs": [
    {
     "data": {
      "text/plain": [
       "\"Single quotes in me are fine, but double quotes aren't!\""
      ]
     },
     "execution_count": 7,
     "metadata": {},
     "output_type": "execute_result"
    }
   ],
   "source": [
    "\"Single quotes in me are fine, but double quotes aren't!\""
   ]
  },
  {
   "cell_type": "code",
   "execution_count": 8,
   "metadata": {
    "ExecuteTime": {
     "end_time": "2017-08-27T01:37:48.286309Z",
     "start_time": "2017-08-27T01:37:48.276117Z"
    }
   },
   "outputs": [
    {
     "data": {
      "text/plain": [
       "'Double quotes in me \"are\" fine, but single quotes are not'"
      ]
     },
     "execution_count": 8,
     "metadata": {},
     "output_type": "execute_result"
    }
   ],
   "source": [
    "'Double quotes in me \"are\" fine, but single quotes are not'"
   ]
  },
  {
   "cell_type": "code",
   "execution_count": 15,
   "metadata": {
    "ExecuteTime": {
     "end_time": "2017-08-27T01:38:50.862229Z",
     "start_time": "2017-08-27T01:38:50.854172Z"
    }
   },
   "outputs": [
    {
     "name": "stdout",
     "output_type": "stream",
     "text": [
      "If you must use single quotes in me, \"escape\" them like this:  ' \n"
     ]
    }
   ],
   "source": [
    "print('If you must use single quotes in me, \"escape\" them like this:  \\' ')\n",
    "# use print to output strings"
   ]
  },
  {
   "cell_type": "markdown",
   "metadata": {},
   "source": [
    "### Variables"
   ]
  },
  {
   "cell_type": "code",
   "execution_count": null,
   "metadata": {
    "collapsed": true
   },
   "outputs": [],
   "source": []
  },
  {
   "cell_type": "code",
   "execution_count": null,
   "metadata": {
    "collapsed": true
   },
   "outputs": [],
   "source": []
  },
  {
   "cell_type": "markdown",
   "metadata": {},
   "source": [
    "### Functions"
   ]
  },
  {
   "cell_type": "code",
   "execution_count": null,
   "metadata": {
    "collapsed": true
   },
   "outputs": [],
   "source": []
  },
  {
   "cell_type": "markdown",
   "metadata": {},
   "source": [
    "### Lists\n",
    "A list can contain any amount of elements, like numbers or strings. Use square brackets to let Python know it's a list, and use commas between each item in the list."
   ]
  },
  {
   "cell_type": "code",
   "execution_count": 18,
   "metadata": {
    "ExecuteTime": {
     "end_time": "2017-08-27T01:42:54.552633Z",
     "start_time": "2017-08-27T01:42:54.542831Z"
    }
   },
   "outputs": [
    {
     "data": {
      "text/plain": [
       "[1, 2, 3]"
      ]
     },
     "execution_count": 18,
     "metadata": {},
     "output_type": "execute_result"
    }
   ],
   "source": [
    "[1, 2, 3]"
   ]
  },
  {
   "cell_type": "code",
   "execution_count": 19,
   "metadata": {
    "ExecuteTime": {
     "end_time": "2017-08-27T01:43:15.988112Z",
     "start_time": "2017-08-27T01:43:15.976627Z"
    }
   },
   "outputs": [
    {
     "data": {
      "text/plain": [
       "[5, 'apples', 4, 'peaches']"
      ]
     },
     "execution_count": 19,
     "metadata": {},
     "output_type": "execute_result"
    }
   ],
   "source": [
    "[5, 'apples', 4, 'peaches'] # numbers and strings in the same list!"
   ]
  },
  {
   "cell_type": "code",
   "execution_count": 20,
   "metadata": {
    "ExecuteTime": {
     "end_time": "2017-08-27T01:43:41.310687Z",
     "start_time": "2017-08-27T01:43:41.295882Z"
    }
   },
   "outputs": [
    {
     "data": {
      "text/plain": [
       "[[1, 2, 3], [4, 5, 6]]"
      ]
     },
     "execution_count": 20,
     "metadata": {},
     "output_type": "execute_result"
    }
   ],
   "source": [
    "# a list can even have other lists inside of it\n",
    "[[1, 2, 3], [4, 5, 6]]"
   ]
  },
  {
   "cell_type": "code",
   "execution_count": 21,
   "metadata": {
    "ExecuteTime": {
     "end_time": "2017-08-27T01:50:59.050227Z",
     "start_time": "2017-08-27T01:50:59.040528Z"
    }
   },
   "outputs": [
    {
     "name": "stdout",
     "output_type": "stream",
     "text": [
      "The first fruit is apples\n",
      "The last fruit is grapes\n"
     ]
    }
   ],
   "source": [
    "# we can pull things out of a list by telling Python which number of thing we want\n",
    "# Python starts counting at 0, not at 1!\n",
    "fruits = ['apples', 'pears', 'grapes']\n",
    "print('The first fruit is', fruits[0]) # use a comma between multiple things to print them all at once\n",
    "print('The last fruit is', fruits[2])"
   ]
  },
  {
   "cell_type": "code",
   "execution_count": 22,
   "metadata": {
    "ExecuteTime": {
     "end_time": "2017-08-27T01:52:14.323663Z",
     "start_time": "2017-08-27T01:52:14.315280Z"
    }
   },
   "outputs": [
    {
     "name": "stdout",
     "output_type": "stream",
     "text": [
      "There are 3 fruits.\n"
     ]
    }
   ],
   "source": [
    "# the len function tells us how long a list is (how many things are inside of it)\n",
    "print(\"There are\", len(fruits), \"fruits.\")"
   ]
  },
  {
   "cell_type": "code",
   "execution_count": 23,
   "metadata": {
    "ExecuteTime": {
     "end_time": "2017-08-27T01:53:19.292369Z",
     "start_time": "2017-08-27T01:53:19.280367Z"
    }
   },
   "outputs": [
    {
     "name": "stdout",
     "output_type": "stream",
     "text": [
      "The second fruit used to be pears\n",
      "Now the second fruit is mango\n"
     ]
    }
   ],
   "source": [
    "# we can even change what's inside of a list!\n",
    "print('The second fruit used to be', fruits[1])\n",
    "fruits[1] = 'mango'\n",
    "print('Now the second fruit is', fruits[1])"
   ]
  },
  {
   "cell_type": "code",
   "execution_count": null,
   "metadata": {
    "collapsed": true
   },
   "outputs": [],
   "source": [
    "# the append function "
   ]
  }
 ],
 "metadata": {
  "hide_input": false,
  "kernelspec": {
   "display_name": "Python 3",
   "language": "python",
   "name": "python3"
  },
  "language_info": {
   "codemirror_mode": {
    "name": "ipython",
    "version": 3
   },
   "file_extension": ".py",
   "mimetype": "text/x-python",
   "name": "python",
   "nbconvert_exporter": "python",
   "pygments_lexer": "ipython3",
   "version": "3.6.1"
  },
  "toc": {
   "colors": {
    "hover_highlight": "#DAA520",
    "navigate_num": "#000000",
    "navigate_text": "#333333",
    "running_highlight": "#FF0000",
    "selected_highlight": "#FFD700",
    "sidebar_border": "#EEEEEE",
    "wrapper_background": "#FFFFFF"
   },
   "moveMenuLeft": true,
   "nav_menu": {
    "height": "183px",
    "width": "254px"
   },
   "navigate_menu": true,
   "number_sections": true,
   "sideBar": true,
   "threshold": 4,
   "toc_cell": false,
   "toc_section_display": "block",
   "toc_window_display": false,
   "widenNotebook": false
  },
  "varInspector": {
   "cols": {
    "lenName": 16,
    "lenType": 16,
    "lenVar": 40
   },
   "kernels_config": {
    "python": {
     "delete_cmd_postfix": "",
     "delete_cmd_prefix": "del ",
     "library": "var_list.py",
     "varRefreshCmd": "print(var_dic_list())"
    },
    "r": {
     "delete_cmd_postfix": ") ",
     "delete_cmd_prefix": "rm(",
     "library": "var_list.r",
     "varRefreshCmd": "cat(var_dic_list()) "
    }
   },
   "types_to_exclude": [
    "module",
    "function",
    "builtin_function_or_method",
    "instance",
    "_Feature"
   ],
   "window_display": false
  }
 },
 "nbformat": 4,
 "nbformat_minor": 2
}
