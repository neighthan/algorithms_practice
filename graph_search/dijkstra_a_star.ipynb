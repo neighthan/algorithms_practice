{
 "cells": [
  {
   "cell_type": "markdown",
   "metadata": {
    "toc": "true"
   },
   "source": [
    "# Table of Contents\n",
    " <p><div class=\"lev1 toc-item\"><a href=\"#Imports,-Definitions\" data-toc-modified-id=\"Imports,-Definitions-1\"><span class=\"toc-item-num\">1&nbsp;&nbsp;</span>Imports, Definitions</a></div><div class=\"lev1 toc-item\"><a href=\"#Dijkstra\" data-toc-modified-id=\"Dijkstra-2\"><span class=\"toc-item-num\">2&nbsp;&nbsp;</span>Dijkstra</a></div><div class=\"lev1 toc-item\"><a href=\"#A*\" data-toc-modified-id=\"A*-3\"><span class=\"toc-item-num\">3&nbsp;&nbsp;</span>A*</a></div>"
   ]
  },
  {
   "cell_type": "markdown",
   "metadata": {},
   "source": [
    "[Draw a Map][map]\n",
    "\n",
    "[map]: https://neighthan.github.io/graphs_and_games/create_map.html"
   ]
  },
  {
   "cell_type": "markdown",
   "metadata": {},
   "source": [
    "# Imports, Definitions"
   ]
  },
  {
   "cell_type": "code",
   "execution_count": 25,
   "metadata": {
    "ExecuteTime": {
     "end_time": "2017-09-02T21:48:30.537254Z",
     "start_time": "2017-09-02T21:48:30.525022Z"
    }
   },
   "outputs": [],
   "source": [
    "import numpy as np\n",
    "import pandas as pd\n",
    "from heapq import heappush, heappop\n",
    "from ast import literal_eval\n",
    "from IPython import display\n",
    "import matplotlib.pyplot as plt\n",
    "from matplotlib.colors import ListedColormap\n",
    "from collections import namedtuple\n",
    "import pickle\n",
    "\n",
    "%matplotlib inline"
   ]
  },
  {
   "cell_type": "code",
   "execution_count": null,
   "metadata": {
    "collapsed": true
   },
   "outputs": [],
   "source": [
    "grid_cell_types = ['WALL', 'NORMAL', 'START', 'GOAL', 'FRINGE', 'EXPANDED']\n",
    "grid_colors = ['black', 'white', 'green', 'red', 'lightblue', 'blue']\n",
    "\n",
    "cmap = ListedColormap(grid_colors)\n",
    "\n",
    "# don't worry about this part; just for fancy dotted access\n",
    "GridValues = namedtuple('GridValues', grid_cell_types)\n",
    "GridValue = namedtuple('GridValue', ['value', 'name', 'color'])\n",
    "grid = GridValues(*[GridValue(i, grid_cell_types[i], grid_colors[i]) for i in range(len(grid_colors))])"
   ]
  },
  {
   "cell_type": "code",
   "execution_count": 3,
   "metadata": {
    "ExecuteTime": {
     "end_time": "2017-09-02T21:29:51.697358Z",
     "start_time": "2017-09-02T21:29:51.685970Z"
    },
    "collapsed": true
   },
   "outputs": [],
   "source": [
    "\n",
    "\n",
    "# terrain_colors = np.array([\n",
    "#     [255, 255, 0, 255], # yellow\n",
    "#     [244, 164, 96, 255], # sandybrown\n",
    "#     [144, 238, 144,  255], # lightgreen\n",
    "#     [0, 100, 0, 255], # darkgreen\n",
    "#     [128, 128, 128, 255] # grey\n",
    "# ])\n",
    "\n",
    "\n",
    "# don't worry about this part; just for fancy dotted access\n",
    "TerrainValues = namedtuple('GridValues', terrain_types)\n",
    "TerrainValue = namedtuple('GridValue', ['value', 'name', 'color'])\n",
    "terrain_values = TerrainValues(*[TerrainValue(i, terrain_types[i], terrain_colors[i])\n",
    "                                 for i in range(len(terrain_colors))])"
   ]
  },
  {
   "cell_type": "code",
   "execution_count": 67,
   "metadata": {
    "ExecuteTime": {
     "end_time": "2017-09-03T02:37:30.152827Z",
     "start_time": "2017-09-03T02:37:30.090429Z"
    }
   },
   "outputs": [],
   "source": [
    "terrain_types = ['PATH', 'ROAD', 'GRASSY', 'FOREST', 'ROCKY']\n",
    "terrain_colors = ['yellow', 'sandybrown', 'lightgreen', 'darkgreen', 'grey']\n",
    "\n",
    "class Terrain(object):\n",
    "    def __init__(self, saved_name=''):\n",
    "        \"\"\"\n",
    "        :param terrain_types: must be in order from smallest to largest by their weight\n",
    "        \"\"\"\n",
    "        if saved_name:\n",
    "            with open(saved_name, 'rb') as f:\n",
    "                self.grid, self.terrain_types = pickle.load(f)\n",
    "        else:\n",
    "            self.grid = np.array(literal_eval(input('Paste map data here')))\n",
    "            display.clear_output()\n",
    "            self.terrain_types = literal_eval(input('Paste terrain types here'))\n",
    "            display.clear_output()\n",
    "\n",
    "    def __cmap__(self, types):\n",
    "        return ListedColormap(list(map(lambda terrain_type: terrain_colors[terrain_types.index(terrain_type)], types)))\n",
    "\n",
    "    def show_terrain(self, grid=None, types=None):\n",
    "        grid = grid if grid is not None else self.grid\n",
    "        types = types or self.terrain_types\n",
    "#         print(types)\n",
    "        \n",
    "        unique_vals = np.unique(grid)\n",
    "        grid = pd.DataFrame(grid).replace({unique_vals[i]: i for i in range(len(unique_vals))}).values\n",
    "\n",
    "        plt.figure(figsize=(20, 10))\n",
    "        img = plt.matshow(grid, cmap=self.__cmap__(types), fignum=1, vmin=-0.5, vmax=len(unique_vals)-0.5)\n",
    "        cbar = plt.colorbar(ticks=np.arange(0, len(unique_vals)))\n",
    "        cbar.set_ticklabels(types)\n",
    "\n",
    "    def show_path(self, path):\n",
    "        grid = self.grid.copy()\n",
    "        for node in path:\n",
    "            grid[node] = -1\n",
    "        self.show_terrain(grid, ['PATH'] + self.terrain_types)\n",
    "\n",
    "    def __repr__(self):\n",
    "        self.show_terrain()\n",
    "        return ''\n",
    "\n",
    "    def save(self, name):\n",
    "        with open(name, 'wb') as f:\n",
    "            pickle.dump((self.grid, self.terrain_types), f)"
   ]
  },
  {
   "cell_type": "code",
   "execution_count": 68,
   "metadata": {
    "ExecuteTime": {
     "end_time": "2017-09-03T02:37:31.899790Z",
     "start_time": "2017-09-03T02:37:31.871113Z"
    }
   },
   "outputs": [],
   "source": [
    "terrain = Terrain('maps/test1.pkl')"
   ]
  },
  {
   "cell_type": "code",
   "execution_count": 65,
   "metadata": {
    "ExecuteTime": {
     "end_time": "2017-09-03T02:37:16.860437Z",
     "start_time": "2017-09-03T02:37:16.288408Z"
    }
   },
   "outputs": [
    {
     "data": {
      "text/plain": []
     },
     "execution_count": 65,
     "metadata": {},
     "output_type": "execute_result"
    },
    {
     "data": {
      "image/png": "[encoded data removed]",
      "text/plain": [
       "<matplotlib.figure.Figure at 0x7ffa96de8320>"
      ]
     },
     "metadata": {},
     "output_type": "display_data"
    }
   ],
   "source": [
    "terrain"
   ]
  },
  {
   "cell_type": "markdown",
   "metadata": {},
   "source": [
    "# Dijkstra\n",
    "\n",
    "Dijkstra's algorithm only works on graphs with non-negative weights. There are other algorithms that you can use instead of any of the edge's might have a negative weight.\n",
    "\n",
    "\n",
    "\n",
    "(Here we don't use the decrease-key version of Dijkstra; see a [StackOverflow answer][so] for a comparison of using/not using decrease key for different sorts of priority queues and a [paper][paper] for more in-depth results comparing different versions of Dijkstra for empirical, not only asymptotic, performance)\n",
    "\n",
    "[so]: https://stackoverflow.com/questions/9255620/why-does-dijkstras-algorithm-use-decrease-key\n",
    "[paper]: http://www3.cs.stonybrook.edu/~rezaul/papers/TR-07-54.pdf"
   ]
  },
  {
   "cell_type": "code",
   "execution_count": 59,
   "metadata": {
    "ExecuteTime": {
     "end_time": "2017-09-03T02:35:43.427871Z",
     "start_time": "2017-09-03T02:35:43.403230Z"
    }
   },
   "outputs": [],
   "source": [
    "up = np.array([-1, 0])\n",
    "down = np.array([1, 0])\n",
    "left = np.array([0, -1])\n",
    "right = np.array([0, 1])\n",
    "\n",
    "def get_neighbors(node_loc, grid, weighted=True):\n",
    "    upper_bounds = np.array(grid.shape) - 1\n",
    "    lower_bounds = np.array([0, 0])\n",
    "    \n",
    "    neighbors = []\n",
    "    for direction in [up, down, left, right]:\n",
    "        neighbor = np.minimum(np.maximum(node_loc + direction, lower_bounds), upper_bounds)\n",
    "        \n",
    "        if weighted:\n",
    "            if not np.all(neighbor == node_loc):\n",
    "                neighbors.append((tuple(neighbor), grid[tuple(neighbor)]))\n",
    "        else:\n",
    "            if not np.all(neighbor == node_loc) and grid[tuple(neighbor)] != grid_values.WALL.value:\n",
    "                neighbors.append(tuple(neighbor))\n",
    "    return neighbors"
   ]
  },
  {
   "cell_type": "code",
   "execution_count": 60,
   "metadata": {
    "ExecuteTime": {
     "end_time": "2017-09-03T02:35:44.979660Z",
     "start_time": "2017-09-03T02:35:44.897557Z"
    },
    "collapsed": true
   },
   "outputs": [],
   "source": [
    "def dijkstra_a_star(grid, start, goal, plot='', video_size=(600, 600), video_path='search.mp4'):\n",
    "    heap = []\n",
    "    expanded = set()\n",
    "    parents = {}\n",
    "    current_node = start\n",
    "    path_cost = 0\n",
    "    parent = None\n",
    "    \n",
    "    while True:\n",
    "        parents[current_node] = parent\n",
    "        expanded.add(current_node)\n",
    "\n",
    "        if current_node == goal:\n",
    "            break\n",
    "\n",
    "        for (neighbor, weight) in get_neighbors(current_node, grid):\n",
    "            if neighbor not in expanded:\n",
    "                heappush(heap, (path_cost + weight, neighbor, current_node))\n",
    "\n",
    "        while current_node in expanded:\n",
    "            path_cost, current_node, parent = heappop(heap)\n",
    "\n",
    "    # make this into a function? we use it here and in bfs_dfs\n",
    "    path = [goal]\n",
    "    parent = parents[goal]\n",
    "    while parent is not None:\n",
    "        path.append(parent)\n",
    "        parent = parents[parent]\n",
    "    path.reverse()\n",
    "    return path"
   ]
  },
  {
   "cell_type": "code",
   "execution_count": 61,
   "metadata": {
    "ExecuteTime": {
     "end_time": "2017-09-03T02:35:46.358608Z",
     "start_time": "2017-09-03T02:35:46.232460Z"
    }
   },
   "outputs": [],
   "source": [
    "path = dijkstra_a_star(terrain.grid, (0, 0), tuple(np.array(terrain.grid.shape)-1))"
   ]
  },
  {
   "cell_type": "code",
   "execution_count": 69,
   "metadata": {
    "ExecuteTime": {
     "end_time": "2017-09-03T02:37:34.480914Z",
     "start_time": "2017-09-03T02:37:33.675573Z"
    }
   },
   "outputs": [
    {
     "data": {
      "image/png": "[encoded data removed]",
      "text/plain": [
       "<matplotlib.figure.Figure at 0x7ffa96d79160>"
      ]
     },
     "metadata": {},
     "output_type": "display_data"
    }
   ],
   "source": [
    "terrain.show_path(path)"
   ]
  },
  {
   "cell_type": "code",
   "execution_count": null,
   "metadata": {
    "collapsed": true
   },
   "outputs": [],
   "source": []
  },
  {
   "cell_type": "code",
   "execution_count": null,
   "metadata": {
    "collapsed": true
   },
   "outputs": [],
   "source": []
  },
  {
   "cell_type": "code",
   "execution_count": null,
   "metadata": {
    "collapsed": true
   },
   "outputs": [],
   "source": []
  },
  {
   "cell_type": "code",
   "execution_count": null,
   "metadata": {
    "collapsed": true
   },
   "outputs": [],
   "source": []
  },
  {
   "cell_type": "markdown",
   "metadata": {},
   "source": [
    "# A\\*"
   ]
  },
  {
   "cell_type": "code",
   "execution_count": 14,
   "metadata": {
    "ExecuteTime": {
     "end_time": "2017-08-27T04:09:40.305106Z",
     "start_time": "2017-08-27T04:09:40.298863Z"
    },
    "collapsed": true
   },
   "outputs": [],
   "source": [
    "def a_star(grid, start, goal):\n",
    "    pass"
   ]
  },
  {
   "cell_type": "code",
   "execution_count": null,
   "metadata": {
    "collapsed": true
   },
   "outputs": [],
   "source": []
  }
 ],
 "metadata": {
  "hide_input": false,
  "kernelspec": {
   "display_name": "Python 3",
   "language": "python",
   "name": "python3"
  },
  "toc": {
   "colors": {
    "hover_highlight": "#DAA520",
    "navigate_num": "#000000",
    "navigate_text": "#333333",
    "running_highlight": "#FF0000",
    "selected_highlight": "#FFD700",
    "sidebar_border": "#EEEEEE",
    "wrapper_background": "#FFFFFF"
   },
   "moveMenuLeft": true,
   "nav_menu": {
    "height": "55px",
    "width": "254px"
   },
   "navigate_menu": true,
   "number_sections": true,
   "sideBar": true,
   "threshold": 4,
   "toc_cell": true,
   "toc_section_display": "block",
   "toc_window_display": false,
   "widenNotebook": false
  },
  "varInspector": {
   "cols": {
    "lenName": 16,
    "lenType": 16,
    "lenVar": 40
   },
   "kernels_config": {
    "python": {
     "delete_cmd_postfix": "",
     "delete_cmd_prefix": "del ",
     "library": "var_list.py",
     "varRefreshCmd": "print(var_dic_list())"
    },
    "r": {
     "delete_cmd_postfix": ") ",
     "delete_cmd_prefix": "rm(",
     "library": "var_list.r",
     "varRefreshCmd": "cat(var_dic_list()) "
    }
   },
   "types_to_exclude": [
    "module",
    "function",
    "builtin_function_or_method",
    "instance",
    "_Feature"
   ],
   "window_display": false
  }
 },
 "nbformat": 4,
 "nbformat_minor": 2
}
