{
 "cells": [
  {
   "cell_type": "markdown",
   "metadata": {
    "toc": "true"
   },
   "source": [
    "# Table of Contents\n",
    " <p><div class=\"lev1 toc-item\"><a href=\"#Imports,-Definitions\" data-toc-modified-id=\"Imports,-Definitions-1\"><span class=\"toc-item-num\">1&nbsp;&nbsp;</span>Imports, Definitions</a></div><div class=\"lev1 toc-item\"><a href=\"#Dijkstra\" data-toc-modified-id=\"Dijkstra-2\"><span class=\"toc-item-num\">2&nbsp;&nbsp;</span>Dijkstra</a></div><div class=\"lev1 toc-item\"><a href=\"#A*\" data-toc-modified-id=\"A*-3\"><span class=\"toc-item-num\">3&nbsp;&nbsp;</span>A*</a></div>"
   ]
  },
  {
   "cell_type": "markdown",
   "metadata": {},
   "source": [
    "[Draw a Map][map]\n",
    "\n",
    "Make a map that has a few different rooms; make some rooms harder to traverse than others. Use this to show how Dijkstra prefers shorter paths first. With A\\* on this map, not only will it go through the rooms that are easier first, it won't expand all directions in the room but just the direction towards the goal.\n",
    "\n",
    "[map]: https://neighthan.github.io/graphs_and_games/create_map.html"
   ]
  },
  {
   "cell_type": "markdown",
   "metadata": {},
   "source": [
    "# Imports, Definitions"
   ]
  },
  {
   "cell_type": "code",
   "execution_count": 1,
   "metadata": {
    "ExecuteTime": {
     "end_time": "2017-09-09T03:54:44.757430Z",
     "start_time": "2017-09-09T03:54:41.086428Z"
    }
   },
   "outputs": [
    {
     "name": "stderr",
     "output_type": "stream",
     "text": [
      "/home/nhunt/anaconda3/lib/python3.6/site-packages/skvideo/__init__.py:356: UserWarning: avconv/avprobe not found in path: \n",
      "  warnings.warn(\"avconv/avprobe not found in path: \" + str(path), UserWarning)\n"
     ]
    }
   ],
   "source": [
    "import numpy as np\n",
    "import pandas as pd\n",
    "from heapq import heappush, heappop\n",
    "from ast import literal_eval\n",
    "from IPython import display\n",
    "import matplotlib.pyplot as plt\n",
    "from skvideo.io import FFmpegWriter\n",
    "from scipy.ndimage.interpolation import zoom\n",
    "from matplotlib.colors import ListedColormap\n",
    "from collections import namedtuple\n",
    "import pickle\n",
    "\n",
    "%matplotlib inline"
   ]
  },
  {
   "cell_type": "code",
   "execution_count": 2,
   "metadata": {
    "ExecuteTime": {
     "end_time": "2017-09-09T03:54:44.971156Z",
     "start_time": "2017-09-09T03:54:44.948481Z"
    },
    "collapsed": true
   },
   "outputs": [],
   "source": [
    "grid_cell_types = ['START', 'GOAL', 'FRINGE', 'EXPANDED', 'PATH', 'ROAD', 'GRASSY', 'FOREST', 'ROCKY']\n",
    "grid_colors = ['green', 'red', 'lightblue', 'blue', 'yellow', 'sandybrown', 'lightgreen', 'darkgreen', 'grey']\n",
    "\n",
    "# just for fancy dotted access\n",
    "GridValues = namedtuple('GridValues', grid_cell_types)\n",
    "GridValue = namedtuple('GridValue', ['value', 'name', 'color'])\n",
    "grid_values = GridValues(*[GridValue(-(i + 1), grid_cell_types[i], grid_colors[i]) for i in range(len(grid_colors))])"
   ]
  },
  {
   "cell_type": "code",
   "execution_count": 3,
   "metadata": {
    "ExecuteTime": {
     "end_time": "2017-09-09T03:54:45.446052Z",
     "start_time": "2017-09-09T03:54:45.380066Z"
    },
    "collapsed": true
   },
   "outputs": [],
   "source": [
    "class Terrain(object):\n",
    "    def __init__(self, saved_name=''):\n",
    "        \"\"\"\n",
    "        :param terrain_types: must be in order from smallest to largest by their weight\n",
    "        \"\"\"\n",
    "        if saved_name:\n",
    "            with open(saved_name, 'rb') as f:\n",
    "                self.grid, self.terrain_types = pickle.load(f)\n",
    "        else:\n",
    "            self.grid = np.array(literal_eval(input('Paste map data here')))\n",
    "            display.clear_output()\n",
    "            self.terrain_types = literal_eval(input('Paste terrain types here'))\n",
    "            display.clear_output()\n",
    "\n",
    "    def __cmap__(self, types):\n",
    "        return ListedColormap(list(map(lambda terrain_type: grid_colors[grid_cell_types.index(terrain_type)], types)))\n",
    "\n",
    "    def show_terrain(self, grid=None, types=None):\n",
    "        grid = grid if grid is not None else self.grid\n",
    "        types = types or self.terrain_types\n",
    "        \n",
    "        unique_vals = np.unique(grid)\n",
    "        grid = pd.DataFrame(grid).replace({unique_vals[i]: i for i in range(len(unique_vals))}).values\n",
    "\n",
    "        plt.figure(figsize=(20, 10))\n",
    "        img = plt.matshow(grid, cmap=self.__cmap__(types), fignum=1, vmin=-0.5, vmax=len(unique_vals)-0.5)\n",
    "        cbar = plt.colorbar(ticks=np.arange(0, len(unique_vals)))\n",
    "        cbar.set_ticklabels(types)\n",
    "\n",
    "    def show_path(self, path):\n",
    "        grid = self.grid.copy()\n",
    "        for node in path:\n",
    "            grid[node] = -1\n",
    "        self.show_terrain(grid, ['PATH'] + self.terrain_types)\n",
    "\n",
    "    def __repr__(self):\n",
    "        self.show_terrain()\n",
    "        return ''\n",
    "\n",
    "    def save(self, name):\n",
    "        with open(name, 'wb') as f:\n",
    "            pickle.dump((self.grid, self.terrain_types), f)"
   ]
  },
  {
   "cell_type": "code",
   "execution_count": 4,
   "metadata": {
    "ExecuteTime": {
     "end_time": "2017-09-09T03:54:47.146827Z",
     "start_time": "2017-09-09T03:54:45.873562Z"
    }
   },
   "outputs": [
    {
     "data": {
      "text/plain": []
     },
     "execution_count": 4,
     "metadata": {},
     "output_type": "execute_result"
    },
    {
     "data": {
      "image/png": "[encoded data removed]",
      "text/plain": [
       "<matplotlib.figure.Figure at 0x7f6f8dbd0e80>"
      ]
     },
     "metadata": {},
     "output_type": "display_data"
    }
   ],
   "source": [
    "terrain = Terrain('maps/test1.pkl')\n",
    "terrain"
   ]
  },
  {
   "cell_type": "markdown",
   "metadata": {},
   "source": [
    "# Dijkstra\n",
    "\n",
    "Dijkstra's algorithm only works on graphs with non-negative weights. There are other algorithms that you can use instead of any of the edge's might have a negative weight.\n",
    "\n",
    "\n",
    "\n",
    "(Here we don't use the decrease-key version of Dijkstra; see a [StackOverflow answer][so] for a comparison of using/not using decrease key for different sorts of priority queues and a [paper][paper] for more in-depth results comparing different versions of Dijkstra for empirical, not only asymptotic, performance)\n",
    "\n",
    "[so]: https://stackoverflow.com/questions/9255620/why-does-dijkstras-algorithm-use-decrease-key\n",
    "[paper]: http://www3.cs.stonybrook.edu/~rezaul/papers/TR-07-54.pdf"
   ]
  },
  {
   "cell_type": "code",
   "execution_count": 5,
   "metadata": {
    "ExecuteTime": {
     "end_time": "2017-09-09T03:54:55.307835Z",
     "start_time": "2017-09-09T03:54:55.287139Z"
    },
    "collapsed": true
   },
   "outputs": [],
   "source": [
    "up = np.array([-1, 0])\n",
    "down = np.array([1, 0])\n",
    "left = np.array([0, -1])\n",
    "right = np.array([0, 1])\n",
    "directions = [up, down, left, right]\n",
    "\n",
    "def get_neighbors(node_loc, grid, weighted=True):\n",
    "    upper_bounds = np.array(grid.shape) - 1\n",
    "    lower_bounds = np.array([0, 0])\n",
    "    \n",
    "    neighbors = []\n",
    "    for direction in directions:\n",
    "        neighbor = np.minimum(np.maximum(node_loc + direction, lower_bounds), upper_bounds)\n",
    "        \n",
    "        if weighted:\n",
    "            if not np.all(neighbor == node_loc):\n",
    "                neighbors.append((tuple(neighbor), grid[tuple(neighbor)]))\n",
    "        else:\n",
    "            if not np.all(neighbor == node_loc) and grid[tuple(neighbor)] != grid_values.WALL.value:\n",
    "                neighbors.append(tuple(neighbor))\n",
    "    return neighbors"
   ]
  },
  {
   "cell_type": "code",
   "execution_count": 6,
   "metadata": {
    "ExecuteTime": {
     "end_time": "2017-09-09T03:55:03.912111Z",
     "start_time": "2017-09-09T03:55:03.896561Z"
    },
    "collapsed": true
   },
   "outputs": [],
   "source": [
    "def get_path(goal, parents):\n",
    "    path = []\n",
    "    parent = goal\n",
    "    while parent is not None:\n",
    "        path.append(parent)\n",
    "        parent, _ = parents[parent]\n",
    "    path.reverse()\n",
    "    return path"
   ]
  },
  {
   "cell_type": "code",
   "execution_count": 7,
   "metadata": {
    "ExecuteTime": {
     "end_time": "2017-09-09T03:55:13.230655Z",
     "start_time": "2017-09-09T03:55:13.221389Z"
    },
    "collapsed": true
   },
   "outputs": [],
   "source": [
    "class Plot(object):\n",
    "    def __init__(self):\n",
    "        pass"
   ]
  },
  {
   "cell_type": "code",
   "execution_count": 12,
   "metadata": {
    "ExecuteTime": {
     "end_time": "2017-09-09T04:12:39.543705Z",
     "start_time": "2017-09-09T04:12:39.460219Z"
    },
    "collapsed": true
   },
   "outputs": [],
   "source": [
    "def dijkstra_a_star(grid, start, goal, plot='', video_size=(600, 600), video_path='movies/search.mp4'):\n",
    "    if type(grid) == Terrain:\n",
    "        terrain = grid\n",
    "        grid = terrain.grid\n",
    "    else:\n",
    "        terrain = None\n",
    "\n",
    "    heap = []\n",
    "    expanded = set()\n",
    "    parents = {}\n",
    "    current_node = start\n",
    "    path_cost = 0\n",
    "    parent = None\n",
    "    \n",
    "    fringe_alpha = 0.7\n",
    "    expanded_alpha = 0.2\n",
    "    \n",
    "    # plot before hook\n",
    "    assert terrain is not None, \"Must pass in terrain types to create a plot.\"\n",
    "    unique_vals = np.unique(grid)\n",
    "    unique_vals = np.unique(grid)\n",
    "    plotting_grid = pd.DataFrame(grid).replace({unique_vals[i]: i for i in range(len(unique_vals))}).values # we'll modify this one to use in the plots\n",
    "    # plotting_grid[start] = grid_values.START.value\n",
    "    # plotting_grid[goal] = grid_values.GOAL.value\n",
    "    plotting_grid = terrain.__cmap__(terrain.terrain_types)(plotting_grid)\n",
    "    zoom_aspect = (video_size[0] / grid.shape[0], video_size[1] / grid.shape[1], 1)\n",
    "    frames = []\n",
    "    writer = FFmpegWriter(video_path)\n",
    "\n",
    "\n",
    "    while True:\n",
    "        parents[current_node] = parent\n",
    "        expanded.add(current_node)\n",
    "\n",
    "        if current_node == goal:\n",
    "            break\n",
    "\n",
    "        neighbors = ((neighbor, weight) for (neighbor, weight) in get_neighbors(current_node, grid) if neighbor not in expanded)\n",
    "        for (neighbor, weight) in neighbors:\n",
    "            heappush(heap, (path_cost + weight, neighbor, current_node))\n",
    "        \n",
    "        # plot during hook\n",
    "        if plot:\n",
    "            plotting_grid[current_node][3] = expanded_alpha\n",
    "            \n",
    "            for (neighbor, _) in neighbors:\n",
    "                plotting_grid[neighbor][3] = fringe_alpha\n",
    "            \n",
    "            if plot == 'during': # nbagg is faster but it often doesn't leave a graph behind and its window doesn't look as nice\n",
    "                img.set_data(plotting_grid)\n",
    "                display.display(plt.gcf())\n",
    "                display.clear_output(wait=True)\n",
    "            elif plot == 'after':\n",
    "                writer.writeFrame(zoom(plotting_grid, zoom_aspect, order=0) * 255)\n",
    "\n",
    "        while current_node in expanded:\n",
    "            path_cost, current_node, parent = heappop(heap)\n",
    "    \n",
    "    # plot after hook\n",
    "    if plot == 'after':\n",
    "        writer.close()\n",
    "    return get_path(goal, parents)"
   ]
  },
  {
   "cell_type": "code",
   "execution_count": 11,
   "metadata": {
    "ExecuteTime": {
     "end_time": "2017-09-09T02:56:54.617555Z",
     "start_time": "2017-09-09T02:56:54.600215Z"
    },
    "collapsed": true
   },
   "outputs": [],
   "source": [
    "grid = terrain.grid\n",
    "start = (0, 0)\n",
    "goal = tuple(np.array(terrain.grid.shape)-1)\n",
    "plot='after'\n",
    "terrain_types=terrain.terrain_types\n",
    "video_size = (600, 600)"
   ]
  },
  {
   "cell_type": "code",
   "execution_count": 12,
   "metadata": {
    "ExecuteTime": {
     "end_time": "2017-09-09T02:57:03.467529Z",
     "start_time": "2017-09-09T02:57:03.449641Z"
    },
    "collapsed": true
   },
   "outputs": [],
   "source": [
    "heap = []\n",
    "expanded = set()\n",
    "parents = {}\n",
    "current_node = start\n",
    "path_cost = 0\n",
    "parent = None\n",
    "    \n",
    "# plot before hook\n",
    "assert terrain_types is not None, \"Must pass in terrain types to create a plot.\"\n",
    "unique_vals = np.unique(grid)\n",
    "plotting_grid = pd.DataFrame(grid).replace({unique_vals[i]: i for i in range(len(unique_vals))}).values # we'll modify this one to use in the plots\n",
    "# plotting_grid[start] = grid_values.START.value\n",
    "# plotting_grid[goal] = grid_values.GOAL.value\n",
    "plotting_grid = terrain.__cmap__(terrain.terrain_types)(plotting_grid)\n",
    "zoom_aspect = (video_size[0] / grid.shape[0], video_size[1] / grid.shape[1])\n",
    "frames = []"
   ]
  },
  {
   "cell_type": "code",
   "execution_count": 13,
   "metadata": {
    "ExecuteTime": {
     "end_time": "2017-09-09T02:57:11.529703Z",
     "start_time": "2017-09-09T02:57:11.501704Z"
    },
    "collapsed": true
   },
   "outputs": [],
   "source": [
    "parents[current_node] = parent\n",
    "expanded.add(current_node)\n",
    "\n",
    "# if current_node == goal:\n",
    "#     break\n",
    "\n",
    "neighbors = [(neighbor, weight) for (neighbor, weight) in get_neighbors(current_node, grid) if neighbor not in expanded]\n",
    "for (neighbor, weight) in neighbors:\n",
    "    heappush(heap, (path_cost + weight, neighbor, current_node))\n",
    "\n",
    "# plot during hook\n",
    "if plot:\n",
    "    if current_node != start:\n",
    "        plotting_grid[current_node][3] = 0.3 #grid_values.EXPANDED.value\n",
    "\n",
    "    for (neighbor, _) in neighbors:\n",
    "        if neighbor != goal:\n",
    "            plotting_grid[neighbor][3] = 0.8 # grid_values.FRINGE.value\n",
    "\n",
    "    if plot == 'during': # nbagg is faster but it often doesn't leave a graph behind and its window doesn't look as nice\n",
    "        img.set_data(plotting_grid)\n",
    "        display.display(plt.gcf())\n",
    "        display.clear_output(wait=True)\n",
    "    elif plot == 'after':\n",
    "        frames.append(plotting_grid.copy())\n",
    "#         frames.append(zoom(plotting_grid, zoom_aspect, order=0))\n",
    "\n",
    "while current_node in expanded:\n",
    "    path_cost, current_node, parent = heappop(heap)"
   ]
  },
  {
   "cell_type": "code",
   "execution_count": 16,
   "metadata": {
    "ExecuteTime": {
     "end_time": "2017-09-09T03:26:58.335736Z",
     "start_time": "2017-09-09T03:26:58.104768Z"
    }
   },
   "outputs": [
    {
     "data": {
      "text/plain": [
       "<matplotlib.image.AxesImage at 0x7fa9b6b8bfd0>"
      ]
     },
     "execution_count": 16,
     "metadata": {},
     "output_type": "execute_result"
    },
    {
     "data": {
      "image/png": "[encoded data removed]",
      "text/plain": [
       "<matplotlib.figure.Figure at 0x7fa9b699acf8>"
      ]
     },
     "metadata": {},
     "output_type": "display_data"
    }
   ],
   "source": [
    "plt.imshow(frames[0])"
   ]
  },
  {
   "cell_type": "code",
   "execution_count": 19,
   "metadata": {
    "ExecuteTime": {
     "end_time": "2017-09-09T03:27:30.328824Z",
     "start_time": "2017-09-09T03:27:30.036659Z"
    }
   },
   "outputs": [
    {
     "data": {
      "text/plain": [
       "<matplotlib.image.AxesImage at 0x7fa9b6b4e978>"
      ]
     },
     "execution_count": 19,
     "metadata": {},
     "output_type": "execute_result"
    },
    {
     "data": {
      "image/png": "[encoded data removed]",
      "text/plain": [
       "<matplotlib.figure.Figure at 0x7fa9b65ffb38>"
      ]
     },
     "metadata": {},
     "output_type": "display_data"
    }
   ],
   "source": [
    "plt.imshow(zoom(frames[0], (20, 20, 1), order=0))"
   ]
  },
  {
   "cell_type": "code",
   "execution_count": 2,
   "metadata": {
    "ExecuteTime": {
     "end_time": "2017-09-09T02:56:04.928419Z",
     "start_time": "2017-09-09T02:56:04.906920Z"
    }
   },
   "outputs": [
    {
     "ename": "NameError",
     "evalue": "name 'plt' is not defined",
     "output_type": "error",
     "traceback": [
      "\u001b[0;31m---------------------------------------------------------------------------\u001b[0m",
      "\u001b[0;31mNameError\u001b[0m                                 Traceback (most recent call last)",
      "\u001b[0;32m<ipython-input-2-d3b1da75334a>\u001b[0m in \u001b[0;36m<module>\u001b[0;34m()\u001b[0m\n\u001b[0;32m----> 1\u001b[0;31m \u001b[0mplt\u001b[0m\u001b[0;34m.\u001b[0m\u001b[0mmatshow\u001b[0m\u001b[0;34m(\u001b[0m\u001b[0mframes\u001b[0m\u001b[0;34m[\u001b[0m\u001b[0;36m0\u001b[0m\u001b[0;34m]\u001b[0m\u001b[0;34m,\u001b[0m \u001b[0mcmap\u001b[0m\u001b[0;34m=\u001b[0m\u001b[0mListedColormap\u001b[0m\u001b[0;34m(\u001b[0m\u001b[0;34m[\u001b[0m\u001b[0mgrid_colors\u001b[0m\u001b[0;34m[\u001b[0m\u001b[0mgrid_cell_types\u001b[0m\u001b[0;34m.\u001b[0m\u001b[0mindex\u001b[0m\u001b[0;34m(\u001b[0m\u001b[0mterrain_type\u001b[0m\u001b[0;34m)\u001b[0m\u001b[0;34m]\u001b[0m \u001b[0;32mfor\u001b[0m \u001b[0mterrain_type\u001b[0m \u001b[0;32min\u001b[0m \u001b[0;34m[\u001b[0m\u001b[0;34m'EXPANDED'\u001b[0m\u001b[0;34m,\u001b[0m \u001b[0;34m'FRINGE'\u001b[0m\u001b[0;34m,\u001b[0m \u001b[0;34m'GOAL'\u001b[0m\u001b[0;34m,\u001b[0m \u001b[0;34m'START'\u001b[0m\u001b[0;34m]\u001b[0m \u001b[0;34m+\u001b[0m \u001b[0mterrain_types\u001b[0m\u001b[0;34m]\u001b[0m\u001b[0;34m)\u001b[0m\u001b[0;34m)\u001b[0m\u001b[0;34m\u001b[0m\u001b[0m\n\u001b[0m",
      "\u001b[0;31mNameError\u001b[0m: name 'plt' is not defined"
     ]
    }
   ],
   "source": [
    "plt.matshow(frames[0], cmap=ListedColormap([grid_colors[grid_cell_types.index(terrain_type)] for terrain_type in ['EXPANDED', 'FRINGE', 'GOAL', 'START'] + terrain_types]))"
   ]
  },
  {
   "cell_type": "code",
   "execution_count": null,
   "metadata": {
    "collapsed": true
   },
   "outputs": [],
   "source": []
  },
  {
   "cell_type": "code",
   "execution_count": null,
   "metadata": {
    "collapsed": true
   },
   "outputs": [],
   "source": [
    "while True:\n",
    "    parents[current_node] = parent\n",
    "    expanded.add(current_node)\n",
    "\n",
    "    if current_node == goal:\n",
    "        break\n",
    "\n",
    "    neighbors = get_neighbors(current_node, grid)\n",
    "    for (neighbor, weight) in neighbors:\n",
    "        if neighbor not in expanded:\n",
    "            heappush(heap, (path_cost + weight, neighbor, current_node))\n",
    "\n",
    "    # plot during hook\n",
    "    if plot:\n",
    "        if current_node != start:\n",
    "            plotting_grid[current_node] = grid_values.EXPANDED.value\n",
    "\n",
    "        for (neighbor, _) in neighbors:\n",
    "            if neighbor != goal:\n",
    "                plotting_grid[neighbor] = grid_values.FRINGE.value\n",
    "\n",
    "        if plot == 'during': # nbagg is faster but it often doesn't leave a graph behind and its window doesn't look as nice\n",
    "            img.set_data(plotting_grid)\n",
    "            display.display(plt.gcf())\n",
    "            display.clear_output(wait=True)\n",
    "        elif plot == 'after':\n",
    "            frames.append(zoom(plotting_grid, zoom_aspect, order=0))\n",
    "\n",
    "    while current_node in expanded:\n",
    "        path_cost, current_node, parent = heappop(heap)\n",
    "\n",
    "# plot after hook\n",
    "if plot == 'after':\n",
    "    frames = np.dstack(frames).transpose(2, 0, 1)\n",
    "    cmap = ListedColormap([grid_colors[grid_cell_types.index(terrain_type)] for terrain_type in ['START', 'GOAL', 'FRINGE', 'EXPANDED'] + terrain_types])\n",
    "    return frames, cmap\n",
    "    with FFmpegWriter(video_path) as writer:\n",
    "        batch_size = 100\n",
    "        for i in range(np.ceil(len(frames) / batch_size).astype(int)):\n",
    "            writer.writeFrame(cmap(frames[i * batch_size : (i + 1) * batch_size]) * 255)"
   ]
  },
  {
   "cell_type": "code",
   "execution_count": 105,
   "metadata": {
    "ExecuteTime": {
     "end_time": "2017-09-08T18:14:01.589375Z",
     "start_time": "2017-09-08T18:12:26.504606Z"
    },
    "collapsed": true
   },
   "outputs": [],
   "source": []
  },
  {
   "cell_type": "code",
   "execution_count": 19,
   "metadata": {
    "ExecuteTime": {
     "end_time": "2017-09-08T16:51:53.097403Z",
     "start_time": "2017-09-08T16:51:53.089037Z"
    }
   },
   "outputs": [
    {
     "data": {
      "text/plain": [
       "['green',\n",
       " 'red',\n",
       " 'lightblue',\n",
       " 'blue',\n",
       " 'sandybrown',\n",
       " 'lightgreen',\n",
       " 'darkgreen',\n",
       " 'grey']"
      ]
     },
     "execution_count": 19,
     "metadata": {},
     "output_type": "execute_result"
    }
   ],
   "source": [
    "[grid_colors[grid_cell_types.index(terrain_type)] for terrain_type in ['START', 'GOAL', 'FRINGE', 'EXPANDED'] + terrain.terrain_types]"
   ]
  },
  {
   "cell_type": "code",
   "execution_count": 13,
   "metadata": {
    "ExecuteTime": {
     "end_time": "2017-09-08T16:46:05.556673Z",
     "start_time": "2017-09-08T16:46:05.545425Z"
    }
   },
   "outputs": [
    {
     "data": {
      "text/plain": [
       "(1199, 600, 600)"
      ]
     },
     "execution_count": 13,
     "metadata": {},
     "output_type": "execute_result"
    }
   ],
   "source": [
    "frames.shape"
   ]
  },
  {
   "cell_type": "code",
   "execution_count": null,
   "metadata": {
    "collapsed": true
   },
   "outputs": [],
   "source": [
    "cmap"
   ]
  },
  {
   "cell_type": "code",
   "execution_count": 30,
   "metadata": {
    "ExecuteTime": {
     "end_time": "2017-09-08T17:05:54.906017Z",
     "start_time": "2017-09-08T17:05:54.898874Z"
    }
   },
   "outputs": [
    {
     "data": {
      "text/plain": [
       "-1"
      ]
     },
     "execution_count": 30,
     "metadata": {},
     "output_type": "execute_result"
    }
   ],
   "source": [
    "grid_values.START.value"
   ]
  },
  {
   "cell_type": "code",
   "execution_count": 28,
   "metadata": {
    "ExecuteTime": {
     "end_time": "2017-09-08T17:05:44.876721Z",
     "start_time": "2017-09-08T17:05:44.852768Z"
    }
   },
   "outputs": [
    {
     "data": {
      "text/plain": [
       "array([-4, -3, -2,  5,  8, 13, 18])"
      ]
     },
     "execution_count": 28,
     "metadata": {},
     "output_type": "execute_result"
    }
   ],
   "source": [
    "np.unique(frames[3])"
   ]
  },
  {
   "cell_type": "code",
   "execution_count": 26,
   "metadata": {
    "ExecuteTime": {
     "end_time": "2017-09-08T16:54:35.416085Z",
     "start_time": "2017-09-08T16:54:35.125299Z"
    }
   },
   "outputs": [
    {
     "data": {
      "text/plain": [
       "<matplotlib.image.AxesImage at 0x7fe4648a47b8>"
      ]
     },
     "execution_count": 26,
     "metadata": {},
     "output_type": "execute_result"
    },
    {
     "data": {
      "image/png": "[encoded data removed]",
      "text/plain": [
       "<matplotlib.figure.Figure at 0x7fe3965a6320>"
      ]
     },
     "metadata": {},
     "output_type": "display_data"
    }
   ],
   "source": [
    "plt.imshow(cmap(frames[1]))"
   ]
  },
  {
   "cell_type": "code",
   "execution_count": null,
   "metadata": {
    "collapsed": true
   },
   "outputs": [],
   "source": [
    "# try to write the video in chunks? Is there a better way to do the conversion?\n",
    "# get a video writer, then write the frames in batches (instead of storing the batches and then writing all of them at the end)"
   ]
  },
  {
   "cell_type": "code",
   "execution_count": null,
   "metadata": {
    "collapsed": true
   },
   "outputs": [],
   "source": [
    "def heuristic(node, goal, max_weight):\n",
    "    "
   ]
  },
  {
   "cell_type": "code",
   "execution_count": null,
   "metadata": {
    "ExecuteTime": {
     "start_time": "2017-09-07T18:24:35.086Z"
    },
    "collapsed": true
   },
   "outputs": [],
   "source": [
    "node = (0, 0)\n",
    "goal = (10, 10)\n",
    "max_weight = 17"
   ]
  },
  {
   "cell_type": "code",
   "execution_count": 15,
   "metadata": {
    "ExecuteTime": {
     "end_time": "2017-09-09T04:52:55.488391Z",
     "start_time": "2017-09-09T04:52:55.481969Z"
    },
    "collapsed": true
   },
   "outputs": [],
   "source": [
    "from matplotlib import colors"
   ]
  },
  {
   "cell_type": "code",
   "execution_count": null,
   "metadata": {
    "collapsed": true
   },
   "outputs": [],
   "source": []
  },
  {
   "cell_type": "code",
   "execution_count": null,
   "metadata": {
    "collapsed": true
   },
   "outputs": [],
   "source": [
    "colors.rgb_to_hsv()"
   ]
  },
  {
   "cell_type": "code",
   "execution_count": 13,
   "metadata": {
    "ExecuteTime": {
     "end_time": "2017-09-09T04:13:25.947797Z",
     "start_time": "2017-09-09T04:12:48.085335Z"
    },
    "collapsed": true
   },
   "outputs": [],
   "source": [
    "path = dijkstra_a_star(terrain, (0, 0), tuple(np.array(terrain.grid.shape)-1), plot='after', video_path='movies/dijkstra.mp4')"
   ]
  },
  {
   "cell_type": "code",
   "execution_count": 14,
   "metadata": {
    "ExecuteTime": {
     "end_time": "2017-09-09T04:13:33.818445Z",
     "start_time": "2017-09-09T04:13:33.253682Z"
    }
   },
   "outputs": [
    {
     "data": {
      "image/png": "[encoded data removed]",
      "text/plain": [
       "<matplotlib.figure.Figure at 0x7f6f77880390>"
      ]
     },
     "metadata": {},
     "output_type": "display_data"
    }
   ],
   "source": [
    "terrain.show_path(path)"
   ]
  },
  {
   "cell_type": "code",
   "execution_count": null,
   "metadata": {
    "collapsed": true
   },
   "outputs": [],
   "source": [
    "r = np.random.rand((100, 100, 100, 3))"
   ]
  },
  {
   "cell_type": "markdown",
   "metadata": {
    "collapsed": true
   },
   "source": [
    "<video controls src='movies/dijkstra.mp4'>"
   ]
  },
  {
   "cell_type": "code",
   "execution_count": null,
   "metadata": {
    "collapsed": true
   },
   "outputs": [],
   "source": []
  },
  {
   "cell_type": "markdown",
   "metadata": {},
   "source": [
    "# A\\*"
   ]
  },
  {
   "cell_type": "code",
   "execution_count": 14,
   "metadata": {
    "ExecuteTime": {
     "end_time": "2017-08-27T04:09:40.305106Z",
     "start_time": "2017-08-27T04:09:40.298863Z"
    },
    "collapsed": true
   },
   "outputs": [],
   "source": [
    "def a_star(grid, start, goal):\n",
    "    pass"
   ]
  },
  {
   "cell_type": "code",
   "execution_count": null,
   "metadata": {
    "collapsed": true
   },
   "outputs": [],
   "source": []
  }
 ],
 "metadata": {
  "hide_input": false,
  "kernelspec": {
   "display_name": "Python 3",
   "language": "python",
   "name": "python3"
  },
  "language_info": {
   "codemirror_mode": {
    "name": "ipython",
    "version": 3
   },
   "file_extension": ".py",
   "mimetype": "text/x-python",
   "name": "python",
   "nbconvert_exporter": "python",
   "pygments_lexer": "ipython3",
   "version": "3.6.1"
  },
  "toc": {
   "colors": {
    "hover_highlight": "#DAA520",
    "navigate_num": "#000000",
    "navigate_text": "#333333",
    "running_highlight": "#FF0000",
    "selected_highlight": "#FFD700",
    "sidebar_border": "#EEEEEE",
    "wrapper_background": "#FFFFFF"
   },
   "moveMenuLeft": true,
   "nav_menu": {
    "height": "55px",
    "width": "254px"
   },
   "navigate_menu": true,
   "number_sections": true,
   "sideBar": true,
   "threshold": 4,
   "toc_cell": true,
   "toc_section_display": "block",
   "toc_window_display": false,
   "widenNotebook": false
  },
  "varInspector": {
   "cols": {
    "lenName": 16,
    "lenType": 16,
    "lenVar": 40
   },
   "kernels_config": {
    "python": {
     "delete_cmd_postfix": "",
     "delete_cmd_prefix": "del ",
     "library": "var_list.py",
     "varRefreshCmd": "print(var_dic_list())"
    },
    "r": {
     "delete_cmd_postfix": ") ",
     "delete_cmd_prefix": "rm(",
     "library": "var_list.r",
     "varRefreshCmd": "cat(var_dic_list()) "
    }
   },
   "types_to_exclude": [
    "module",
    "function",
    "builtin_function_or_method",
    "instance",
    "_Feature"
   ],
   "window_display": false
  }
 },
 "nbformat": 4,
 "nbformat_minor": 2
}
