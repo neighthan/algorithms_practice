{
 "cells": [
  {
   "cell_type": "markdown",
   "metadata": {
    "toc": "true"
   },
   "source": [
    "# Table of Contents\n",
    " <p><div class=\"lev1 toc-item\"><a href=\"#Imports,-Definitions\" data-toc-modified-id=\"Imports,-Definitions-1\"><span class=\"toc-item-num\">1&nbsp;&nbsp;</span>Imports, Definitions</a></div><div class=\"lev1 toc-item\"><a href=\"#Dijkstra\" data-toc-modified-id=\"Dijkstra-2\"><span class=\"toc-item-num\">2&nbsp;&nbsp;</span>Dijkstra</a></div><div class=\"lev1 toc-item\"><a href=\"#A*\" data-toc-modified-id=\"A*-3\"><span class=\"toc-item-num\">3&nbsp;&nbsp;</span>A*</a></div>"
   ]
  },
  {
   "cell_type": "markdown",
   "metadata": {},
   "source": [
    "[Draw a Map][map]\n",
    "\n",
    "[map]: https://neighthan.github.io/graphs_and_games/create_map.html"
   ]
  },
  {
   "cell_type": "markdown",
   "metadata": {},
   "source": [
    "# Imports, Definitions"
   ]
  },
  {
   "cell_type": "code",
   "execution_count": 1,
   "metadata": {
    "ExecuteTime": {
     "end_time": "2017-08-29T05:38:37.233993Z",
     "start_time": "2017-08-29T05:38:32.730775Z"
    },
    "collapsed": true
   },
   "outputs": [],
   "source": [
    "import numpy as np\n",
    "import pandas as pd\n",
    "import heapq\n",
    "from ast import literal_eval\n",
    "from IPython import display\n",
    "import matplotlib.pyplot as plt\n",
    "from matplotlib.colors import ListedColormap\n",
    "from collections import namedtuple\n",
    "\n",
    "%matplotlib inline"
   ]
  },
  {
   "cell_type": "code",
   "execution_count": 20,
   "metadata": {
    "ExecuteTime": {
     "end_time": "2017-08-29T06:32:54.721152Z",
     "start_time": "2017-08-29T06:32:54.683173Z"
    },
    "collapsed": true
   },
   "outputs": [],
   "source": [
    "grid_cell_types = ['WALL', 'NORMAL', 'START', 'GOAL', 'FRINGE', 'EXPANDED']\n",
    "grid_colors = ['black', 'white', 'green', 'red', 'lightblue', 'blue']\n",
    "\n",
    "cmap = ListedColormap(grid_colors)\n",
    "\n",
    "# don't worry about this part; just for fancy dotted access\n",
    "GridValues = namedtuple('GridValues', grid_cell_types)\n",
    "GridValue = namedtuple('GridValue', ['value', 'name', 'color'])\n",
    "grid = GridValues(*[GridValue(i, grid_cell_types[i], grid_colors[i]) for i in range(len(grid_colors))])\n",
    "\n",
    "\n",
    "terrain_types = ['PATH', 'ROAD', 'GRASSY', 'FOREST', 'ROCKY']\n",
    "terrain_colors = ['yellow', 'sandybrown', 'lightgreen', 'darkgreen', 'grey']\n",
    "\n",
    "terrain_cmap = ListedColormap(terrain_colors)\n",
    "\n",
    "# don't worry about this part; just for fancy dotted access\n",
    "TerrainValues = namedtuple('GridValues', terrain_types)\n",
    "TerrainValue = namedtuple('GridValue', ['value', 'name', 'color'])\n",
    "terrain_values = TerrainValues(*[TerrainValue(i, terrain_types[i], terrain_colors[i]) for i in range(len(terrain_colors))])"
   ]
  },
  {
   "cell_type": "code",
   "execution_count": 21,
   "metadata": {
    "ExecuteTime": {
     "end_time": "2017-08-29T06:32:55.376103Z",
     "start_time": "2017-08-29T06:32:55.349139Z"
    },
    "collapsed": true
   },
   "outputs": [],
   "source": [
    "def create_map():\n",
    "    grid = np.array(literal_eval(input('Paste map data here')))\n",
    "    display.clear_output()\n",
    "    return grid\n",
    "\n",
    "\n",
    "def show_maze(maze):\n",
    "    plt.figure(figsize=(20, 10))\n",
    "    img = plt.matshow(maze, cmap=cmap, vmin=-0.5, vmax=len(grid_colors)-0.5, fignum=1)\n",
    "    cbar = plt.colorbar(ticks=np.arange(0, len(grid_colors)))\n",
    "    cbar.set_ticklabels(grid_cell_types)\n",
    "\n",
    "\n",
    "def show_terrain(terrain):\n",
    "    unique_vals = np.unique(terrain)\n",
    "    terrain = pd.DataFrame(terrain).replace({unique_vals[i]: i for i in range(len(unique_vals))}).values\n",
    "    \n",
    "    plt.figure(figsize=(20, 10))\n",
    "    img = plt.matshow(terrain, cmap=terrain_cmap, fignum=1, vmin=-0.5, vmax=len(terrain_types)-0.5)\n",
    "    cbar = plt.colorbar(ticks=np.arange(0, len(terrain_types)))\n",
    "    cbar.set_ticklabels(terrain_types)"
   ]
  },
  {
   "cell_type": "code",
   "execution_count": 4,
   "metadata": {
    "ExecuteTime": {
     "end_time": "2017-08-29T05:38:52.969654Z",
     "start_time": "2017-08-29T05:38:41.907513Z"
    },
    "collapsed": true
   },
   "outputs": [],
   "source": [
    "terrain = create_map()"
   ]
  },
  {
   "cell_type": "code",
   "execution_count": 5,
   "metadata": {
    "ExecuteTime": {
     "end_time": "2017-08-29T05:38:57.482675Z",
     "start_time": "2017-08-29T05:38:56.178349Z"
    }
   },
   "outputs": [
    {
     "data": {
      "image/png": "[encoded data removed]",
      "text/plain": [
       "<matplotlib.figure.Figure at 0x7fc0c86638d0>"
      ]
     },
     "metadata": {},
     "output_type": "display_data"
    }
   ],
   "source": [
    "show_terrain(terrain)"
   ]
  },
  {
   "cell_type": "code",
   "execution_count": null,
   "metadata": {
    "collapsed": true
   },
   "outputs": [],
   "source": []
  },
  {
   "cell_type": "code",
   "execution_count": null,
   "metadata": {
    "collapsed": true
   },
   "outputs": [],
   "source": []
  },
  {
   "cell_type": "code",
   "execution_count": null,
   "metadata": {
    "collapsed": true
   },
   "outputs": [],
   "source": [
    "# save a couple of maps to disk? with some names so you can reload the ones you want\n",
    "[[5,5,5,5,5,5,5,5,5,5,5,5,18,5,5,5,5,5,5,5,5,5,5,5,5,5,8,8,8,8,8,5,5,5,5,8,8,8,8,8],[5,5,5,5,5,5,5,5,5,18,5,18,5,5,5,5,18,18,18,18,18,5,5,18,5,5,5,8,8,8,5,8,18,5,8,8,8,8,8,8],[5,5,5,5,5,5,18,18,18,18,18,18,18,18,18,18,18,18,18,18,5,18,18,18,5,18,5,8,18,5,18,5,18,8,8,8,8,8,8,5],[5,5,5,18,5,5,5,18,18,18,18,18,18,5,18,5,5,18,18,18,18,5,18,18,5,5,18,18,5,18,5,5,8,8,8,8,8,8,8,8],[5,5,5,5,18,18,18,18,18,18,18,18,18,5,5,18,18,5,18,18,18,18,18,5,5,18,18,18,18,5,5,18,18,18,8,8,8,8,8,8],[18,18,18,18,18,18,18,18,18,18,18,18,18,18,5,5,5,18,18,18,18,18,18,18,18,5,18,18,18,5,18,18,5,5,18,8,8,5,5,5],[5,18,18,5,18,18,18,18,18,18,18,18,18,5,18,18,18,5,18,18,18,18,18,5,18,18,18,18,18,18,18,18,18,18,8,18,5,5,5,5],[18,18,18,18,18,18,5,18,5,18,18,5,18,5,18,13,13,13,13,5,5,18,18,5,18,5,5,18,18,18,18,18,18,18,5,5,5,5,5,5],[5,5,18,18,18,18,18,18,18,18,18,18,18,18,13,13,13,13,18,18,5,18,5,5,5,18,5,5,18,18,18,18,18,18,5,18,5,5,5,5],[5,18,18,5,18,18,5,18,18,18,18,18,18,18,5,13,13,13,13,13,18,18,18,18,5,18,5,5,5,18,18,18,5,18,5,5,5,5,5,5],[5,5,5,5,18,5,18,18,5,18,18,18,18,13,18,13,13,13,13,13,13,13,13,5,18,18,5,5,18,5,18,18,5,18,18,5,5,5,5,5],[5,5,5,5,5,5,18,5,5,18,18,18,13,13,13,13,18,13,13,13,13,13,13,5,18,18,5,5,18,5,18,5,18,5,18,5,5,5,5,5],[5,5,5,5,5,5,5,5,18,5,18,18,18,18,5,13,13,13,13,13,13,13,18,13,13,5,5,5,18,18,18,18,18,5,18,5,5,5,5,5],[5,5,5,8,8,5,5,5,18,18,18,18,13,13,13,13,13,13,13,13,13,13,13,13,13,5,13,13,13,5,18,5,5,18,18,5,5,5,5,5],[5,8,8,5,8,8,8,18,18,13,13,13,18,5,13,13,18,13,13,13,13,5,13,13,13,13,5,13,5,5,18,18,5,5,5,5,5,5,5,5],[5,5,5,8,8,18,5,18,18,13,5,13,18,18,5,13,13,13,13,13,13,13,13,13,13,5,13,13,13,18,5,18,18,18,18,5,5,5,5,5],[5,8,8,8,8,18,18,5,13,18,13,18,18,13,13,5,5,13,13,13,13,13,13,5,13,13,5,13,13,18,18,5,18,18,18,5,5,5,5,5],[5,5,8,8,8,18,18,5,18,18,5,18,18,18,18,18,13,13,13,13,13,13,13,13,5,13,13,5,5,13,13,18,18,18,13,5,13,5,5,5],[5,8,5,5,5,5,18,5,5,5,18,18,5,5,18,13,5,5,13,5,13,13,13,13,13,5,5,5,13,5,13,18,18,13,13,5,5,5,5,5],[8,8,8,5,18,18,18,18,18,18,18,18,5,18,13,5,13,13,13,13,5,5,5,13,13,13,13,18,18,18,18,18,13,5,5,5,8,5,8,8],[8,5,8,8,18,18,18,5,18,18,5,18,18,18,18,13,13,13,13,5,18,13,18,5,5,18,13,13,5,13,5,18,18,5,8,8,5,5,8,8],[5,5,5,5,18,18,18,18,18,5,18,18,18,18,5,5,13,5,13,13,5,5,18,5,5,18,5,18,18,18,18,18,18,8,5,5,5,5,5,5],[5,5,5,5,18,18,18,18,5,5,18,5,18,18,5,5,5,18,5,5,5,18,18,18,5,5,5,5,18,18,8,5,5,5,5,5,5,5,5,5],[5,5,5,5,18,18,5,5,5,18,18,18,18,5,5,18,18,18,5,5,18,5,18,5,5,5,18,8,8,5,8,8,8,8,8,8,8,5,5,5],[5,5,5,5,5,18,5,5,18,18,18,18,18,18,18,5,5,18,18,18,5,5,5,18,18,18,18,5,5,8,8,8,8,5,5,5,5,5,5,5],[5,5,5,5,5,5,5,18,18,18,5,5,18,5,5,5,18,18,5,5,5,18,5,18,18,5,5,5,5,5,5,5,5,5,5,5,5,5,5,5],[5,5,5,5,5,5,5,18,18,5,18,18,18,5,5,5,5,5,18,18,18,18,5,5,5,5,5,5,5,5,5,5,5,5,5,5,5,5,5,5],[5,5,5,5,5,5,5,18,5,18,18,5,5,5,5,5,5,18,18,18,5,8,8,8,5,5,5,5,5,8,5,5,5,5,5,5,5,5,5,5],[5,5,5,5,5,5,18,18,5,18,5,5,5,5,5,5,5,5,5,8,5,8,5,8,5,5,5,8,8,5,5,5,5,5,5,5,5,5,5,5],[5,5,5,5,5,5,5,18,5,5,5,5,5,5,5,5,5,5,5,5,8,8,8,8,8,8,8,8,5,5,5,5,5,5,5,5,5,5,5,5]]"
   ]
  },
  {
   "cell_type": "markdown",
   "metadata": {},
   "source": [
    "# Dijkstra\n",
    "\n",
    "Dijkstra's algorithm only works on graphs with non-negative weights. There are other algorithms that you can use instead of any of the edge's might have a negative weight.\n",
    "\n",
    "Read about heapq usage here: https://docs.python.org/2/library/heapq.html"
   ]
  },
  {
   "cell_type": "code",
   "execution_count": 7,
   "metadata": {
    "ExecuteTime": {
     "end_time": "2017-08-29T06:25:16.177502Z",
     "start_time": "2017-08-29T06:25:15.832331Z"
    },
    "collapsed": true
   },
   "outputs": [],
   "source": [
    "up = np.array([-1, 0])\n",
    "down = np.array([1, 0])\n",
    "left = np.array([0, -1])\n",
    "right = np.array([0, 1])\n",
    "\n",
    "def get_neighbors(node_loc, grid, weighted=True):\n",
    "    upper_bounds = np.array(grid.shape) - 1\n",
    "    lower_bounds = np.array([0, 0])\n",
    "    \n",
    "    neighbors = []\n",
    "    for direction in [up, down, left, right]:\n",
    "        neighbor = np.minimum(np.maximum(node_loc + direction, lower_bounds), upper_bounds)\n",
    "        \n",
    "        if weighted:\n",
    "            if not np.all(neighbor == node_loc):\n",
    "                neighbors.append((tuple(neighbor), grid[tuple(neighbor)]))\n",
    "        else:\n",
    "            if not np.all(neighbor == node_loc) and grid[tuple(neighbor)] != grid_values.WALL.value:\n",
    "                neighbors.append(tuple(neighbor))\n",
    "    return neighbors"
   ]
  },
  {
   "cell_type": "code",
   "execution_count": 11,
   "metadata": {
    "ExecuteTime": {
     "end_time": "2017-08-29T06:29:42.625758Z",
     "start_time": "2017-08-29T06:29:42.610045Z"
    },
    "collapsed": true
   },
   "outputs": [],
   "source": [
    "def dijkstra(grid, start, goal, plot='', video_size=(600, 600), video_path='search.mp4'):\n",
    "    heap = []\n",
    "    expanded = set()\n",
    "    parents = {}\n",
    "    current_node = start\n",
    "    parent = None\n",
    "    \n",
    "    while True:\n",
    "        parents[current_node] = parent\n",
    "        expanded.add(current_node)\n",
    "        \n",
    "        if current_node == goal:\n",
    "            break\n",
    "        \n",
    "        for (neighbor, weight) in get_neighbors(current_node, grid):\n",
    "            if neighbor not in expanded:\n",
    "                heappush(heap, (weight, neighbor, current_node))\n",
    "\n",
    "        while current_node in expanded:\n",
    "            _, current_node, parent = heappop(heap)\n",
    "    \n",
    "    # make this into a function? we use it here and in bfs_dfs\n",
    "    path = [goal]\n",
    "    parent = parents[goal]\n",
    "    while parent is not None:\n",
    "        path.append(parent)\n",
    "        parent = parents[parent]\n",
    "    path.reverse()\n",
    "    return path"
   ]
  },
  {
   "cell_type": "code",
   "execution_count": 22,
   "metadata": {
    "ExecuteTime": {
     "end_time": "2017-08-29T06:33:01.342289Z",
     "start_time": "2017-08-29T06:33:01.308336Z"
    }
   },
   "outputs": [],
   "source": [
    "path = dijkstra(terrain, (0, 0), tuple(np.array(terrain.shape)-1))"
   ]
  },
  {
   "cell_type": "code",
   "execution_count": 25,
   "metadata": {
    "ExecuteTime": {
     "end_time": "2017-08-29T06:33:50.440093Z",
     "start_time": "2017-08-29T06:33:50.429146Z"
    },
    "collapsed": true
   },
   "outputs": [],
   "source": [
    "t = terrain.copy()\n",
    "for node in path[1: -1]:\n",
    "    t[node] = terrain_values.PATH.value"
   ]
  },
  {
   "cell_type": "code",
   "execution_count": 26,
   "metadata": {
    "ExecuteTime": {
     "end_time": "2017-08-29T06:33:51.415492Z",
     "start_time": "2017-08-29T06:33:50.796726Z"
    }
   },
   "outputs": [
    {
     "data": {
      "image/png": "[encoded data removed]",
      "text/plain": [
       "<matplotlib.figure.Figure at 0x7fc09a540860>"
      ]
     },
     "metadata": {},
     "output_type": "display_data"
    }
   ],
   "source": [
    "show_terrain(t)"
   ]
  },
  {
   "cell_type": "code",
   "execution_count": null,
   "metadata": {
    "collapsed": true
   },
   "outputs": [],
   "source": []
  },
  {
   "cell_type": "code",
   "execution_count": null,
   "metadata": {
    "collapsed": true
   },
   "outputs": [],
   "source": []
  },
  {
   "cell_type": "code",
   "execution_count": null,
   "metadata": {
    "collapsed": true
   },
   "outputs": [],
   "source": []
  },
  {
   "cell_type": "code",
   "execution_count": null,
   "metadata": {
    "collapsed": true
   },
   "outputs": [],
   "source": []
  },
  {
   "cell_type": "markdown",
   "metadata": {},
   "source": [
    "# A\\*"
   ]
  },
  {
   "cell_type": "code",
   "execution_count": 14,
   "metadata": {
    "ExecuteTime": {
     "end_time": "2017-08-27T04:09:40.305106Z",
     "start_time": "2017-08-27T04:09:40.298863Z"
    },
    "collapsed": true
   },
   "outputs": [],
   "source": [
    "def a_star(grid, start, goal):\n",
    "    pass"
   ]
  },
  {
   "cell_type": "code",
   "execution_count": null,
   "metadata": {
    "collapsed": true
   },
   "outputs": [],
   "source": []
  }
 ],
 "metadata": {
  "hide_input": false,
  "kernelspec": {
   "display_name": "Python 3",
   "language": "python",
   "name": "python3"
  },
  "language_info": {
   "codemirror_mode": {
    "name": "ipython",
    "version": 3
   },
   "file_extension": ".py",
   "mimetype": "text/x-python",
   "name": "python",
   "nbconvert_exporter": "python",
   "pygments_lexer": "ipython3",
   "version": "3.6.1"
  },
  "toc": {
   "colors": {
    "hover_highlight": "#DAA520",
    "navigate_num": "#000000",
    "navigate_text": "#333333",
    "running_highlight": "#FF0000",
    "selected_highlight": "#FFD700",
    "sidebar_border": "#EEEEEE",
    "wrapper_background": "#FFFFFF"
   },
   "moveMenuLeft": true,
   "nav_menu": {
    "height": "55px",
    "width": "254px"
   },
   "navigate_menu": true,
   "number_sections": true,
   "sideBar": true,
   "threshold": 4,
   "toc_cell": true,
   "toc_section_display": "block",
   "toc_window_display": false,
   "widenNotebook": false
  },
  "varInspector": {
   "cols": {
    "lenName": 16,
    "lenType": 16,
    "lenVar": 40
   },
   "kernels_config": {
    "python": {
     "delete_cmd_postfix": "",
     "delete_cmd_prefix": "del ",
     "library": "var_list.py",
     "varRefreshCmd": "print(var_dic_list())"
    },
    "r": {
     "delete_cmd_postfix": ") ",
     "delete_cmd_prefix": "rm(",
     "library": "var_list.r",
     "varRefreshCmd": "cat(var_dic_list()) "
    }
   },
   "types_to_exclude": [
    "module",
    "function",
    "builtin_function_or_method",
    "instance",
    "_Feature"
   ],
   "window_display": false
  }
 },
 "nbformat": 4,
 "nbformat_minor": 2
}
