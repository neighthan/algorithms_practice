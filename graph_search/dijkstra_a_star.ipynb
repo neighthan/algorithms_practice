{
 "cells": [
  {
   "cell_type": "markdown",
   "metadata": {
    "toc": "true"
   },
   "source": [
    "# Table of Contents\n",
    " <p><div class=\"lev1 toc-item\"><a href=\"#Imports,-Definitions\" data-toc-modified-id=\"Imports,-Definitions-1\"><span class=\"toc-item-num\">1&nbsp;&nbsp;</span>Imports, Definitions</a></div><div class=\"lev1 toc-item\"><a href=\"#Dijkstra\" data-toc-modified-id=\"Dijkstra-2\"><span class=\"toc-item-num\">2&nbsp;&nbsp;</span>Dijkstra</a></div><div class=\"lev1 toc-item\"><a href=\"#A*\" data-toc-modified-id=\"A*-3\"><span class=\"toc-item-num\">3&nbsp;&nbsp;</span>A*</a></div>"
   ]
  },
  {
   "cell_type": "markdown",
   "metadata": {},
   "source": [
    "[Draw a Map][map]\n",
    "\n",
    "[map]: https://neighthan.github.io/graphs_and_games/create_map.html"
   ]
  },
  {
   "cell_type": "markdown",
   "metadata": {},
   "source": [
    "# Imports, Definitions"
   ]
  },
  {
   "cell_type": "code",
   "execution_count": 1,
   "metadata": {
    "ExecuteTime": {
     "end_time": "2017-08-29T05:38:37.233993Z",
     "start_time": "2017-08-29T05:38:32.730775Z"
    },
    "collapsed": true
   },
   "outputs": [],
   "source": [
    "import numpy as np\n",
    "import pandas as pd\n",
    "import heapq\n",
    "from ast import literal_eval\n",
    "from IPython import display\n",
    "import matplotlib.pyplot as plt\n",
    "from matplotlib.colors import ListedColormap\n",
    "from collections import namedtuple\n",
    "\n",
    "%matplotlib inline"
   ]
  },
  {
   "cell_type": "code",
   "execution_count": 2,
   "metadata": {
    "ExecuteTime": {
     "end_time": "2017-08-29T05:38:37.281310Z",
     "start_time": "2017-08-29T05:38:37.249155Z"
    },
    "collapsed": true
   },
   "outputs": [],
   "source": [
    "grid_cell_types = ['WALL', 'NORMAL', 'START', 'GOAL', 'FRINGE', 'EXPANDED']\n",
    "grid_colors = ['black', 'white', 'green', 'red', 'lightblue', 'blue']\n",
    "\n",
    "cmap = ListedColormap(grid_colors)\n",
    "\n",
    "# don't worry about this part; just for fancy dotted access\n",
    "GridValues = namedtuple('GridValues', grid_cell_types)\n",
    "GridValue = namedtuple('GridValue', ['value', 'name', 'color'])\n",
    "grid = GridValues(*[GridValue(i, grid_cell_types[i], grid_colors[i]) for i in range(len(grid_colors))])\n",
    "\n",
    "\n",
    "terrain_types = ['ROAD', 'GRASSY', 'FOREST', 'ROCKY']\n",
    "terrain_colors = ['sandybrown', 'lightgreen', 'darkgreen', 'grey']\n",
    "\n",
    "terrain_cmap = ListedColormap(terrain_colors)\n",
    "\n",
    "# don't worry about this part; just for fancy dotted access\n",
    "TerrainValues = namedtuple('GridValues', terrain_types)\n",
    "TerrainValue = namedtuple('GridValue', ['value', 'name', 'color'])\n",
    "terrain_values = TerrainValues(*[TerrainValue(i, terrain_types[i], terrain_colors[i]) for i in range(len(terrain_colors))])"
   ]
  },
  {
   "cell_type": "code",
   "execution_count": 3,
   "metadata": {
    "ExecuteTime": {
     "end_time": "2017-08-29T05:38:37.370237Z",
     "start_time": "2017-08-29T05:38:37.314811Z"
    },
    "collapsed": true
   },
   "outputs": [],
   "source": [
    "def create_map():\n",
    "    grid = np.array(literal_eval(input('Paste map data here')))\n",
    "    display.clear_output()\n",
    "    return grid\n",
    "\n",
    "\n",
    "def show_maze(maze):\n",
    "    plt.figure(figsize=(20, 10))\n",
    "    img = plt.matshow(maze, cmap=cmap, vmin=-0.5, vmax=len(grid_colors)-0.5, fignum=1)\n",
    "    cbar = plt.colorbar(ticks=np.arange(0, len(grid_colors)))\n",
    "    cbar.set_ticklabels(grid_cell_types)\n",
    "\n",
    "\n",
    "def show_terrain(terrain):\n",
    "    unique_vals = np.unique(terrain)\n",
    "    terrain = pd.DataFrame(terrain).replace({unique_vals[i]: i for i in range(len(unique_vals))}).values\n",
    "    \n",
    "    plt.figure(figsize=(20, 10))\n",
    "    img = plt.matshow(terrain, cmap=terrain_cmap, fignum=1, vmin=-0.5, vmax=len(terrain_types)-0.5)\n",
    "    cbar = plt.colorbar(ticks=np.arange(0, len(terrain_types)))\n",
    "    cbar.set_ticklabels(terrain_types)"
   ]
  },
  {
   "cell_type": "code",
   "execution_count": 4,
   "metadata": {
    "ExecuteTime": {
     "end_time": "2017-08-29T05:38:52.969654Z",
     "start_time": "2017-08-29T05:38:41.907513Z"
    },
    "collapsed": true
   },
   "outputs": [],
   "source": [
    "terrain = create_map()"
   ]
  },
  {
   "cell_type": "code",
   "execution_count": 5,
   "metadata": {
    "ExecuteTime": {
     "end_time": "2017-08-29T05:38:57.482675Z",
     "start_time": "2017-08-29T05:38:56.178349Z"
    }
   },
   "outputs": [
    {
     "data": {
      "image/png": "[encoded data removed]",
      "text/plain": [
       "<matplotlib.figure.Figure at 0x7fc0c86638d0>"
      ]
     },
     "metadata": {},
     "output_type": "display_data"
    }
   ],
   "source": [
    "show_terrain(terrain)"
   ]
  },
  {
   "cell_type": "code",
   "execution_count": null,
   "metadata": {
    "collapsed": true
   },
   "outputs": [],
   "source": []
  },
  {
   "cell_type": "code",
   "execution_count": null,
   "metadata": {
    "collapsed": true
   },
   "outputs": [],
   "source": []
  },
  {
   "cell_type": "code",
   "execution_count": null,
   "metadata": {
    "collapsed": true
   },
   "outputs": [],
   "source": [
    "# save a couple of maps to disk? with some names so you can reload the ones you want\n",
    "[[5,5,5,5,5,5,5,5,5,5,5,5,18,5,5,5,5,5,5,5,5,5,5,5,5,5,8,8,8,8,8,5,5,5,5,8,8,8,8,8],[5,5,5,5,5,5,5,5,5,18,5,18,5,5,5,5,18,18,18,18,18,5,5,18,5,5,5,8,8,8,5,8,18,5,8,8,8,8,8,8],[5,5,5,5,5,5,18,18,18,18,18,18,18,18,18,18,18,18,18,18,5,18,18,18,5,18,5,8,18,5,18,5,18,8,8,8,8,8,8,5],[5,5,5,18,5,5,5,18,18,18,18,18,18,5,18,5,5,18,18,18,18,5,18,18,5,5,18,18,5,18,5,5,8,8,8,8,8,8,8,8],[5,5,5,5,18,18,18,18,18,18,18,18,18,5,5,18,18,5,18,18,18,18,18,5,5,18,18,18,18,5,5,18,18,18,8,8,8,8,8,8],[18,18,18,18,18,18,18,18,18,18,18,18,18,18,5,5,5,18,18,18,18,18,18,18,18,5,18,18,18,5,18,18,5,5,18,8,8,5,5,5],[5,18,18,5,18,18,18,18,18,18,18,18,18,5,18,18,18,5,18,18,18,18,18,5,18,18,18,18,18,18,18,18,18,18,8,18,5,5,5,5],[18,18,18,18,18,18,5,18,5,18,18,5,18,5,18,13,13,13,13,5,5,18,18,5,18,5,5,18,18,18,18,18,18,18,5,5,5,5,5,5],[5,5,18,18,18,18,18,18,18,18,18,18,18,18,13,13,13,13,18,18,5,18,5,5,5,18,5,5,18,18,18,18,18,18,5,18,5,5,5,5],[5,18,18,5,18,18,5,18,18,18,18,18,18,18,5,13,13,13,13,13,18,18,18,18,5,18,5,5,5,18,18,18,5,18,5,5,5,5,5,5],[5,5,5,5,18,5,18,18,5,18,18,18,18,13,18,13,13,13,13,13,13,13,13,5,18,18,5,5,18,5,18,18,5,18,18,5,5,5,5,5],[5,5,5,5,5,5,18,5,5,18,18,18,13,13,13,13,18,13,13,13,13,13,13,5,18,18,5,5,18,5,18,5,18,5,18,5,5,5,5,5],[5,5,5,5,5,5,5,5,18,5,18,18,18,18,5,13,13,13,13,13,13,13,18,13,13,5,5,5,18,18,18,18,18,5,18,5,5,5,5,5],[5,5,5,8,8,5,5,5,18,18,18,18,13,13,13,13,13,13,13,13,13,13,13,13,13,5,13,13,13,5,18,5,5,18,18,5,5,5,5,5],[5,8,8,5,8,8,8,18,18,13,13,13,18,5,13,13,18,13,13,13,13,5,13,13,13,13,5,13,5,5,18,18,5,5,5,5,5,5,5,5],[5,5,5,8,8,18,5,18,18,13,5,13,18,18,5,13,13,13,13,13,13,13,13,13,13,5,13,13,13,18,5,18,18,18,18,5,5,5,5,5],[5,8,8,8,8,18,18,5,13,18,13,18,18,13,13,5,5,13,13,13,13,13,13,5,13,13,5,13,13,18,18,5,18,18,18,5,5,5,5,5],[5,5,8,8,8,18,18,5,18,18,5,18,18,18,18,18,13,13,13,13,13,13,13,13,5,13,13,5,5,13,13,18,18,18,13,5,13,5,5,5],[5,8,5,5,5,5,18,5,5,5,18,18,5,5,18,13,5,5,13,5,13,13,13,13,13,5,5,5,13,5,13,18,18,13,13,5,5,5,5,5],[8,8,8,5,18,18,18,18,18,18,18,18,5,18,13,5,13,13,13,13,5,5,5,13,13,13,13,18,18,18,18,18,13,5,5,5,8,5,8,8],[8,5,8,8,18,18,18,5,18,18,5,18,18,18,18,13,13,13,13,5,18,13,18,5,5,18,13,13,5,13,5,18,18,5,8,8,5,5,8,8],[5,5,5,5,18,18,18,18,18,5,18,18,18,18,5,5,13,5,13,13,5,5,18,5,5,18,5,18,18,18,18,18,18,8,5,5,5,5,5,5],[5,5,5,5,18,18,18,18,5,5,18,5,18,18,5,5,5,18,5,5,5,18,18,18,5,5,5,5,18,18,8,5,5,5,5,5,5,5,5,5],[5,5,5,5,18,18,5,5,5,18,18,18,18,5,5,18,18,18,5,5,18,5,18,5,5,5,18,8,8,5,8,8,8,8,8,8,8,5,5,5],[5,5,5,5,5,18,5,5,18,18,18,18,18,18,18,5,5,18,18,18,5,5,5,18,18,18,18,5,5,8,8,8,8,5,5,5,5,5,5,5],[5,5,5,5,5,5,5,18,18,18,5,5,18,5,5,5,18,18,5,5,5,18,5,18,18,5,5,5,5,5,5,5,5,5,5,5,5,5,5,5],[5,5,5,5,5,5,5,18,18,5,18,18,18,5,5,5,5,5,18,18,18,18,5,5,5,5,5,5,5,5,5,5,5,5,5,5,5,5,5,5],[5,5,5,5,5,5,5,18,5,18,18,5,5,5,5,5,5,18,18,18,5,8,8,8,5,5,5,5,5,8,5,5,5,5,5,5,5,5,5,5],[5,5,5,5,5,5,18,18,5,18,5,5,5,5,5,5,5,5,5,8,5,8,5,8,5,5,5,8,8,5,5,5,5,5,5,5,5,5,5,5],[5,5,5,5,5,5,5,18,5,5,5,5,5,5,5,5,5,5,5,5,8,8,8,8,8,8,8,8,5,5,5,5,5,5,5,5,5,5,5,5]]"
   ]
  },
  {
   "cell_type": "markdown",
   "metadata": {},
   "source": [
    "# Dijkstra\n",
    "\n",
    "Dijkstra's algorithm only works on graphs with non-negative weights. There are other algorithms that you can use instead of any of the edge's might have a negative weight.\n",
    "\n",
    "Read about heapq usage here: https://docs.python.org/2/library/heapq.html"
   ]
  },
  {
   "cell_type": "code",
   "execution_count": 13,
   "metadata": {
    "ExecuteTime": {
     "end_time": "2017-08-27T04:06:28.623913Z",
     "start_time": "2017-08-27T04:06:28.618533Z"
    },
    "collapsed": true
   },
   "outputs": [],
   "source": [
    "def dijkstra(grid, start, goal):\n",
    "    pass"
   ]
  },
  {
   "cell_type": "code",
   "execution_count": null,
   "metadata": {
    "collapsed": true
   },
   "outputs": [],
   "source": []
  },
  {
   "cell_type": "code",
   "execution_count": null,
   "metadata": {
    "collapsed": true
   },
   "outputs": [],
   "source": []
  },
  {
   "cell_type": "markdown",
   "metadata": {},
   "source": [
    "# A\\*"
   ]
  },
  {
   "cell_type": "code",
   "execution_count": 14,
   "metadata": {
    "ExecuteTime": {
     "end_time": "2017-08-27T04:09:40.305106Z",
     "start_time": "2017-08-27T04:09:40.298863Z"
    },
    "collapsed": true
   },
   "outputs": [],
   "source": [
    "def a_star(grid, start, goal):\n",
    "    pass"
   ]
  },
  {
   "cell_type": "code",
   "execution_count": null,
   "metadata": {
    "collapsed": true
   },
   "outputs": [],
   "source": []
  }
 ],
 "metadata": {
  "hide_input": false,
  "kernelspec": {
   "display_name": "Python 3",
   "language": "python",
   "name": "python3"
  },
  "language_info": {
   "codemirror_mode": {
    "name": "ipython",
    "version": 3
   },
   "file_extension": ".py",
   "mimetype": "text/x-python",
   "name": "python",
   "nbconvert_exporter": "python",
   "pygments_lexer": "ipython3",
   "version": "3.6.1"
  },
  "toc": {
   "colors": {
    "hover_highlight": "#DAA520",
    "navigate_num": "#000000",
    "navigate_text": "#333333",
    "running_highlight": "#FF0000",
    "selected_highlight": "#FFD700",
    "sidebar_border": "#EEEEEE",
    "wrapper_background": "#FFFFFF"
   },
   "moveMenuLeft": true,
   "nav_menu": {
    "height": "55px",
    "width": "254px"
   },
   "navigate_menu": true,
   "number_sections": true,
   "sideBar": true,
   "threshold": 4,
   "toc_cell": true,
   "toc_section_display": "block",
   "toc_window_display": false,
   "widenNotebook": false
  },
  "varInspector": {
   "cols": {
    "lenName": 16,
    "lenType": 16,
    "lenVar": 40
   },
   "kernels_config": {
    "python": {
     "delete_cmd_postfix": "",
     "delete_cmd_prefix": "del ",
     "library": "var_list.py",
     "varRefreshCmd": "print(var_dic_list())"
    },
    "r": {
     "delete_cmd_postfix": ") ",
     "delete_cmd_prefix": "rm(",
     "library": "var_list.r",
     "varRefreshCmd": "cat(var_dic_list()) "
    }
   },
   "types_to_exclude": [
    "module",
    "function",
    "builtin_function_or_method",
    "instance",
    "_Feature"
   ],
   "window_display": false
  }
 },
 "nbformat": 4,
 "nbformat_minor": 2
}
