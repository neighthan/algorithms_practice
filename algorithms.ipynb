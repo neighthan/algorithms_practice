{
 "cells": [
  {
   "cell_type": "markdown",
   "metadata": {
    "run_control": {
     "frozen": false,
     "read_only": false
    },
    "toc": "true"
   },
   "source": [
    "# Table of Contents\n",
    " <p><div class=\"lev1 toc-item\"><a href=\"#Overview\" data-toc-modified-id=\"Overview-1\"><span class=\"toc-item-num\">1&nbsp;&nbsp;</span>Overview</a></div><div class=\"lev1 toc-item\"><a href=\"#Asymptotic-Runtime\" data-toc-modified-id=\"Asymptotic-Runtime-2\"><span class=\"toc-item-num\">2&nbsp;&nbsp;</span>Asymptotic Runtime</a></div><div class=\"lev2 toc-item\"><a href=\"#Warm-up-Problem\" data-toc-modified-id=\"Warm-up-Problem-21\"><span class=\"toc-item-num\">2.1&nbsp;&nbsp;</span>Warm-up Problem</a></div><div class=\"lev3 toc-item\"><a href=\"#Solution\" data-toc-modified-id=\"Solution-211\"><span class=\"toc-item-num\">2.1.1&nbsp;&nbsp;</span>Solution</a></div><div class=\"lev2 toc-item\"><a href=\"#Recursive-Runtime\" data-toc-modified-id=\"Recursive-Runtime-22\"><span class=\"toc-item-num\">2.2&nbsp;&nbsp;</span>Recursive Runtime</a></div><div class=\"lev3 toc-item\"><a href=\"#Solution\" data-toc-modified-id=\"Solution-221\"><span class=\"toc-item-num\">2.2.1&nbsp;&nbsp;</span>Solution</a></div><div class=\"lev1 toc-item\"><a href=\"#Sort\" data-toc-modified-id=\"Sort-3\"><span class=\"toc-item-num\">3&nbsp;&nbsp;</span>Sort</a></div><div class=\"lev2 toc-item\"><a href=\"#Merge-Sort\" data-toc-modified-id=\"Merge-Sort-31\"><span class=\"toc-item-num\">3.1&nbsp;&nbsp;</span>Merge Sort</a></div><div class=\"lev3 toc-item\"><a href=\"#Solution\" data-toc-modified-id=\"Solution-311\"><span class=\"toc-item-num\">3.1.1&nbsp;&nbsp;</span>Solution</a></div><div class=\"lev1 toc-item\"><a href=\"#Search\" data-toc-modified-id=\"Search-4\"><span class=\"toc-item-num\">4&nbsp;&nbsp;</span>Search</a></div><div class=\"lev2 toc-item\"><a href=\"#Binary-Search\" data-toc-modified-id=\"Binary-Search-41\"><span class=\"toc-item-num\">4.1&nbsp;&nbsp;</span>Binary Search</a></div><div class=\"lev3 toc-item\"><a href=\"#Solution\" data-toc-modified-id=\"Solution-411\"><span class=\"toc-item-num\">4.1.1&nbsp;&nbsp;</span>Solution</a></div><div class=\"lev2 toc-item\"><a href=\"#The-Amulet-of-Rivest\" data-toc-modified-id=\"The-Amulet-of-Rivest-42\"><span class=\"toc-item-num\">4.2&nbsp;&nbsp;</span>The Amulet of Rivest</a></div><div class=\"lev3 toc-item\"><a href=\"#Solution\" data-toc-modified-id=\"Solution-421\"><span class=\"toc-item-num\">4.2.1&nbsp;&nbsp;</span>Solution</a></div><div class=\"lev1 toc-item\"><a href=\"#PS-2---Graph-Search\" data-toc-modified-id=\"PS-2---Graph-Search-5\"><span class=\"toc-item-num\">5&nbsp;&nbsp;</span>PS 2 - Graph Search</a></div><div class=\"lev2 toc-item\"><a href=\"#Breadth-first-Search\" data-toc-modified-id=\"Breadth-first-Search-51\"><span class=\"toc-item-num\">5.1&nbsp;&nbsp;</span>Breadth-first Search</a></div><div class=\"lev3 toc-item\"><a href=\"#Solution\" data-toc-modified-id=\"Solution-511\"><span class=\"toc-item-num\">5.1.1&nbsp;&nbsp;</span>Solution</a></div><div class=\"lev2 toc-item\"><a href=\"#Depth-first-Search\" data-toc-modified-id=\"Depth-first-Search-52\"><span class=\"toc-item-num\">5.2&nbsp;&nbsp;</span>Depth-first Search</a></div><div class=\"lev3 toc-item\"><a href=\"#Solution\" data-toc-modified-id=\"Solution-521\"><span class=\"toc-item-num\">5.2.1&nbsp;&nbsp;</span>Solution</a></div><div class=\"lev2 toc-item\"><a href=\"#Additional-Learning\" data-toc-modified-id=\"Additional-Learning-53\"><span class=\"toc-item-num\">5.3&nbsp;&nbsp;</span>Additional Learning</a></div><div class=\"lev2 toc-item\"><a href=\"#8-Puzzle\" data-toc-modified-id=\"8-Puzzle-54\"><span class=\"toc-item-num\">5.4&nbsp;&nbsp;</span>8-Puzzle</a></div><div class=\"lev3 toc-item\"><a href=\"#Solution\" data-toc-modified-id=\"Solution-541\"><span class=\"toc-item-num\">5.4.1&nbsp;&nbsp;</span>Solution</a></div>"
   ]
  },
  {
   "cell_type": "code",
   "execution_count": 103,
   "metadata": {
    "collapsed": false,
    "init_cell": true,
    "run_control": {
     "frozen": false,
     "read_only": false
    }
   },
   "outputs": [],
   "source": [
    "from __future__ import division\n",
    "import numpy as np\n",
    "from collections import deque\n",
    "import heapq"
   ]
  },
  {
   "cell_type": "markdown",
   "metadata": {
    "run_control": {
     "frozen": false,
     "read_only": false
    }
   },
   "source": [
    "# Overview"
   ]
  },
  {
   "cell_type": "markdown",
   "metadata": {
    "run_control": {
     "frozen": false,
     "read_only": false
    }
   },
   "source": [
    "This notebook takes a brief look at two important algorithmic problems: sorting and searching. There are a few important aspects to consider for any given algorithm: **time** (how long does the algorithm take to complete? We are usually looking at the _asymptotic_ runtime, which we'll go into soon), **space** (how much memory is required to run the algorithm?), and **conditions** (what has to hold for the algorithm to work?). Additionally, when defining a new algorithm, one will need to prove its **correctness** (that is, that it returns the right result and does so using the specified amount of time and space).\n",
    "\n",
    "To give a grounding for understanding the run-time of an algorithm, we'll first take a look at **Big O** notation and how to calculate runtime for a recursive function, which will be useful for sorting. Next we'll implement the merge sort algorithm which is simple but efficient. For search, we'll first look at searching for an element in a sorted list using binary search including a fun application. Next we'll look at search on graphs and transforming a problem so that it can be solved by a graph search.\n",
    "\n",
    "Disclaimers: solutions are _not_ guaranteed to be correct. Feel free to let me know when you disprove something (things _should_ be mostly right, though). Also, due to time constraints or better material already existing elsewhere, I've often just given a link or suggested doing a Google search to learn more of the details of a particular method. The links given may not be the best explanations; feel free to look around.\n",
    "\n",
    "2.1, 2.2, and especially 4.2 courtesy of MIT's Fall 2015 Intro Algorithms Class taught by Professors Rivest and Indyk."
   ]
  },
  {
   "cell_type": "markdown",
   "metadata": {
    "run_control": {
     "frozen": false,
     "read_only": false
    }
   },
   "source": [
    "# Asymptotic Runtime"
   ]
  },
  {
   "cell_type": "markdown",
   "metadata": {
    "run_control": {
     "frozen": false,
     "read_only": false
    }
   },
   "source": [
    "## Warm-up Problem"
   ]
  },
  {
   "cell_type": "markdown",
   "metadata": {
    "run_control": {
     "frozen": false,
     "read_only": false
    }
   },
   "source": [
    "Do you know Big-O notation? If not, a basic understanding of that is important for comparing algorithms. It tells you the _asymptotic_ runtime of an algorithm (how the runtime behaves as the size of the input grows to infinity). A quick Google search should be informative if you need a refresher. Essentially, if $f_1 = O(f_2)$ then, for a large enough input size, $f_1$ runs at least as fast as $f_2$. One way to check this is to look at the ratio $lim_{n\\rightarrow \\infty} (f_1 / f_2)$. If the limit approaches $\\infty$, then the runtume of the top term dominates ($f_1$ is slower for large enough inputs) so $f_2 = O(f_1)$. If the limit approaches 0, then $f_1 = O(f_2)$. If it approaches a constant, then $f_1 = O(f_2)$ and $f_2 = O(f_1)$. (In this case, $f_1 = \\Theta(f_2)$). As an example:\n",
    "\n",
    "$f_1 = 3n^2$\n",
    "\n",
    "$f_2 = 100n + 10,000$\n",
    "\n",
    "$\\lim_{n \\rightarrow \\infty} \\frac{f_1}{f_2} = \\lim_{n \\rightarrow \\infty} \\frac{3n^2}{100n + 10,000} = \\infty \\implies f_2 = O(f_1)$\n",
    "\n",
    "----------------------\n",
    "\n",
    "Put the following functions in order such that each is O of the function after it."
   ]
  },
  {
   "cell_type": "markdown",
   "metadata": {
    "run_control": {
     "frozen": false,
     "read_only": false
    },
    "solution": "hidden"
   },
   "source": [
    "$f_1=4n^3$\n",
    "\n",
    "$f_2=log(100n)$\n",
    "\n",
    "$f_3=(log n)^2$\n",
    "\n",
    "$f_4=(log log n)^2$\n",
    "\n",
    "$f_5 = n \\log(100n)$\n",
    "\n",
    "$f_6=log(n^{n^2})$\n",
    "\n",
    "$f_7=log[log(n^2)]$"
   ]
  },
  {
   "cell_type": "markdown",
   "metadata": {
    "run_control": {
     "frozen": false,
     "read_only": false
    }
   },
   "source": [
    "### Solution"
   ]
  },
  {
   "cell_type": "markdown",
   "metadata": {
    "run_control": {
     "frozen": false,
     "read_only": false
    }
   },
   "source": [
    "It may help to re-write some of the functions in a simpler form first.\n",
    "\n",
    "$f_1 = \\Theta(n^3)$\n",
    "\n",
    "$f_2 = \\log(100) + \\log(n) = \\Theta(\\log(n))$\n",
    "\n",
    "$f_5 = \\Theta(n \\log(n))$\n",
    "\n",
    "$f_6 = n^2 \\log(n) $\n",
    "\n",
    "$f_7 = log[log(n^2)] = log[2 * log(n)] = log(2) + log[log(n)] = \\Theta(log[log(n)])$\n",
    "\n",
    "Then most of the solution should be clear without even looking at the limits. Using a shorthand with $\\le$, the answer is:\n",
    "\n",
    "$\\log(\\log(n)) \\le [\\log(\\log(n))]^2 \\le \\log(n) \\le \\log^2(n) \\le n\\log(n) \\le n^2 \\log(n) \\le n^3$\n",
    "\n",
    "$f_7 \\le f_4 \\le f_2 \\le f_3 \\le f_5 \\le f_6 \\le f_1$"
   ]
  },
  {
   "cell_type": "markdown",
   "metadata": {
    "run_control": {
     "frozen": false,
     "read_only": false
    }
   },
   "source": [
    "Additional learning\n",
    "\n",
    "There are a few other, similar notations that you should know as well ($\\Omega, \\Theta$, etc.), but once you know one, the others follow fairly well.\n",
    "\n",
    "Another technique that is very useful: **L'Hopital's Rule**\n",
    "\n",
    "$\\lim_{n \\rightarrow \\infty} \\frac{f_1}{f_2} = \\lim_{n \\rightarrow \\infty} \\frac{f'_1}{f'_2}$\n",
    "\n",
    "(This applies only when, if you were to plug some specific value in for $n$, the limit would be $\\frac{0}{0}$ or $\\frac{\\pm \\infty}{\\pm \\infty}$, which is generally what we have when we need this rule; see [here][lhopital] for more explanation.)\n",
    "\n",
    "\n",
    "[lhopital]: http://tutorial.math.lamar.edu/Classes/CalcI/LHospitalsRule.aspx"
   ]
  },
  {
   "cell_type": "markdown",
   "metadata": {
    "run_control": {
     "frozen": false,
     "read_only": false
    }
   },
   "source": [
    "## Recursive Runtime"
   ]
  },
  {
   "cell_type": "markdown",
   "metadata": {
    "run_control": {
     "frozen": false,
     "read_only": false
    }
   },
   "source": [
    "Another useful thing to know is how to calculate the runtime of a function given a recursive form of it. This comes in handy because often you can write an algorithm which will solve a problem by, e.g., dividing the input in half and recursing until some base case. This could give something like $T(n) = 2T(\\frac{n}{2}) + n$; the runtime $T$ on an input of size $n$ is twice the runtime on an input of half that size plus a factor of $n$ for the combining.\n",
    "\n",
    "For simple recursions, there is a theorem known as the [Master Theorem][master_theorem] which solves them easily. After reading how to handle the three different cases at the linked page, try the problems below (it's enough for now just to know what the cases and solutions are, though you can learn more about why those solutions apply to those cases from other sources if desired). For each recurrence given, solve for the asymptotic runtime.\n",
    "\n",
    "[master_theorem]: https://en.wikipedia.org/wiki/Master_theorem"
   ]
  },
  {
   "cell_type": "markdown",
   "metadata": {
    "run_control": {
     "frozen": false,
     "read_only": false
    }
   },
   "source": [
    "a) $T(n) = \\frac{3}{2} T(\\frac{n}{2}) + n$\n",
    "\n",
    "b) $T(n) = 4T(\\frac{n}{2}) + n^2$"
   ]
  },
  {
   "cell_type": "markdown",
   "metadata": {
    "run_control": {
     "frozen": false,
     "read_only": false
    }
   },
   "source": [
    "### Solution"
   ]
  },
  {
   "cell_type": "markdown",
   "metadata": {
    "hide_input": false,
    "run_control": {
     "frozen": false,
     "read_only": false
    }
   },
   "source": [
    "a) $\\Theta(n)$\n",
    "\n",
    "b) $\\Theta(n^2 log n)$"
   ]
  },
  {
   "cell_type": "markdown",
   "metadata": {
    "run_control": {
     "frozen": false,
     "read_only": false
    }
   },
   "source": [
    "Additional Learning\n",
    "\n",
    "The Master Theorem, despite its grandiose name, certainly can't handle all recurrences. If you want to learn more about solving recurrences, look up the Akra-Bazzi method; it is also very useful. Another method is to draw out a recurrence tree and compute the runtime based on how much work is done at each level (as a function of $n$) and how many levels there are."
   ]
  },
  {
   "cell_type": "markdown",
   "metadata": {
    "run_control": {
     "frozen": false,
     "read_only": false
    }
   },
   "source": [
    "# Sort"
   ]
  },
  {
   "cell_type": "markdown",
   "metadata": {
    "run_control": {
     "frozen": false,
     "read_only": false
    }
   },
   "source": [
    "## Merge Sort"
   ]
  },
  {
   "cell_type": "markdown",
   "metadata": {
    "run_control": {
     "frozen": false,
     "read_only": false
    }
   },
   "source": [
    "Sorting is a very common algorithm; you may already be familiar with multiple ways to do it. It's a good introductory algorithm because the desired outcome is simple (and easily visualizable!) and it's relevant. There are a few obvious but inefficient ways to do it (e.g. find the smallest item in the original list by scanning the entire list, put that item as the first element of a new, sorted list; repeat until the original list is empty. This is $O(n)$ for each item, so $O(n^2)$ total). Merge sort is a well known and simple algorithm that performs asymptotically as well as possible for an algorithm that has to compare all items to sort them (that may sound like it means that _no_ sorting algorithm can do better. If you're interested, look up count sort and then radix sort to see a way around having to compare all items). A proof of this isn't _too_ difficult, but I won't go into any proofs here, although they're an important part of a foundation in algorithms.\n",
    "\n",
    "Merge sort is a divide and conquer (and combine) algorithm. It works by splitting the unsorted list in half repeatedly until a base case is reached of a list of one element. A one element list is always sorted, so now instead of an unsorted $n$ element list, we have $n$ sorted, 1-element lists. Next those lists are combined with each other, two at a time (to make 2-element lists then 4-element lists until an $n$ element list is reached). The key to merge sort is that when one combines two sorted lists, one doesn't have to compare all items of both lists to each other. Suppose we are sorting so that smaller items come first. We know the smallest item of the combined list will be the smaller of the first items of the two starting lists. As an example, if I have the lists $l1=[3,6,8,9]$ and $l2 = [1,2,5,7]$ then I only check l1[0] and l2[0] to find that the smallest item is 1. This can be removed and appended to the combined list, $l12=[1]$. Then we iterate until there are no items left in $l1$ or $l2$.\n",
    "\n",
    "Taking advantage of the sortedness of the lists lets us combine two lists in linear time in their size (that is, if the two lists are length $n$, I'll have to use $O(n)$ time to combine them: each element I add to the combined list requires me to access the first element of each list ($O(1)$), compare them ($O(1)$), and then add the smaller one to the combined list ($O(1)$) (I don't actually have to remove the elements from the split lists when I add them to the combined lists; I can juse update an index of which item is to be considered next in that split list so that I don't add the same element twice. Updating the index is also $O(1)$ (access the old value, increment it, store it)). In total this is $O(1)$ per element added, and $2n$ elements will be added, so $O(n)$ overall for combining two sorted lists.\n",
    "\n",
    "-----------------------\n",
    "\n",
    "Words are not nearly so good at describing such an algorithm as a good picture is. [Here][visualization] is a nice visualization that should help. At the top you can select the type of sort you want to see. Compare merge sort with the others given. Make sure to take a look at count sort and then radix sort. They are simple enough that just from watching you may already understand the entire algorithm, yet it's rather amazing: they allow sorting some lists (where the items can be counted in a fashion like shown) in $O(n)$. I hope you are seeing how simple and elegant many incredibly useful algorithms are. When you've clicked the type of sort you want, you can click create in the bottom left to make a new list (or use the one already generated), and then click Sort and Go to watch. Their implementation of merge sort is iterative rather than recursive, but you should be able to follow it still. The boxes in the bottom right show pseudocode; only worry about it if it helps.\n",
    "\n",
    "--------------------------\n",
    "\n",
    "a) Write a recurrence for the runtime of merge sort and solve it.\n",
    "\n",
    "b) Implement an algorithm to perform merge sort on a given list. I would recommend doing it recursively first, as that may be easier, but you can do it iteratively if you wish.\n",
    "\n",
    "[visualization]: https://visualgo.net/sorting"
   ]
  },
  {
   "cell_type": "markdown",
   "metadata": {
    "collapsed": true,
    "run_control": {
     "frozen": false,
     "read_only": false
    }
   },
   "source": [
    "a) Your answer here"
   ]
  },
  {
   "cell_type": "code",
   "execution_count": 89,
   "metadata": {
    "collapsed": true,
    "init_cell": true,
    "run_control": {
     "frozen": false,
     "read_only": false
    }
   },
   "outputs": [],
   "source": [
    "def merge_sort(items):\n",
    "    pass"
   ]
  },
  {
   "cell_type": "code",
   "execution_count": 90,
   "metadata": {
    "collapsed": true,
    "init_cell": true,
    "run_control": {
     "frozen": false,
     "read_only": false
    }
   },
   "outputs": [],
   "source": [
    "# Testing code\n",
    "\n",
    "def naive_sort(items):\n",
    "    \"\"\"\n",
    "    Implements the O(n^2) sort mentioned in the problem statement; this is for runtime comparison with merge sort.\n",
    "    (This is very nearly the select sort algorithm shown in the visualization link; select sort should be faster, but only by a constant factor)\n",
    "    \"\"\"\n",
    "    sorted_list = []\n",
    "    while items:\n",
    "        smallest = min(items)\n",
    "        sorted_list.append(smallest)\n",
    "        items.remove(smallest) # I believe Python lists are arrays, so this operation is O(n) even if you know the index of the element;\n",
    "        # as we use O(n) to find smallest anyway, this doesn't change the asymptotic runtime\n",
    "    return sorted_list"
   ]
  },
  {
   "cell_type": "code",
   "execution_count": 43,
   "metadata": {
    "collapsed": false,
    "run_control": {
     "frozen": false,
     "read_only": false
    }
   },
   "outputs": [
    {
     "name": "stdout",
     "output_type": "stream",
     "text": [
      "1 loop, best of 3: 1.67 s per loop\n"
     ]
    }
   ],
   "source": [
    "%%timeit n = 10000\n",
    "sorted_list = naive_sort(list(np.random.randn(n))) # should be ~17 ms / loop for n = 1K; ~1700 ms / loop for n = 10K; I didn't time n = 100K"
   ]
  },
  {
   "cell_type": "code",
   "execution_count": 51,
   "metadata": {
    "collapsed": false,
    "run_control": {
     "frozen": false,
     "read_only": false
    }
   },
   "outputs": [
    {
     "name": "stdout",
     "output_type": "stream",
     "text": [
      "1 loop, best of 3: 372 ms per loop\n"
     ]
    }
   ],
   "source": [
    "%%timeit n = 100000\n",
    "sorted_list = merge_sort_solution(list(np.random.randn(n)))\n",
    "# my function got ~2.25 ms / loop for n = 1K; 29.5 ms / loop for n = 10K; 367 ms / loop for n = 100K"
   ]
  },
  {
   "cell_type": "code",
   "execution_count": 53,
   "metadata": {
    "collapsed": false,
    "run_control": {
     "frozen": false,
     "read_only": false
    }
   },
   "outputs": [
    {
     "name": "stdout",
     "output_type": "stream",
     "text": [
      "1 loop, best of 3: 631 ms per loop\n"
     ]
    }
   ],
   "source": [
    "%%timeit n = 1000000\n",
    "sorted_list = sorted(list(np.random.randn(n))) # I assume radix sort is used here?"
   ]
  },
  {
   "cell_type": "code",
   "execution_count": 54,
   "metadata": {
    "collapsed": false,
    "run_control": {
     "frozen": false,
     "read_only": false
    }
   },
   "outputs": [
    {
     "ename": "AssertionError",
     "evalue": "",
     "output_type": "error",
     "traceback": [
      "\u001b[0;31m---------------------------------------------------------------------------\u001b[0m",
      "\u001b[0;31mAssertionError\u001b[0m                            Traceback (most recent call last)",
      "\u001b[0;32m<ipython-input-54-ee91909b6f57>\u001b[0m in \u001b[0;36m<module>\u001b[0;34m()\u001b[0m\n\u001b[1;32m      1\u001b[0m \u001b[0;32mfor\u001b[0m \u001b[0mn\u001b[0m \u001b[0;32min\u001b[0m \u001b[0;34m[\u001b[0m\u001b[0;36m10\u001b[0m \u001b[0;34m**\u001b[0m \u001b[0mx\u001b[0m \u001b[0;32mfor\u001b[0m \u001b[0mx\u001b[0m \u001b[0;32min\u001b[0m \u001b[0mrange\u001b[0m\u001b[0;34m(\u001b[0m\u001b[0;36m1\u001b[0m\u001b[0;34m,\u001b[0m \u001b[0;36m6\u001b[0m\u001b[0;34m)\u001b[0m\u001b[0;34m]\u001b[0m\u001b[0;34m:\u001b[0m\u001b[0;34m\u001b[0m\u001b[0m\n\u001b[1;32m      2\u001b[0m     \u001b[0munsorted\u001b[0m \u001b[0;34m=\u001b[0m \u001b[0mlist\u001b[0m\u001b[0;34m(\u001b[0m\u001b[0mnp\u001b[0m\u001b[0;34m.\u001b[0m\u001b[0mrandom\u001b[0m\u001b[0;34m.\u001b[0m\u001b[0mrandn\u001b[0m\u001b[0;34m(\u001b[0m\u001b[0mn\u001b[0m\u001b[0;34m)\u001b[0m\u001b[0;34m)\u001b[0m\u001b[0;34m\u001b[0m\u001b[0m\n\u001b[0;32m----> 3\u001b[0;31m     \u001b[0;32massert\u001b[0m \u001b[0mmerge_sort\u001b[0m\u001b[0;34m(\u001b[0m\u001b[0munsorted\u001b[0m\u001b[0;34m)\u001b[0m \u001b[0;34m==\u001b[0m \u001b[0msorted\u001b[0m\u001b[0;34m(\u001b[0m\u001b[0munsorted\u001b[0m\u001b[0;34m)\u001b[0m\u001b[0;34m\u001b[0m\u001b[0m\n\u001b[0m",
      "\u001b[0;31mAssertionError\u001b[0m: "
     ]
    }
   ],
   "source": [
    "# check that the result is correct\n",
    "for n in [10 ** x for x in range(1, 6)]:\n",
    "    unsorted = list(np.random.randn(n))\n",
    "    assert merge_sort(unsorted) == sorted(unsorted)"
   ]
  },
  {
   "cell_type": "markdown",
   "metadata": {
    "run_control": {
     "frozen": false,
     "read_only": false
    }
   },
   "source": [
    "### Solution"
   ]
  },
  {
   "cell_type": "markdown",
   "metadata": {
    "run_control": {
     "frozen": false,
     "read_only": false
    }
   },
   "source": [
    "a) $T(n) = 2T(\\frac{n}{2}) + O(n) \\implies T(n) = O(n \\log(n))$\n",
    "\n",
    "We write the recurrence by seeing that merge sort splits the problem into 2 subproblems of size 1/2 of the original and, as in the problem statement, showing that $O(n)$ time is needed for combining the lists. The recurrence is solved using the Master Theorem."
   ]
  },
  {
   "cell_type": "code",
   "execution_count": 91,
   "metadata": {
    "collapsed": true,
    "init_cell": true,
    "run_control": {
     "frozen": false,
     "read_only": false
    }
   },
   "outputs": [],
   "source": [
    "def merge_sort_solution(items):\n",
    "    \"\"\"\n",
    "    \n",
    "    There are multiple ways that you can go about this. A recursive approach as below is simple but calling a function many times\n",
    "    does incur overhead and you can run into the recurrence depth limit. An iterative approach would be better to use at scale. If you didn't\n",
    "    implement it that way, think about how you would.\n",
    "    \n",
    "    NOTE: sorts the list in _ascending_ order (smaller items first); one can always reverse it if need be\n",
    "    \"\"\"\n",
    "    \n",
    "    # base cases: one or two items (you can also just do one base case: a single item)\n",
    "    if len(items) == 1:\n",
    "        return items\n",
    "    elif len(items) == 2:\n",
    "        if items[0] <= items[1]:\n",
    "            return items\n",
    "        else:\n",
    "            return [items[1], items[0]]\n",
    "    \n",
    "    # recursive case\n",
    "    else:\n",
    "        mid_point = int(len(items) / 2)\n",
    "        first_half = merge_sort_solution(items[:mid_point])\n",
    "        second_half = merge_sort_solution(items[mid_point:])\n",
    "        \n",
    "        # combine sorted lists\n",
    "        first_idx = 0\n",
    "        second_idx = 0\n",
    "        result = []\n",
    "        while True:\n",
    "            first_elem = first_half[first_idx]\n",
    "            second_elem = second_half[second_idx]\n",
    "            \n",
    "            if first_elem < second_elem:\n",
    "                result.append(first_elem)\n",
    "                first_idx += 1\n",
    "                if first_idx == len(first_half): # all items from first_half have already been added to result\n",
    "                    result.extend(second_half[second_idx:])\n",
    "                    return result\n",
    "            else:\n",
    "                result.append(second_elem)\n",
    "                second_idx += 1\n",
    "                if second_idx == len(second_half):\n",
    "                    result.extend(first_half[first_idx:])\n",
    "                    return result"
   ]
  },
  {
   "cell_type": "markdown",
   "metadata": {
    "run_control": {
     "frozen": false,
     "read_only": false
    }
   },
   "source": [
    "# Search"
   ]
  },
  {
   "cell_type": "markdown",
   "metadata": {
    "run_control": {
     "frozen": false,
     "read_only": false
    }
   },
   "source": [
    "## Binary Search"
   ]
  },
  {
   "cell_type": "markdown",
   "metadata": {
    "run_control": {
     "frozen": false,
     "read_only": false
    }
   },
   "source": [
    "Binary search is another simple but powerful algorithm of which anybody should be aware.\n",
    "* **Input**: a list $l$ of $n$ items and a value $v$\n",
    "* **Output**: the index $i$ such that $l[i] == v$ if such an $i$ exists\n",
    "* **Conditions**: $l$ must be sorted (usually one assumes ascending order)\n",
    "* **Runtime**: ??\n",
    "* **Space**: $O(1)$ besides the input\n",
    "\n",
    "Binary search works by taking advantage of the sorted nature of the list. It looks first for $v$ in the middle of $l$. If it's not there, it checks whether $v$ is greater or less than the middle value. If it is less, you recurse on the first half of $l$. If $v$ is greater than the middle value, recurse on the second half. Continue until the index of $v$ is found or shown not to exist.\n",
    "\n",
    "----------\n",
    "\n",
    "Determine the runtime of binary search (you can write a recurrence if needed) and implement it.\n",
    "\n",
    "I have provided a naive search below for comparison as well as code to time your solution and a few benchmarks."
   ]
  },
  {
   "cell_type": "code",
   "execution_count": 92,
   "metadata": {
    "collapsed": true,
    "init_cell": true,
    "run_control": {
     "frozen": false,
     "read_only": false
    }
   },
   "outputs": [],
   "source": [
    "def binary_search(array, value):\n",
    "    pass"
   ]
  },
  {
   "cell_type": "code",
   "execution_count": 93,
   "metadata": {
    "collapsed": true,
    "init_cell": true,
    "run_control": {
     "frozen": false,
     "read_only": false
    }
   },
   "outputs": [],
   "source": [
    "def naive_search(array, value):\n",
    "    \"\"\"\n",
    "    \"\"\"\n",
    "    \n",
    "    for i in range(len(array)):\n",
    "        if array[i] == value:\n",
    "            return i\n",
    "    raise ValueError"
   ]
  },
  {
   "cell_type": "code",
   "execution_count": 144,
   "metadata": {
    "collapsed": false,
    "run_control": {
     "frozen": false,
     "read_only": false
    }
   },
   "outputs": [
    {
     "name": "stdout",
     "output_type": "stream",
     "text": [
      "Timing comparison with n=1E+07\n",
      "\n",
      "Naive Search\n",
      "The slowest run took 4.72 times longer than the fastest. This could mean that an intermediate result is being cached.\n",
      "1 loop, best of 3: 207 ms per loop\n",
      "\n",
      "Your binary search implementation\n",
      "The slowest run took 14.51 times longer than the fastest. This could mean that an intermediate result is being cached.\n",
      "100000 loops, best of 3: 2.14 µs per loop\n",
      "\n",
      "Binary search recursive solution\n",
      "The slowest run took 4.23 times longer than the fastest. This could mean that an intermediate result is being cached.\n",
      "100000 loops, best of 3: 15.6 µs per loop\n",
      "\n",
      "Binary search iterative solution\n",
      "100000 loops, best of 3: 9.4 µs per loop\n",
      "\n",
      "NumPy argwhere\n",
      "100 loops, best of 3: 7.78 ms per loop\n",
      "\n",
      "List.index\n",
      "10 loops, best of 3: 86.1 ms per loop\n"
     ]
    }
   ],
   "source": [
    "n = 10 ** 7\n",
    "array = np.random.rand(n)\n",
    "array.sort()\n",
    "\n",
    "# these are timing the random choices as well, but that ought to be quite fast; you could time it separately and subtract, if you want to be even more rigorous\n",
    "# (as that time is added to all functions, though, it won't affect the rankings)\n",
    "\n",
    "# also note that the NumPy functions don't find the first instance of an element; they find _all_ instances. This should still be O(log(n)) if the value\n",
    "# only occurs once, if one does binary search and then expands around it. In general, you could do it in O(log(n) + k) if the value occurs k times\n",
    "\n",
    "# this cell takes a little while to run when timing all functions; you can comment some out if desired or play with the number of loops\n",
    "\n",
    "print \"Timing comparison with n={:.0E}\".format(n)\n",
    "\n",
    "print \"\\nNaive Search\"\n",
    "%timeit naive_search(array, np.random.choice(array))\n",
    "\n",
    "print \"\\nYour binary search implementation\"\n",
    "%timeit binary_search(array, np.random.choice(array))\n",
    "\n",
    "print \"\\nBinary search recursive solution\"\n",
    "%timeit binary_search_recursive_solution(array, np.random.choice(array))\n",
    "\n",
    "print \"\\nBinary search iterative solution\"\n",
    "%timeit binary_search_iterative_solution(array, np.random.choice(array))\n",
    "\n",
    "print \"\\nNumPy argwhere\"\n",
    "%timeit np.argwhere(array == np.random.choice(array))\n",
    "\n",
    "l = list(array)\n",
    "print \"\\nList.index\"\n",
    "%timeit l.index(np.random.choice(array))"
   ]
  },
  {
   "cell_type": "code",
   "execution_count": 53,
   "metadata": {
    "collapsed": false,
    "run_control": {
     "frozen": false,
     "read_only": false
    }
   },
   "outputs": [],
   "source": [
    "for n in [10 ** x for x in range(5, 8)]:\n",
    "    array = np.random.rand(n)\n",
    "    array.sort()\n",
    "    for _ in range(100):\n",
    "        value = np.random.choice(array)\n",
    "        assert array[binary_search(array, value)] == value"
   ]
  },
  {
   "cell_type": "markdown",
   "metadata": {
    "heading_collapsed": true,
    "run_control": {
     "frozen": false,
     "read_only": false
    }
   },
   "source": [
    "### Solution"
   ]
  },
  {
   "cell_type": "markdown",
   "metadata": {
    "hidden": true,
    "run_control": {
     "frozen": false,
     "read_only": false
    }
   },
   "source": [
    "Runtime: $O(\\log(n))$; each iteration takes O(1): compute the middle index, access the middle value, compare to the for which you are searching, and call the function again on a smaller piece of the list (see a caveat about this below). After each iteration, we halve the size of the list, so for a list of length $n$ we can do at most $\\log(n)$ iterations. Thus the entire runtime is $O(\\log(n))$.\n",
    "\n",
    "----------------\n",
    "\n",
    "Caveat for Recursive Implementation\n",
    "\n",
    "The last operation each iteration, generating the sublist where we'll search next, may or may not be O(1) based on the implementation. An iterative implementation is almost certainly O(1) because it will only change the indices between which you are searching (see code below for iterative and recursive examples). A recursive implementation may copy a piece of the list (e.g. the first half) to search on next. In Python, slicing a list (e.g. l[:(n / 2)]) copies the _references_ to the elements but not the elements themselves (the reference tells you where in memory the element is located). This is quicker and uses less memory than copying the list elements, but it still means recursing on a slice is not O(1) each time. However, we should look at how much time this copying takes overall: the first time, we copy $n/2$ references, then $n/4$, etc. This means the total number of operations for copying is\n",
    "\n",
    "$$\\frac{n}{2} + \\frac{n}{4} + \\frac{n}{8} + ... + \\frac{n}{n} = n (\\frac{1}{2} + \\frac{1}{4} + \\frac{1}{8} + ... + \\frac{1}{n}) \\approx n$$\n",
    "\n",
    "This will be too slow asymptotically. There are ways to avoid this: what we want is a _view_ of the list: something which shares the exact same memory as the original list so that nothing has to be copied. Python lists don't allow this that I'm aware of, but the NumPy library's arrays do; their slices are views. The timing tests I wrote use NumPy arrays, so the recursive implementation takes O(1) time to generate a half-size view of the array and recurse (the solution functions work for Python lists as well, but they're slower).\n",
    "\n"
   ]
  },
  {
   "cell_type": "code",
   "execution_count": 94,
   "metadata": {
    "collapsed": true,
    "hidden": true,
    "init_cell": true,
    "run_control": {
     "frozen": false,
     "read_only": false
    }
   },
   "outputs": [],
   "source": [
    "def binary_search_recursive_solution(array, value):\n",
    "    \"\"\"\n",
    "    Returns the index of value in array if present else throws an IndexError.\n",
    "    If value is present multiple times, any index of it may be returned.\n",
    "    \"\"\"\n",
    "    \n",
    "    mid_idx = int(len(array) / 2)\n",
    "    mid_val = array[mid_idx]\n",
    "    \n",
    "    if mid_val == value:\n",
    "        return mid_idx\n",
    "    elif value > mid_val:\n",
    "        return mid_idx + 1 + binary_search_solution(array[(mid_idx + 1):], value)\n",
    "        # add mid_idx + 1 so we get the proper index back into the full array \n",
    "    else: # value < mid_val\n",
    "        return binary_search_solution(array[:mid_idx], value)"
   ]
  },
  {
   "cell_type": "code",
   "execution_count": 95,
   "metadata": {
    "collapsed": true,
    "hidden": true,
    "init_cell": true,
    "run_control": {
     "frozen": false,
     "read_only": false
    }
   },
   "outputs": [],
   "source": [
    "def binary_search_iterative_solution(array, value):\n",
    "    \"\"\"\n",
    "    Returns the index of value in array if present else throws an IndexError.\n",
    "    If value is present multiple times, any index of it may be returned.\n",
    "    \"\"\"\n",
    "    low_idx = 0\n",
    "    high_idx = len(array)\n",
    "    mid_idx = int((low_idx + high_idx) / 2)\n",
    "    mid_val = array[mid_idx]\n",
    "\n",
    "    \n",
    "    while mid_val != value:\n",
    "        if value > mid_val:\n",
    "            low_idx = mid_idx + 1\n",
    "        else: # value < mid_val\n",
    "            high_idx = mid_idx # not - 1 because if we have, e.g. low=5, high=6 then mid=5; high is 'not inclusive'\n",
    "        \n",
    "        mid_idx = int((low_idx + high_idx) / 2)\n",
    "        mid_val = array[mid_idx]\n",
    "    \n",
    "    return mid_idx"
   ]
  },
  {
   "cell_type": "markdown",
   "metadata": {
    "run_control": {
     "frozen": false,
     "read_only": false
    }
   },
   "source": [
    "## The Amulet of Rivest"
   ]
  },
  {
   "cell_type": "markdown",
   "metadata": {
    "run_control": {
     "frozen": false,
     "read_only": false
    }
   },
   "source": [
    "Tales are often told about the legendary Amulet of Rivest. They say that the amulet was imbued with algorithmic energy, and its owner had the ability to solve any problem with a polynomial time algorithm. However, many thought this power was too great, and the amulet was cursed by an ancient spirit. The amulet was taken, and hidden away somewhere in one of an inﬁnite series of treasure chests. Many young algorithms students and treasure hunters have tried to ﬁnd the amulet, but all have failed.\n",
    "\n",
    "While walking back to your dorm from a late night 6.006 [Introduction to Algorithms] pset party, you encounter a dark ﬁgure, alone on dormrow. Cautious yet brave, you approach to ﬁnd the ghostly spirit of a 6.006 teaching assistant from yearspast. \"Yooooou...\" he wails out in his ghostly tenor. \"Yoooou can ﬁnd the amuuuleeet!\" He fades away into the darkness, and as you stand there questioning your sanity, you see a small package on the ground where the ghost had been. You inspect the package and ﬁnd that it contains a magic map. A map that can lead you to the Amulet of Rivest. The map doesn’t give out the answer; it can only tell you if the amulet exists within a specified integer range of chests. The map’s ghostly nature also makes it unstable. If used too many times, it will cease to exist in our mortal plane. You are nonetheless conﬁdent that you can use your algorithms knowledge to ﬁnd the amulet and achieve ultimate glory!\n",
    "\n",
    "The infinite series of chests is indexed by the positive integers. You need to implement the `find_amulet` function, which takes a single parameter $magic_map$, the magic map function. Your find amulet function should return the index $n$ of the chest containing the amulet. The magic map function simulates your magic map. Calling `magic_map(a,b)` will return `True` if and only if the amulet is in the range $[a,b)$.\n",
    "Note that Python integers may be arbitrarily large, and that float('inf') is the Python2.7 way of writing \"inﬁnity\". It looks like a ﬂoating-point number but can be compared to any integer. Note, this means that `magic_map(1, float('inf'))` will always return `True`, and `magic_map(a, a+1)` will return `True` if and only if the amulet is in chest $a$.\n",
    "\n",
    "For each test case you are only allowed $O(log n)$ calls to `magic_map`, after which that case will be considered failed.\n",
    "\n",
    "Explain why your code runs in time $\\Theta(log n)$, where $n$ is the index of the chest containing the amulet. For this analysis you may assume that calls to `magic_map` and operations on arbitrarily large integers all take $O(1)$ time.\n"
   ]
  },
  {
   "cell_type": "code",
   "execution_count": 96,
   "metadata": {
    "collapsed": true,
    "init_cell": true,
    "run_control": {
     "frozen": false,
     "read_only": false
    }
   },
   "outputs": [],
   "source": [
    "def find_amulet(magic_map):\n",
    "    pass"
   ]
  },
  {
   "cell_type": "code",
   "execution_count": 61,
   "metadata": {
    "collapsed": false,
    "run_control": {
     "frozen": false,
     "read_only": false
    }
   },
   "outputs": [
    {
     "name": "stdout",
     "output_type": "stream",
     "text": [
      "find_amulet passed all 1000 tests with locations ranging from 3 to 1.07E+301!\n",
      "find_amulet passed all 1000 tests with locations ranging from 3 to 1.07E+301!\n",
      "find_amulet passed all 1000 tests with locations ranging from 3 to 1.07E+301!\n",
      "1 loop, best of 3: 477 ms per loop\n"
     ]
    }
   ],
   "source": [
    "%timeit -n1 test_find_amulet(find_amulet_solution)"
   ]
  },
  {
   "cell_type": "markdown",
   "metadata": {
    "heading_collapsed": true,
    "run_control": {
     "frozen": false,
     "read_only": false
    }
   },
   "source": [
    "### Solution"
   ]
  },
  {
   "cell_type": "code",
   "execution_count": 97,
   "metadata": {
    "collapsed": false,
    "hidden": true,
    "init_cell": true,
    "run_control": {
     "frozen": false,
     "read_only": false
    }
   },
   "outputs": [],
   "source": [
    "def find_amulet_solution(magic_map, verbose=False):\n",
    "    \"\"\"\n",
    "    find_amulet: returns the chest index of the Amulet of Rivest\n",
    "    :param magic_map: magic_map(a, b) returns true if the Amulet is in a chest with index i where a <= i < b.\n",
    "    :return: index of chest containing amulet\n",
    "\n",
    "    NOTE: magic_map(a, a+1) returns true iff the Amulet is in chest a\n",
    "    magic_map(1, float('inf')) will always return true\n",
    "\n",
    "    Strategy:\n",
    "    Must run in O(log n), n = index of chest\n",
    "    assume n <= 2**1 = 2, try mm(1, 1+2**1) = mm(1,3);\n",
    "    if not, assume n <= 2**2 = 4; try mm(1, 1 + 2**2) = mm(1, 5), and so on (could do mm(3, 5), but the information you have\n",
    "    from this call and the last one together is the same either way and mm() doesn't run slower for larger input difference)\n",
    "\n",
    "    In general, keep guessing n <= 2**i and trying mm(1, 1 + 2**i) until found.\n",
    "    Then \"binary magic_map\" your way down through the range in which you found it (you know from the start that its in the\n",
    "    second half of that range; the first half you already checked on the way)\n",
    "    \"\"\"\n",
    "    \n",
    "    amulet_rough_location_found = False\n",
    "    first_index_to_check = 1\n",
    "    second_index_to_check = 2\n",
    "\n",
    "    calls_to_magic_map = 0\n",
    "\n",
    "    while not amulet_rough_location_found:\n",
    "        amulet_rough_location_found = magic_map(first_index_to_check, second_index_to_check)\n",
    "        calls_to_magic_map += 1\n",
    "\n",
    "        if not amulet_rough_location_found:\n",
    "            second_index_to_check *= 2\n",
    "        elif verbose:\n",
    "            print \"Amulet rough location found: [{}, {}]\".format(second_index_to_check / 2, second_index_to_check)\n",
    "\n",
    "    # you know it's in the upper half of the range; take the upper half again as the next place to check\n",
    "    first_index_to_check = int((second_index_to_check*3) / 4)\n",
    "    while not (second_index_to_check - first_index_to_check == 1):\n",
    "        if magic_map(first_index_to_check, second_index_to_check):  # it is in the upper half; try the next upper half\n",
    "            first_index_to_check += int((second_index_to_check - first_index_to_check) / 2)\n",
    "        \n",
    "        else:  # was not in the upper half; try the upper half of the lower half\n",
    "            old_first_index = first_index_to_check\n",
    "            first_index_to_check -= int((second_index_to_check - first_index_to_check) / 2)\n",
    "            second_index_to_check = old_first_index\n",
    "        \n",
    "        calls_to_magic_map += 1\n",
    "\n",
    "    if magic_map(first_index_to_check, second_index_to_check):\n",
    "        if verbose: print \"Found amulet at: %s with %s calls to magic_map\" % (first_index_to_check, calls_to_magic_map)\n",
    "        return first_index_to_check\n",
    "    else:\n",
    "        if verbose: print \"Found amulet at: %s with %s calls to magic_map\" % (first_index_to_check-1, calls_to_magic_map)\n",
    "        return first_index_to_check - 1\n",
    "        # -1 if not first_index because we always set first to upper half; it wasn't found there, so must be in lower\n",
    "\n",
    "\n",
    "def test_find_amulet(find_func, n_tests=1000, verbose=True):\n",
    "    \"\"\"\n",
    "    Tests the given find_amulet function\n",
    "    \"\"\"\n",
    "    \n",
    "    def magic_map(start, end):\n",
    "        return start <= amulet_position < end\n",
    "    \n",
    "    for i in range(1, n_tests + 1):\n",
    "        amulet_position = 2**i + int(2**i**0.5*.57) # pseudo-random locations; spans a nice range\n",
    "        found_at = find_func(magic_map)\n",
    "        \n",
    "        if not found_at == amulet_position:\n",
    "            print \"find_amulet failed! The amulet was at {}, but the function said it was at {}.\".format(amulet_position, found_at)\n",
    "            return\n",
    "        \n",
    "#         if verbose and (i % (n_tests / 10)) == 0: # it should really be too fast to matter\n",
    "#             print \"Completed {}/{} tests successfully ({}%)\".format(i, n_tests, i / n_tests * 100)\n",
    "            \n",
    "        \n",
    "    print \"find_amulet passed all {} tests with locations ranging from {} to {:.2E}!\"\\\n",
    "          .format(n_tests, 2**1 + int(2**1**0.5*.57), 2**n_tests + int(2**n_tests**0.5*.57))"
   ]
  },
  {
   "cell_type": "markdown",
   "metadata": {
    "run_control": {
     "frozen": false,
     "read_only": false
    }
   },
   "source": [
    "# PS 2 - Graph Search"
   ]
  },
  {
   "cell_type": "markdown",
   "metadata": {
    "run_control": {
     "frozen": false,
     "read_only": false
    }
   },
   "source": [
    "Graphs are very useful because many problems can be transformed into a graphical representation such that a known algorithm can give you a solution. One common problem, given a graph, is finding the best path between two nodes. There are a variety of algorithms for this problem depending on your definition of 'best' path and the sort of graph you have. Graphs come in a variety of flavors. Here we'll deal with _directed_ graphs (A->B does not imply B->A) with _unweighted_ edges (the length of a path is just the number of edges in it; equivalently, these could be weighted graphs where all edges have the same edge weight).\n",
    "\n",
    "Breadth-first search (BFS) prioritizes search near the source, spreading out slowly but searching all paths as it goes. It is _breadth_-first in the sense that it searches all nodes at a given depth from the source (e.g. two edges away) first before moving deeper (e.g. to nodes three edges away). Depth-first search (DFS) differs in that it searches deeper nodes first until there are no deeper nodes, then it moves up as little as possible to find a new path to move deeper on.\n",
    "\n",
    "Watch a visualization of BFS/DFS [here][visual]. Just skip through the intro explanation of the tool unless you're interested. Then you can draw any graph you like by clicking \"Draw Graph\" in the orange menu on the left side (or have it generate a random graph for you). Once you have a nice graph, click either BFS or DFS to watch the algorithms go (you just have to enter the start node; it doesn't take a goal node as an input but rather keeps searching until it has searched the entire graph to find the shortest paths from the source to all nodes. You can see how long it would have taken to find a given node, though, as you watch). If it moves too fast, you can pause the visualization (the controls are at the bottom of the screen) and use the forward/backward arrow keys to advance. You can also use +/- to change the speed.\n",
    "\n",
    "BFS is guaranteed to find the shortest path between the source and any other node (because it prioritizes shorter paths). DFS does not have this guarantee; as it searches longer paths first, it may find a sub-optimal path. However, both are guaranteed to find some path if a path exists. You might expect that DFS would be quicker then, but the runtime for both is $O(V + E)$ where $V$ is the number of vertices in the graph and $E$ is the number of edges (DFS _is_ useful for some things, though; it is used, for example, when doing topological sorts).\n",
    "\n",
    "---------------------\n",
    "\n",
    "I've written some code for a Node class below; you can use it if you want, adapt it, or write your own. There is also a Graph class (though you could just use a list) and a function that should help in specifying graphs. If you use the Node class below, all you need is the starting node (and to have the goal specified) in order to do your search. I wrote a little code that shows how to make a graph, set the goal node, and find a path using this code.\n",
    "\n",
    "---------------------\n",
    "\n",
    "Other useful things about graphs:\n",
    "* One generally stores a graph as either an adjacency matrix or an edge list.\n",
    "    * An adjacency matrix $A$ is a square $n x n$ matrix, where $n$ is the number of nodes, which has $a_{ij}=1$ if there is an edge between nodes $i$ and $j$, otherwise the entries are 0. One can do a large number of useful things with adjacency matrices. For example, from the definition you already know that $A^1$ gives the number of paths of length 1 or less between pairs of nodes; this property actually holds for any power as well. That is, the entries of $A^k$ are the number of paths of length $k$ or less between the given pairs of nodes. \n",
    "    * An edge list has elements that are tuples of nodes. If there is an edge between nodes $i$ and $j$ then there will be an element $i,j$ in the edge list.\n",
    "* There are a number of different _centralities_ that one can compute on graphs. These tell you which nodes are most important, for varying definitions of importance. The simplest is degree centrality: each node's degree centrality is just the same as its degree (the degree of a node is the number of edges it has; for directed graphs, one also delineates in-degree and out-degree for the number of in- and out-edges of a node).\n",
    "\n",
    "[visual]: https://visualgo.net/dfsbfs"
   ]
  },
  {
   "cell_type": "code",
   "execution_count": 98,
   "metadata": {
    "collapsed": true,
    "init_cell": true,
    "run_control": {
     "frozen": false,
     "read_only": false
    }
   },
   "outputs": [],
   "source": [
    "class Node(object):\n",
    "    \n",
    "    def __init__(self, parents, children, is_goal=False, name=''):\n",
    "        \"\"\"\n",
    "        :param parents: an iterable of Nodes that have a (directed) edge to this Node\n",
    "        :param children: an iterable of Nodes to which this Node has a (directed) edge\n",
    "        :param is_goal: whether, for a given search through a graph, this Node is the goal\n",
    "        :param name: name of this Node; only used for string representations\n",
    "        \"\"\"\n",
    "        \n",
    "        self.parents = set(parents)\n",
    "        self.children = set(children) # so children can also be passed in as a list or tuple\n",
    "        self.is_goal = is_goal\n",
    "        self.name = name\n",
    "        self.path = []\n",
    "    \n",
    "    def get_children(self):\n",
    "        return self.children\n",
    "    \n",
    "    def get_parents(self):\n",
    "        return self.parents\n",
    "    \n",
    "    def is_goal_node(self):\n",
    "        return self.is_goal\n",
    "    \n",
    "    def set_goal_status(self, boolean):\n",
    "        self.is_goal = boolean\n",
    "    \n",
    "    def name(self):\n",
    "        return self.name\n",
    "    \n",
    "    def __str__(self):\n",
    "        return \"Node {}; Parents: {}; Children: {}\".format(self.name, [parent.name for parent in self.parents],\n",
    "                                                           [child.name for child in self.children])\n",
    "    \n",
    "    def __repr__(self):\n",
    "        return self.__str__()\n",
    "\n",
    "\n",
    "# This is essentially just a list of Nodes, as an idea of a simple Graph class\n",
    "# in real life, you would probably want more functionality like the list of edges as well, the adjacency matrix of the graph,\n",
    "# ability to compute centralities, etc. There are already libraries for these sort of tasks \n",
    "class Graph(object):\n",
    "    \n",
    "    def __init__(self, nodes):\n",
    "        self.nodes = list(nodes)\n",
    "        self.start_node = None\n",
    "    \n",
    "    def __iter__(self):\n",
    "        for node in self.nodes:\n",
    "            yield node\n",
    "    \n",
    "    def __getitem__(self, index):\n",
    "        return self.nodes[index] # so you can do graph[i] and get back graph.nodes[i]\n",
    "    \n",
    "    def __str__(self):\n",
    "        return \"\\n\".join(str(node) for node in self.nodes[:5]) + \"...\"\n",
    "    \n",
    "    def __repr__(self):\n",
    "        return self.__str__()\n",
    "    \n",
    "    def __len__(self):\n",
    "        return len(self.nodes)\n",
    "    \n",
    "    def set_goal(self, node_name):\n",
    "        for node in self.nodes:\n",
    "            if node.name == node_name:\n",
    "                node.set_goal_status(True)\n",
    "                return\n",
    "        print \"Node {} was not found!\".format(node_name)\n",
    "    \n",
    "    def set_start(self, node_name):\n",
    "        for node in self.nodes:\n",
    "            if node.name == node_name:\n",
    "                self.start_node = node\n",
    "                return\n",
    "        print \"Node {} was not found!\".format(node_name)\n",
    "\n",
    "\n",
    "def make_graph(node_map):\n",
    "    \"\"\"\n",
    "    A utility function for creating graphs. In general, one makes a graph from an edge list or an adjacency matrix, but I used a 'node map'\n",
    "    here (see example below).\n",
    "    :param node_map: a dictionary where the keys are the names of nodes from which a graph should be built and the values are tuples where\n",
    "                     the first element is a list of the parents of the node and the second is a list of the children\n",
    "    \"\"\"\n",
    "    \n",
    "    # in the map, the nodes are all referenced by name; we need to set the children, etc. to the actual node instances, so first\n",
    "    # create all the necessary nodes, then update their children/parents\n",
    "    nodes_by_name = {name: Node([], [], name=name) for name in node_map.iterkeys()}\n",
    "    \n",
    "    for name in node_map:\n",
    "        parents, children = node_map[name]\n",
    "        node = nodes_by_name[name]\n",
    "        node.parents = [nodes_by_name[name] for name in parents]\n",
    "        node.children = [nodes_by_name[name] for name in children]\n",
    "    \n",
    "    return Graph(nodes_by_name.values())"
   ]
  },
  {
   "cell_type": "code",
   "execution_count": 66,
   "metadata": {
    "collapsed": false,
    "run_control": {
     "frozen": false,
     "read_only": false
    }
   },
   "outputs": [
    {
     "data": {
      "text/plain": [
       "Node A; Parents: []; Children: ['B', 'C', 'D']\n",
       "Node C; Parents: ['A']; Children: ['I']\n",
       "Node B; Parents: ['A']; Children: ['E', 'H']\n",
       "Node E; Parents: ['B']; Children: ['F']\n",
       "Node D; Parents: ['A']; Children: ['G']..."
      ]
     },
     "execution_count": 66,
     "metadata": {},
     "output_type": "execute_result"
    }
   ],
   "source": [
    "# 'node_name': (parents_list, children_list)\n",
    "node_map = {\"A\": ([], [\"B\", \"C\", \"D\"]), \"B\": ([\"A\"], [\"E\", \"H\"]), \"C\": ([\"A\"], [\"I\"]), \"D\": ([\"A\"], [\"G\"]), \"E\": ([\"B\"], [\"F\"]),\n",
    "    \"F\": ([\"E\"], [\"G\"]), \"G\": ([\"F\"], []), \"H\": ([\"B\"], []), \"I\": ([\"C\"], [])}\n",
    "graph = make_graph(node_map)\n",
    "graph"
   ]
  },
  {
   "cell_type": "code",
   "execution_count": 67,
   "metadata": {
    "collapsed": false,
    "run_control": {
     "frozen": false,
     "read_only": false
    }
   },
   "outputs": [],
   "source": [
    "# let's set node G to be the goal and use A as the start node\n",
    "graph.set_goal(\"G\")\n",
    "graph.set_start(\"A\")"
   ]
  },
  {
   "cell_type": "markdown",
   "metadata": {
    "run_control": {
     "frozen": false,
     "read_only": false
    }
   },
   "source": [
    "## Breadth-first Search"
   ]
  },
  {
   "cell_type": "markdown",
   "metadata": {
    "run_control": {
     "frozen": false,
     "read_only": false
    }
   },
   "source": [
    "Remember that for BFS, you want to start at the source node then search its children, then their children, and so on. Search all nodes at a given level before moving deeper. Think about how you want to store the children so that you can process them in the right order. Also, how will you handle it if you have something like S->A->B->C->A (that is, a node you have already visited is a child of another node you're visiting)? Between nodes at the same level, it doesn't matter what order you handle them in; you can decide.\n",
    "\n",
    "If you get stuck, I have written a few notes at the start of the solution that you can look at before reading the solution code.\n",
    "\n",
    "Feel free to use the graph above or make your own; I recommend drawing them first and using that as you write/evaluate your algorithm. During debugging, feel free to use the solution code (with verbose=True if you want more information about what it's doing)."
   ]
  },
  {
   "cell_type": "code",
   "execution_count": 99,
   "metadata": {
    "collapsed": true,
    "init_cell": true,
    "run_control": {
     "frozen": false,
     "read_only": false
    }
   },
   "outputs": [],
   "source": [
    "def bfs(start_node):\n",
    "    pass"
   ]
  },
  {
   "cell_type": "code",
   "execution_count": 71,
   "metadata": {
    "collapsed": false,
    "run_control": {
     "frozen": false,
     "read_only": false
    }
   },
   "outputs": [
    {
     "name": "stdout",
     "output_type": "stream",
     "text": [
      "Visiting A; Path is: ['A']\n",
      "Visiting B; Path is: ['A', 'B']\n",
      "Visiting C; Path is: ['A', 'C']\n",
      "Visiting D; Path is: ['A', 'D']\n",
      "Visiting E; Path is: ['A', 'B', 'E']\n",
      "Visiting H; Path is: ['A', 'B', 'H']\n",
      "Visiting I; Path is: ['A', 'C', 'I']\n",
      "Visiting G; Path is: ['A', 'D', 'G']\n",
      "Found path: ['A', 'D', 'G']\n"
     ]
    },
    {
     "data": {
      "text/plain": [
       "[Node A; Parents: []; Children: ['B', 'C', 'D'],\n",
       " Node D; Parents: ['A']; Children: ['G'],\n",
       " Node G; Parents: ['F']; Children: []]"
      ]
     },
     "execution_count": 71,
     "metadata": {},
     "output_type": "execute_result"
    }
   ],
   "source": [
    "bfs_solution(graph.start_node, verbose=True)"
   ]
  },
  {
   "cell_type": "markdown",
   "metadata": {
    "heading_collapsed": true,
    "run_control": {
     "frozen": false,
     "read_only": false
    }
   },
   "source": [
    "### Solution"
   ]
  },
  {
   "cell_type": "markdown",
   "metadata": {
    "hidden": true,
    "run_control": {
     "frozen": false,
     "read_only": false
    }
   },
   "source": [
    "For BFS, you can store the nodes you're going to visit in a **Queue**. Think of people in a queue/line to buy tickets: the ones in line the longest get to go through first; for the nodes, those that have been in the queue the longest were added first (because one adds to the end of the queue and removes from the front). For example, if the start node has three children, those will be at the front of the queue; their children will all be in line at the end, and so on.\n",
    "\n",
    "Some things to note when writing these algorithms:\n",
    "* Only add a node to the fringe if you haven't visited it before (the **fringe** is a term sometimes used for the structure (e.g. a queue) of nodes which you are going to visit, which should be in order by priority). Because you take paths in order of highest priority, once you visit a node, any other path to it is lower priority.\n",
    "    * Note, however, that _adding_ a node to the fringe doesn't mean you've visited it yet. You **visit** a node when you _take it off of_ the fringe. Paths may be added to the fringe out of order, but they must be taken off of it in order (by priority).\n",
    "* Only expand a node if you haven't already visited it (**expanding** means to add the children of a node to the fringe). \n",
    "* There are certainly different ways you could construct the path once you find the goal node. I've used a simple example here: I store nodes and the path to them in my fringe. You can't just store the path in the node itself because you may find multiple paths to a given node (you could be careful to only store the highest-priority path to a node, then it should be fine)."
   ]
  },
  {
   "cell_type": "code",
   "execution_count": 100,
   "metadata": {
    "collapsed": true,
    "hidden": true,
    "hide_input": false,
    "init_cell": true,
    "run_control": {
     "frozen": false,
     "read_only": false
    }
   },
   "outputs": [],
   "source": [
    "def bfs_solution(start_node, verbose=False):\n",
    "    \"\"\"\n",
    "    Returns the path from start_node to the goal_node (discovered using the Node::is_goal function).\n",
    "    The path is of the form of a list of nodes beginning with start_node and ending with the goal.\n",
    "    If no path to the goal node is found, an empty list is returned.\n",
    "    \"\"\"\n",
    "    \n",
    "    fringe = deque([(start_node, [start_node])]) # elements are tuples: (node, path_from_start)\n",
    "    visited = set() # never visit the same node twice; the first path to any node is the best one\n",
    "    \n",
    "    while fringe: # not empty\n",
    "        node, path = fringe.popleft()\n",
    "        \n",
    "        if node in visited:\n",
    "            continue # already found a better path to this node; ignore this one\n",
    "\n",
    "        visited.add(node)\n",
    "            \n",
    "        if verbose:\n",
    "            print \"Visiting {}; Path is: {}\".format(node.name, [path_node.name for path_node in path])\n",
    "        \n",
    "        \n",
    "        if node.is_goal_node():\n",
    "            if verbose:\n",
    "                print \"Found path: {}\".format([path_node.name for path_node in path])\n",
    "            return path\n",
    "        else:\n",
    "            for child in node.get_children():\n",
    "                if child not in visited:\n",
    "                    fringe.append((child, path + [child]))\n",
    "    if verbose:\n",
    "        print \"No path found from {} to goal.\".format(start_node)\n",
    "    return []"
   ]
  },
  {
   "cell_type": "markdown",
   "metadata": {
    "run_control": {
     "frozen": false,
     "read_only": false
    }
   },
   "source": [
    "## Depth-first Search"
   ]
  },
  {
   "cell_type": "markdown",
   "metadata": {
    "run_control": {
     "frozen": false,
     "read_only": false
    }
   },
   "source": [
    "Remember that DFS visits nodes further away first. If you can think of a good way to adapt your fringe to keep the nodes in the right order, you shouldn't need to change much from BFS to DFS.\n",
    "\n",
    "Again, there are some hints/comments at the start of the solution, though they shouldn't matter as much this time."
   ]
  },
  {
   "cell_type": "code",
   "execution_count": 75,
   "metadata": {
    "collapsed": false,
    "run_control": {
     "frozen": false,
     "read_only": false
    }
   },
   "outputs": [
    {
     "name": "stdout",
     "output_type": "stream",
     "text": [
      "Visiting A; Path is: ['A']\n",
      "Visiting D; Path is: ['A', 'D']\n",
      "Visiting G; Path is: ['A', 'D', 'G']\n",
      "Found path: ['A', 'D', 'G']\n"
     ]
    },
    {
     "data": {
      "text/plain": [
       "[Node A; Parents: []; Children: ['B', 'C', 'D'],\n",
       " Node D; Parents: ['A']; Children: ['G'],\n",
       " Node G; Parents: ['F']; Children: []]"
      ]
     },
     "execution_count": 75,
     "metadata": {},
     "output_type": "execute_result"
    }
   ],
   "source": [
    "bfs_dfs_solution(graph.start_node, 'dfs', verbose=True)"
   ]
  },
  {
   "cell_type": "markdown",
   "metadata": {
    "heading_collapsed": true,
    "run_control": {
     "frozen": false,
     "read_only": false
    }
   },
   "source": [
    "### Solution"
   ]
  },
  {
   "cell_type": "markdown",
   "metadata": {
    "hidden": true,
    "run_control": {
     "frozen": false,
     "read_only": false
    }
   },
   "source": [
    "You may notice that BFS and DFS are very similar except in how they define priority. For these graph search algorithms, all you have to do to switch between them is change how you keep your paths sorted in the fringe to get them off of it in priority order.\n",
    "   * However, in practice, sometimes you can gain a bit of a speedup by using a structure that is optimized for your definition of priority instead of one that sorts each element added by your priority definition. You can decide when implementing if it is better to make your function more adaptable or more efficient. That is, a priority queue keeps all elements sorted by a defined priority that each element has. However, instead you can just use a Queue for BFS because it also keeps things in priority-order for BFS (the priority value of each item is just implicit). For DFS, you can use a **Stack** instead of a Queue: think of a stack of books. The first ones you take off are the last ones you added. This means you remove the nodes most recently put on the fringe. For example, if the starting node has three children, those will go to the bottom of the stack. When you expand the top one, its children are added to the top, so you visit those before going back to the two remaining children of the starting node.\n",
    "\n",
    "To show how similar BFS and DFS are, I wrote a solution function that can do either algorithm with only a very minor change. To write an even more general function, you need to have some aspect of a node that you can use to compute the priorities (e.g. for BFS/DFS, add the distance from the start node and then you can compute the priorities). Then you can use a priority queue that will keep your nodes in the right order for whatever sort of priority you define."
   ]
  },
  {
   "cell_type": "code",
   "execution_count": 101,
   "metadata": {
    "collapsed": true,
    "hidden": true,
    "init_cell": true,
    "run_control": {
     "frozen": false,
     "read_only": false
    }
   },
   "outputs": [],
   "source": [
    "def bfs_dfs_solution(start_node, search_type, verbose=False):\n",
    "    \"\"\"\n",
    "    Returns the path from start_node to the goal_node (discovered using the Node::is_goal function).\n",
    "    The path is of the form of a list of nodes beginning with start_node and ending with the goal.\n",
    "    If no path to the goal node is found, an empty list is returned.\n",
    "    \"\"\"\n",
    "    \n",
    "    fringe = deque([(start_node, [start_node])]) # elements are tuples: (node, path_from_start)\n",
    "    visited = set() # never visit the same node twice; the first path to any node is the best one\n",
    "    \n",
    "    if search_type == 'bfs':\n",
    "        get_next_node = fringe.popleft\n",
    "        add_to_fringe = fringe.append\n",
    "    elif search_type == 'dfs':\n",
    "        get_next_node = fringe.pop\n",
    "        add_to_fringe = fringe.append\n",
    "    else:\n",
    "        print \"search_type must be bfs or dfs\"\n",
    "        return []\n",
    "    \n",
    "    \n",
    "    while fringe: # not empty\n",
    "        node, path = get_next_node()\n",
    "        \n",
    "        if node in visited:\n",
    "            continue\n",
    "        \n",
    "        visited.add(node)\n",
    "        \n",
    "        if verbose:\n",
    "            print \"Visiting {}; Path is: {}\".format(node.name, [path_node.name for path_node in path])\n",
    "            \n",
    "        if node.is_goal_node():\n",
    "            if verbose:\n",
    "                print \"Found path: {}\".format([path_node.name for path_node in path])\n",
    "            return path\n",
    "        else:\n",
    "            for child in node.get_children():\n",
    "                if child not in visited:\n",
    "                    add_to_fringe((child, path + [child]))\n",
    "    if verbose:\n",
    "        print \"No path found from {} to goal.\".format(start_node)\n",
    "    return []"
   ]
  },
  {
   "cell_type": "markdown",
   "metadata": {
    "run_control": {
     "frozen": false,
     "read_only": false
    }
   },
   "source": [
    "## Additional Learning"
   ]
  },
  {
   "cell_type": "markdown",
   "metadata": {
    "run_control": {
     "frozen": false,
     "read_only": false
    }
   },
   "source": [
    "There are many other graph search algorithms. A\\* is a well-known one that uses heuristics to try to speed up search (though the asymptotic runtime is the same, a good heuristic can be very powerful). For graphs with weighted edges, Dijkstra's algorithm is generally the go-to. It requires that there be no negative-weight edges, however. If there are, use Bellman-Ford. If the edge weights are small, positive integers, you can also transform a weighted graph into an unweighted one by inserting dummy nodes (e.g. A-3->B becomes A->d->d->B where d is a dummy node and 3 is the initial weight of the edge) and then use BFS. None of these algorithms should be too difficult to understand at this point.\n",
    "\n",
    "There are also multiple settings for graph search: here we were concerned with the shortest path between a single pair of nodes (single-pair shortest path (SSSP)). Sometimes you want the shortest paths from a given start node to all other nodes (single-source) or the shortest paths between all pairs of nodes (all-pairs shortest paths (APSP)). Depending on the setting, there may be a different algorithm you want (e.g. Floyd-Warshall is better than doing Bellman-Ford from each vertex). However, some algorithms are the best regardless of the setting (e.g. BFS can't be beat by any known algorithm if you just want SSSP even though it actually computes APSP in $O(V + E)$).  "
   ]
  },
  {
   "cell_type": "markdown",
   "metadata": {
    "run_control": {
     "frozen": false,
     "read_only": false
    }
   },
   "source": [
    "## 8-Puzzle"
   ]
  },
  {
   "cell_type": "markdown",
   "metadata": {
    "run_control": {
     "frozen": false,
     "read_only": false
    }
   },
   "source": [
    "Note how in the BFS/DFS problems, we didn't need to have access to the entire graph. All we needed was a node to start from, a way to find the children of that node, and a way to determine if a node was a goal (sometimes there is a single goal node, but other times there may be multiple). Thus when we are solving many graph problems, we can build the parts of the graph that we need without necessarily pre-building and storing the entire graph in memory. We don't need a _graph_ so much as:\n",
    "* a starting state\n",
    "* a way to compute the children of a given state\n",
    "* a way to determine if a state is a goal (there may be multiple, acceptable goals in some problems)\n",
    "\n",
    "A great number of problems can be framed in the context of a search across a graph by defining these three elements. This is useful becomes graph problems are well-characterized and there are already many algorithms for working with them. This exercise gives a fun example of how we can frame a problem as a graph and solve it using search.\n",
    "\n",
    "If you're not sure what an 8-puzzle is, play one quickly [here][8-puzz]. This problem is much more open-ended and may take more time, but it's also (in my opinion) the most practical; in real-life, you're going to need to find a way to convert your own problems into something that an algorithm can solve. You'll often be using/adapting known algorithms, but much of the difficulty is often just framining the problem correctly. Write a function to solve an 8-puzzle.\n",
    "\n",
    "---------------\n",
    "\n",
    "Hints (not too much to say here; if you need more help, you can look at the solution code below)\n",
    "\n",
    "* You'll probably want to start by defining an 8-puzzle class; you already know search algorithms that you can use to solve this problem once you have the class working properly. From above, you know the three elements you need in such a class. From playing the game a little, it should be clear which states are reachable from a given one (i.e. one slide (one edge) can get you from a given position to which others? Those are the children of that position).\n",
    "* You need to find a way to store the configuration of the board and to tell what new configurations you can reach from it.\n",
    "* You'll probably want a decent string representation of your 8-puzzle class so that you can watch the steps of solving it for debugging.\n",
    "* As I don't know how you'll write your Puzzle class, you'll have to do your own testing for correctness; you can see what I tested at the end of the solution code. Essentially, I gave it a couple of puzzles to start with and checked that it computed the right paths (or found no solution if there was none; be aware that an 8-puzzle is not always solvable. There's a proof about what has to hold for any given state for it to be solvable; I use that because I was aware of it before I tried to code this up, but I don't think you need to).\n",
    "* If you want to compare with something (though my code hasn't been tested that thoroughly), I've written an example with my code below; you can change the Puzzle to be a simpler one that you're debugging on if needed\n",
    "\n",
    "[8-puzz]: http://mypuzzle.org/sliding"
   ]
  },
  {
   "cell_type": "code",
   "execution_count": 128,
   "metadata": {
    "collapsed": true,
    "run_control": {
     "frozen": false,
     "read_only": false
    }
   },
   "outputs": [],
   "source": [
    "# Your code here"
   ]
  },
  {
   "cell_type": "code",
   "execution_count": 129,
   "metadata": {
    "collapsed": false
   },
   "outputs": [
    {
     "name": "stdout",
     "output_type": "stream",
     "text": [
      "(0, 8, 3)\n",
      "(6, 4, 7)\n",
      "(1, 2, 5)\n",
      "\n",
      "(8, 0, 3)\n",
      "(6, 4, 7)\n",
      "(1, 2, 5)\n",
      "\n",
      "(8, 4, 3)\n",
      "(6, 0, 7)\n",
      "(1, 2, 5)\n",
      "\n",
      "(8, 4, 3)\n",
      "(0, 6, 7)\n",
      "(1, 2, 5)\n",
      "\n",
      "(8, 4, 3)\n",
      "(1, 6, 7)\n",
      "(0, 2, 5)\n",
      "\n",
      "(8, 4, 3)\n",
      "(1, 6, 7)\n",
      "(2, 0, 5)\n",
      "\n",
      "(8, 4, 3)\n",
      "(1, 0, 7)\n",
      "(2, 6, 5)\n",
      "\n",
      "(8, 4, 3)\n",
      "(0, 1, 7)\n",
      "(2, 6, 5)\n",
      "\n",
      "(0, 4, 3)\n",
      "(8, 1, 7)\n",
      "(2, 6, 5)\n",
      "\n",
      "(4, 0, 3)\n",
      "(8, 1, 7)\n",
      "(2, 6, 5)\n",
      "\n",
      "(4, 1, 3)\n",
      "(8, 0, 7)\n",
      "(2, 6, 5)\n",
      "\n",
      "(4, 1, 3)\n",
      "(8, 7, 0)\n",
      "(2, 6, 5)\n",
      "\n",
      "(4, 1, 3)\n",
      "(8, 7, 5)\n",
      "(2, 6, 0)\n",
      "\n",
      "(4, 1, 3)\n",
      "(8, 7, 5)\n",
      "(2, 0, 6)\n",
      "\n",
      "(4, 1, 3)\n",
      "(8, 7, 5)\n",
      "(0, 2, 6)\n",
      "\n",
      "(4, 1, 3)\n",
      "(0, 7, 5)\n",
      "(8, 2, 6)\n",
      "\n",
      "(4, 1, 3)\n",
      "(7, 0, 5)\n",
      "(8, 2, 6)\n",
      "\n",
      "(4, 1, 3)\n",
      "(7, 2, 5)\n",
      "(8, 0, 6)\n",
      "\n",
      "(4, 1, 3)\n",
      "(7, 2, 5)\n",
      "(0, 8, 6)\n",
      "\n",
      "(4, 1, 3)\n",
      "(0, 2, 5)\n",
      "(7, 8, 6)\n",
      "\n",
      "(0, 1, 3)\n",
      "(4, 2, 5)\n",
      "(7, 8, 6)\n",
      "\n",
      "(1, 0, 3)\n",
      "(4, 2, 5)\n",
      "(7, 8, 6)\n",
      "\n",
      "(1, 2, 3)\n",
      "(4, 0, 5)\n",
      "(7, 8, 6)\n",
      "\n",
      "(1, 2, 3)\n",
      "(4, 5, 0)\n",
      "(7, 8, 6)\n",
      "\n",
      "(1, 2, 3)\n",
      "(4, 5, 6)\n",
      "(7, 8, 0)\n",
      "\n"
     ]
    }
   ],
   "source": [
    "solution = solve_puzzle(Puzzle((0, 8, 3, 6, 4, 7, 1, 2, 5)))\n",
    "for state in solution:\n",
    "    print state\n",
    "    print \"\""
   ]
  },
  {
   "cell_type": "markdown",
   "metadata": {
    "heading_collapsed": true,
    "run_control": {
     "frozen": false,
     "read_only": false
    }
   },
   "source": [
    "### Solution"
   ]
  },
  {
   "cell_type": "code",
   "execution_count": 142,
   "metadata": {
    "collapsed": true,
    "hidden": true,
    "init_cell": true,
    "run_control": {
     "frozen": false,
     "read_only": false
    }
   },
   "outputs": [],
   "source": [
    "class Puzzle(object):\n",
    "    '''\n",
    "    Implement a puzzle data structure for the 8-puzzle.\n",
    "\n",
    "    Your Puzzle class must define initial_state, goal_state, and next_states(s) as\n",
    "    specified in the problem statement\n",
    "    '''\n",
    "    \n",
    "    __slots__ = [\"initial_state\", \"goal_state\"] # you don't have to define this; it just saves a little space. A micro-optimization, really\n",
    "\n",
    "    def __init__(self, starting_state):\n",
    "        \"\"\"\n",
    "        __init__(self, starting_state): initializes the Puzzle with the given argument\n",
    "        as the initial state; must initialize initial_state and goal_state\n",
    "        ARGS:\n",
    "          starting_state - the starting state of the puzzle\n",
    "        \"\"\"\n",
    "        self.initial_state = starting_state\n",
    "        self.goal_state = (1, 2, 3, 4, 5, 6, 7, 8, 0) # 0 denotes the blank space\n",
    "\n",
    "    def __len__(self):\n",
    "        return 9\n",
    "\n",
    "    def __getitem__(self, index):\n",
    "        return self.initial_state[index] # so you can do Puzzle[i] and get back Puzzle.initial_state[i]\n",
    "\n",
    "    def __str__(self):\n",
    "        return str(self.initial_state[:3]) + \"\\n\" + str(self.initial_state[3:6]) + \"\\n\" + str(self.initial_state[6:])\n",
    "    \n",
    "    def __repr__(self):\n",
    "        return self.__str__()\n",
    "\n",
    "    def swap(self, state, i, j):\n",
    "        \"\"\"\n",
    "        Swaps two elements in the given state tuple.\n",
    "        :param state: a tuple with the current state of a puzzle\n",
    "        :type state: tuple\n",
    "        :param i: index of one element to swap\n",
    "        :param j: index of other element to swap; j != i\n",
    "        :return: a tuple which is a copy of state except the elements at i, j are swapped\n",
    "        :rtype: tuple\n",
    "        \"\"\"\n",
    "        first = min(i, j)\n",
    "        second = max(i, j)\n",
    "        swapped = state[:first] + (state[second],) + state[first+1:second] + (state[first],) + state[second+1:]\n",
    "        # if you make states lists instead of tuples, you can do this more easily, but I wanted them immutable\n",
    "        return swapped\n",
    "\n",
    "    def next_states(self, state):\n",
    "        \"\"\"\n",
    "        Returns a list of all the states reachable from the given state with one slide\n",
    "        :type state: tuple\n",
    "        :param state: the state from which to\n",
    "        :rtype: list[tuple]\n",
    "        :return: a list of states that are reachable with one slide\n",
    "        \"\"\"\n",
    "        next_states = []\n",
    "        blank_index = state.index(0) # where the blank spot is; slides have to move a piece to here\n",
    "\n",
    "        # this is the trickiest part. The slides we can do are left, right, up/top, and down/bottom. However, all of these can only be done if the\n",
    "        # blank is in the center. If the blank is on the left side, we can't slide left; if on the top, we can't slide up; etc.\n",
    "        # Thus we check where the blank spot is, and each side that it's not on is a valid direction to move\n",
    "        \n",
    "        left_indices = (0, 3, 6)\n",
    "        right_indices = (2, 5, 8)\n",
    "        top_indices = (0, 1, 2)\n",
    "        bottom_indices = (6, 7, 8)\n",
    "        left_swap = -1 # sliding left means the index goes down one\n",
    "        right_swap = 1 # up one for a right slide\n",
    "        top_swap = -3 # down 3 for a top slide\n",
    "        bottom_swap = 3 # up three for a bottom slide\n",
    "\n",
    "        valid_swaps = []\n",
    "        for indices, swap_value in zip([left_indices, right_indices, top_indices, bottom_indices], [left_swap, right_swap, top_swap, bottom_swap]):\n",
    "            if blank_index not in indices: valid_swaps.append(swap_value)\n",
    "\n",
    "        for swap_value in valid_swaps:\n",
    "            next_states.append(self.swap(state, blank_index, blank_index + swap_value))\n",
    "\n",
    "        return next_states\n",
    "\n",
    "\n",
    "class PuzzleNode(Puzzle):\n",
    "    \"\"\"\n",
    "    Helper class for solving Puzzles. Keeps track of parent PuzzleNode and its own puzzle state as a tuple\n",
    "    \"\"\"\n",
    "    \n",
    "    __slots__ = [\"parent\", \"initial_state\", \"goal_state\"]\n",
    "\n",
    "    def __init__(self, parent, puzzle_state):\n",
    "        \"\"\"\n",
    "        :param parent:\n",
    "        :type parent: PuzzleNode\n",
    "        :param puzzle_state:\n",
    "        :type puzzle_state: tuple\n",
    "        :return:\n",
    "        \"\"\"\n",
    "        \n",
    "        self.parent = parent\n",
    "        # super(Puzzle, self).__init__(puzzle_state)\n",
    "        Puzzle.__init__(self, puzzle_state)\n",
    "\n",
    "#     def __str__(self):\n",
    "#         if self.parent is None:\n",
    "#             return \"Parent:\\n\" + \"None\" + \"\\nSelf:\\n\" + Puzzle.__str__(self)\n",
    "#         else:\n",
    "#             return \"Parent:\\n\" + Puzzle.__str__(self.parent) + \"\\nSelf:\\n\" + Puzzle.__str__(self)\n",
    "\n",
    "    def get_parent(self):\n",
    "        return self.parent\n",
    "\n",
    "    def get_state(self):\n",
    "        return self.initial_state\n",
    "\n",
    "    def get_children(self):\n",
    "        \"\"\"\n",
    "        Returns a list of all of the children of the given PuzzleNode\n",
    "        :return: a list of the children of the given PuzzleNode\n",
    "        :rtype: list[PuzzleNode]\n",
    "        \"\"\"\n",
    "        return [PuzzleNode(self, state) for state in self.next_states(self.initial_state)]\n",
    "\n",
    "    def get_path(self):\n",
    "        \"\"\"\n",
    "        :return:\n",
    "        :rtype: list[tuple]\n",
    "        \"\"\"\n",
    "        if self.parent is None:\n",
    "            return [self]\n",
    "        else:\n",
    "            return self.parent.get_path() + [self]\n",
    "\n",
    "\n",
    "def solve_puzzle(P):\n",
    "    \"\"\"\n",
    "    Given an 8-puzzle data structure, returns the shortest sequence of states that can be used to solve the puzzle\n",
    "    \n",
    "    :param P: the 8-puzzle, with initial_state, goal_state, and next_states(s) defined\n",
    "    :type P: Puzzle\n",
    "    :return: the sequence of states used to solve the puzzle in the fewest moves (as a list); if there are no possible solutions,\n",
    "             return the empty list\n",
    "    :rtype: list[tuple]\n",
    "    \"\"\"\n",
    "    \n",
    "    # you should be able to just use your BFS implementation from before as long as you standardize your Puzzle class functions\n",
    "    # (like get_children and is_goal) with those of your Node class; I wrote this code before writing the Node class or the BFS/DFS\n",
    "    # functions above; it does the same as my BFS, though, except that for unsolvable Puzzles, it doesn't bother trying\n",
    "    # (it's not meant to be obvious that the parity of the number of inversions shows whether the Puzzle is solvable; there's a proof\n",
    "    # of that, however)\n",
    "    \n",
    "    puzzle_root = PuzzleNode(None, P.initial_state)\n",
    "    num_inversions = 0\n",
    "    for i in range(len(puzzle_root)):\n",
    "        if puzzle_root[i] == 0: continue  # ignore blank space\n",
    "        for j in range(i):  # all spaces before this one\n",
    "            if puzzle_root[j] == 0: continue\n",
    "            if puzzle_root[j] > puzzle_root[i]:\n",
    "                num_inversions += 1\n",
    "    if num_inversions % 2 != 0: return []\n",
    "    \n",
    "    # BFS\n",
    "    nodes_to_process = deque([puzzle_root])\n",
    "    nodes_visited = set()\n",
    "    while nodes_to_process:\n",
    "        node = nodes_to_process.popleft()\n",
    "        if node.initial_state in nodes_visited:\n",
    "            continue\n",
    "        elif node.initial_state == puzzle_root.goal_state:\n",
    "            return node.get_path()\n",
    "        else:\n",
    "            nodes_visited.add(node.initial_state)\n",
    "            nodes_to_process.extend([child for child in node.get_children() if child.initial_state not in nodes_visited])\n",
    "    return []  # if this is reached, there was no valid path\n",
    "\n",
    "\n",
    "def simple_test():\n",
    "    # Test the Puzzle class and getting next states\n",
    "    s = (1, 2, 3, 4, 0, 6, 7, 5, 8)\n",
    "    P = Puzzle(s)\n",
    "    assert P.initial_state == (1, 2, 3, 4, 0, 6, 7, 5, 8)\n",
    "    assert P.goal_state == (1, 2, 3, 4, 5, 6, 7, 8, 0)\n",
    "    s_next_states = P.next_states(s)\n",
    "    state_solutions = [(1, 0, 3, 4, 2, 6, 7, 5, 8), (1, 2, 3, 0, 4, 6, 7, 5, 8), (1, 2, 3, 4, 6, 0, 7, 5, 8),\n",
    "                        (1, 2, 3, 4, 5, 6, 7, 0, 8)]\n",
    "    for i in range(4):\n",
    "        assert s_next_states[i] in state_solutions\n",
    "\n",
    "    # Test finding a solution when the Puzzle is and is not solvable\n",
    "    unsolvable_puzzles = [Puzzle((5, 1, 8, 0, 2, 3, 4, 6, 7))]\n",
    "    unsolvable_puzzle_solutions = []\n",
    "    for puzzle in unsolvable_puzzles:\n",
    "        unsolvable_puzzle_solutions.append(solve_puzzle(puzzle))\n",
    "    for solution in unsolvable_puzzle_solutions:\n",
    "        assert solution == []\n",
    "\n",
    "    solution_path = [(1, 2, 3, 4, 0, 6, 7, 5, 8), (1, 2, 3, 4, 5, 6, 7, 0, 8), (1, 2, 3, 4, 5, 6, 7, 8, 0)]\n",
    "    solution = solve_puzzle(P)\n",
    "    for i in range(len(solution)):\n",
    "        assert solution[i].initial_state == solution_path[i]\n",
    "    print \"Tests passed.\""
   ]
  },
  {
   "cell_type": "code",
   "execution_count": 143,
   "metadata": {
    "collapsed": false,
    "hidden": true,
    "run_control": {
     "frozen": false,
     "read_only": false
    }
   },
   "outputs": [
    {
     "name": "stdout",
     "output_type": "stream",
     "text": [
      "Tests passed.\n"
     ]
    }
   ],
   "source": [
    "simple_test()"
   ]
  }
 ],
 "metadata": {
  "anaconda-cloud": {},
  "celltoolbar": "Initialisation Cell",
  "kernelspec": {
   "display_name": "Python [conda root]",
   "language": "python",
   "name": "conda-root-py"
  },
  "language_info": {
   "codemirror_mode": {
    "name": "ipython",
    "version": 2
   },
   "file_extension": ".py",
   "mimetype": "text/x-python",
   "name": "python",
   "nbconvert_exporter": "python",
   "pygments_lexer": "ipython2",
   "version": "2.7.12"
  },
  "latex_envs": {
   "LaTeX_envs_menu_present": true,
   "bibliofile": "biblio.bib",
   "cite_by": "apalike",
   "current_citInitial": 1,
   "eqLabelWithNumbers": true,
   "eqNumInitial": 1,
   "labels_anchors": false,
   "latex_user_defs": false,
   "report_style_numbering": false,
   "user_envs_cfg": false
  },
  "toc": {
   "colors": {
    "hover_highlight": "#DAA520",
    "running_highlight": "#FF0000",
    "selected_highlight": "#FFD700"
   },
   "moveMenuLeft": true,
   "nav_menu": {
    "height": "234px",
    "width": "211px"
   },
   "navigate_menu": true,
   "number_sections": true,
   "sideBar": true,
   "threshold": 4,
   "toc_cell": true,
   "toc_section_display": "block",
   "toc_window_display": false
  }
 },
 "nbformat": 4,
 "nbformat_minor": 2
}
